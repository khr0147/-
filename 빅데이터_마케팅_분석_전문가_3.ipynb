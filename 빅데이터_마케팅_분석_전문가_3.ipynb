{
  "nbformat": 4,
  "nbformat_minor": 0,
  "metadata": {
    "colab": {
      "provenance": []
    },
    "kernelspec": {
      "name": "python3",
      "display_name": "Python 3"
    },
    "language_info": {
      "name": "python"
    }
  },
  "cells": [
    {
      "cell_type": "markdown",
      "source": [
        "#2023.01.05\n",
        "\n",
        "#머신러닝"
      ],
      "metadata": {
        "id": "BpNYEfPHivBm"
      }
    },
    {
      "cell_type": "code",
      "source": [
        "import pandas as pd\n",
        "from sklearn.model_selection import train_test_split #train set / test set 나눠서 작동\n",
        "from sklearn.model_selection import cross_val_score # cross_val_score : 교차검증 함수\n",
        "from sklearn.neighbors import KNeighborsRegressor # KNeighborsRegressor : 최근접 이웃 회귀"
      ],
      "metadata": {
        "id": "1WzNb8vRi5EG"
      },
      "execution_count": null,
      "outputs": []
    },
    {
      "cell_type": "code",
      "source": [
        "df = pd.read_csv(\"/content/Ashopping (1).csv\", encoding = \"cp949\" )\n",
        "df"
      ],
      "metadata": {
        "colab": {
          "base_uri": "https://localhost:8080/",
          "height": 485
        },
        "id": "yPhNvIh7jmwD",
        "outputId": "15aa06fd-3957-4e77-9581-006543aef664"
      },
      "execution_count": null,
      "outputs": [
        {
          "output_type": "execute_result",
          "data": {
            "text/plain": [
              "     고객ID  이탈여부      총매출액  구매금액대  방문빈도  1회 평균매출액  할인권 사용 횟수  총 할인 금액  고객등급  \\\n",
              "0       1     1   4963160      1    22    225598          1     5445     1   \n",
              "1       2     1   2271520      0    38     59777         22   350995     1   \n",
              "2       3     1   2484250      0     2   1242125          6   186045     1   \n",
              "3       4     1   2778850      0     9    308761          1     5195     2   \n",
              "4       5     1   4437610      1    10    443761          9   246350     2   \n",
              "..    ...   ...       ...    ...   ...       ...        ...      ...   ...   \n",
              "995   996     0  12731560      2    35    363759          3    44445     2   \n",
              "996   997     0   3419010      0     6    569835          6   186545     1   \n",
              "997   998     0   4612100      1    13    354777          8   260700     2   \n",
              "998   999     0   5165360      1    28    184477         20   347700     1   \n",
              "999  1000     0   4323050      1    16    270191         19   367045     2   \n",
              "\n",
              "     구매유형  ...  구매카테고리수  거주지역  성별  고객 나이대  거래기간  할인민감여부  Recency  Frequency  \\\n",
              "0       3  ...        7     6   1       6  3303       0        3          2   \n",
              "1       1  ...        5     4   0       2  3129       0        5          3   \n",
              "2       2  ...        4     6   0       3  3636       0        4          1   \n",
              "3       4  ...        4     5   0       4  3637       0        7          4   \n",
              "4       4  ...        6     6   0       4  3638       0        5          1   \n",
              "..    ...  ...      ...   ...  ..     ...   ...     ...      ...        ...   \n",
              "995     3  ...        8     6   0       4  4629       1        3          3   \n",
              "996     2  ...        9     6   0       4  4630       1        7          3   \n",
              "997     1  ...        1     4   1       6  4631       1        2          1   \n",
              "998     3  ...        7     5   1       6  3907       0        7          2   \n",
              "999     4  ...        6     5   1       6  2118       0        5          1   \n",
              "\n",
              "     Monetary      평균 구매주기  \n",
              "0           1   149.136364  \n",
              "1           4    81.342105  \n",
              "2           4  1817.000000  \n",
              "3           6   403.111111  \n",
              "4           4   362.800000  \n",
              "..        ...          ...  \n",
              "995         1   131.257143  \n",
              "996         6   770.666667  \n",
              "997         2   355.230769  \n",
              "998         6   138.535714  \n",
              "999         4   131.375000  \n",
              "\n",
              "[1000 rows x 21 columns]"
            ],
            "text/html": [
              "\n",
              "  <div id=\"df-44ff6c83-bb44-493e-a61e-3411731ee4f7\">\n",
              "    <div class=\"colab-df-container\">\n",
              "      <div>\n",
              "<style scoped>\n",
              "    .dataframe tbody tr th:only-of-type {\n",
              "        vertical-align: middle;\n",
              "    }\n",
              "\n",
              "    .dataframe tbody tr th {\n",
              "        vertical-align: top;\n",
              "    }\n",
              "\n",
              "    .dataframe thead th {\n",
              "        text-align: right;\n",
              "    }\n",
              "</style>\n",
              "<table border=\"1\" class=\"dataframe\">\n",
              "  <thead>\n",
              "    <tr style=\"text-align: right;\">\n",
              "      <th></th>\n",
              "      <th>고객ID</th>\n",
              "      <th>이탈여부</th>\n",
              "      <th>총매출액</th>\n",
              "      <th>구매금액대</th>\n",
              "      <th>방문빈도</th>\n",
              "      <th>1회 평균매출액</th>\n",
              "      <th>할인권 사용 횟수</th>\n",
              "      <th>총 할인 금액</th>\n",
              "      <th>고객등급</th>\n",
              "      <th>구매유형</th>\n",
              "      <th>...</th>\n",
              "      <th>구매카테고리수</th>\n",
              "      <th>거주지역</th>\n",
              "      <th>성별</th>\n",
              "      <th>고객 나이대</th>\n",
              "      <th>거래기간</th>\n",
              "      <th>할인민감여부</th>\n",
              "      <th>Recency</th>\n",
              "      <th>Frequency</th>\n",
              "      <th>Monetary</th>\n",
              "      <th>평균 구매주기</th>\n",
              "    </tr>\n",
              "  </thead>\n",
              "  <tbody>\n",
              "    <tr>\n",
              "      <th>0</th>\n",
              "      <td>1</td>\n",
              "      <td>1</td>\n",
              "      <td>4963160</td>\n",
              "      <td>1</td>\n",
              "      <td>22</td>\n",
              "      <td>225598</td>\n",
              "      <td>1</td>\n",
              "      <td>5445</td>\n",
              "      <td>1</td>\n",
              "      <td>3</td>\n",
              "      <td>...</td>\n",
              "      <td>7</td>\n",
              "      <td>6</td>\n",
              "      <td>1</td>\n",
              "      <td>6</td>\n",
              "      <td>3303</td>\n",
              "      <td>0</td>\n",
              "      <td>3</td>\n",
              "      <td>2</td>\n",
              "      <td>1</td>\n",
              "      <td>149.136364</td>\n",
              "    </tr>\n",
              "    <tr>\n",
              "      <th>1</th>\n",
              "      <td>2</td>\n",
              "      <td>1</td>\n",
              "      <td>2271520</td>\n",
              "      <td>0</td>\n",
              "      <td>38</td>\n",
              "      <td>59777</td>\n",
              "      <td>22</td>\n",
              "      <td>350995</td>\n",
              "      <td>1</td>\n",
              "      <td>1</td>\n",
              "      <td>...</td>\n",
              "      <td>5</td>\n",
              "      <td>4</td>\n",
              "      <td>0</td>\n",
              "      <td>2</td>\n",
              "      <td>3129</td>\n",
              "      <td>0</td>\n",
              "      <td>5</td>\n",
              "      <td>3</td>\n",
              "      <td>4</td>\n",
              "      <td>81.342105</td>\n",
              "    </tr>\n",
              "    <tr>\n",
              "      <th>2</th>\n",
              "      <td>3</td>\n",
              "      <td>1</td>\n",
              "      <td>2484250</td>\n",
              "      <td>0</td>\n",
              "      <td>2</td>\n",
              "      <td>1242125</td>\n",
              "      <td>6</td>\n",
              "      <td>186045</td>\n",
              "      <td>1</td>\n",
              "      <td>2</td>\n",
              "      <td>...</td>\n",
              "      <td>4</td>\n",
              "      <td>6</td>\n",
              "      <td>0</td>\n",
              "      <td>3</td>\n",
              "      <td>3636</td>\n",
              "      <td>0</td>\n",
              "      <td>4</td>\n",
              "      <td>1</td>\n",
              "      <td>4</td>\n",
              "      <td>1817.000000</td>\n",
              "    </tr>\n",
              "    <tr>\n",
              "      <th>3</th>\n",
              "      <td>4</td>\n",
              "      <td>1</td>\n",
              "      <td>2778850</td>\n",
              "      <td>0</td>\n",
              "      <td>9</td>\n",
              "      <td>308761</td>\n",
              "      <td>1</td>\n",
              "      <td>5195</td>\n",
              "      <td>2</td>\n",
              "      <td>4</td>\n",
              "      <td>...</td>\n",
              "      <td>4</td>\n",
              "      <td>5</td>\n",
              "      <td>0</td>\n",
              "      <td>4</td>\n",
              "      <td>3637</td>\n",
              "      <td>0</td>\n",
              "      <td>7</td>\n",
              "      <td>4</td>\n",
              "      <td>6</td>\n",
              "      <td>403.111111</td>\n",
              "    </tr>\n",
              "    <tr>\n",
              "      <th>4</th>\n",
              "      <td>5</td>\n",
              "      <td>1</td>\n",
              "      <td>4437610</td>\n",
              "      <td>1</td>\n",
              "      <td>10</td>\n",
              "      <td>443761</td>\n",
              "      <td>9</td>\n",
              "      <td>246350</td>\n",
              "      <td>2</td>\n",
              "      <td>4</td>\n",
              "      <td>...</td>\n",
              "      <td>6</td>\n",
              "      <td>6</td>\n",
              "      <td>0</td>\n",
              "      <td>4</td>\n",
              "      <td>3638</td>\n",
              "      <td>0</td>\n",
              "      <td>5</td>\n",
              "      <td>1</td>\n",
              "      <td>4</td>\n",
              "      <td>362.800000</td>\n",
              "    </tr>\n",
              "    <tr>\n",
              "      <th>...</th>\n",
              "      <td>...</td>\n",
              "      <td>...</td>\n",
              "      <td>...</td>\n",
              "      <td>...</td>\n",
              "      <td>...</td>\n",
              "      <td>...</td>\n",
              "      <td>...</td>\n",
              "      <td>...</td>\n",
              "      <td>...</td>\n",
              "      <td>...</td>\n",
              "      <td>...</td>\n",
              "      <td>...</td>\n",
              "      <td>...</td>\n",
              "      <td>...</td>\n",
              "      <td>...</td>\n",
              "      <td>...</td>\n",
              "      <td>...</td>\n",
              "      <td>...</td>\n",
              "      <td>...</td>\n",
              "      <td>...</td>\n",
              "      <td>...</td>\n",
              "    </tr>\n",
              "    <tr>\n",
              "      <th>995</th>\n",
              "      <td>996</td>\n",
              "      <td>0</td>\n",
              "      <td>12731560</td>\n",
              "      <td>2</td>\n",
              "      <td>35</td>\n",
              "      <td>363759</td>\n",
              "      <td>3</td>\n",
              "      <td>44445</td>\n",
              "      <td>2</td>\n",
              "      <td>3</td>\n",
              "      <td>...</td>\n",
              "      <td>8</td>\n",
              "      <td>6</td>\n",
              "      <td>0</td>\n",
              "      <td>4</td>\n",
              "      <td>4629</td>\n",
              "      <td>1</td>\n",
              "      <td>3</td>\n",
              "      <td>3</td>\n",
              "      <td>1</td>\n",
              "      <td>131.257143</td>\n",
              "    </tr>\n",
              "    <tr>\n",
              "      <th>996</th>\n",
              "      <td>997</td>\n",
              "      <td>0</td>\n",
              "      <td>3419010</td>\n",
              "      <td>0</td>\n",
              "      <td>6</td>\n",
              "      <td>569835</td>\n",
              "      <td>6</td>\n",
              "      <td>186545</td>\n",
              "      <td>1</td>\n",
              "      <td>2</td>\n",
              "      <td>...</td>\n",
              "      <td>9</td>\n",
              "      <td>6</td>\n",
              "      <td>0</td>\n",
              "      <td>4</td>\n",
              "      <td>4630</td>\n",
              "      <td>1</td>\n",
              "      <td>7</td>\n",
              "      <td>3</td>\n",
              "      <td>6</td>\n",
              "      <td>770.666667</td>\n",
              "    </tr>\n",
              "    <tr>\n",
              "      <th>997</th>\n",
              "      <td>998</td>\n",
              "      <td>0</td>\n",
              "      <td>4612100</td>\n",
              "      <td>1</td>\n",
              "      <td>13</td>\n",
              "      <td>354777</td>\n",
              "      <td>8</td>\n",
              "      <td>260700</td>\n",
              "      <td>2</td>\n",
              "      <td>1</td>\n",
              "      <td>...</td>\n",
              "      <td>1</td>\n",
              "      <td>4</td>\n",
              "      <td>1</td>\n",
              "      <td>6</td>\n",
              "      <td>4631</td>\n",
              "      <td>1</td>\n",
              "      <td>2</td>\n",
              "      <td>1</td>\n",
              "      <td>2</td>\n",
              "      <td>355.230769</td>\n",
              "    </tr>\n",
              "    <tr>\n",
              "      <th>998</th>\n",
              "      <td>999</td>\n",
              "      <td>0</td>\n",
              "      <td>5165360</td>\n",
              "      <td>1</td>\n",
              "      <td>28</td>\n",
              "      <td>184477</td>\n",
              "      <td>20</td>\n",
              "      <td>347700</td>\n",
              "      <td>1</td>\n",
              "      <td>3</td>\n",
              "      <td>...</td>\n",
              "      <td>7</td>\n",
              "      <td>5</td>\n",
              "      <td>1</td>\n",
              "      <td>6</td>\n",
              "      <td>3907</td>\n",
              "      <td>0</td>\n",
              "      <td>7</td>\n",
              "      <td>2</td>\n",
              "      <td>6</td>\n",
              "      <td>138.535714</td>\n",
              "    </tr>\n",
              "    <tr>\n",
              "      <th>999</th>\n",
              "      <td>1000</td>\n",
              "      <td>0</td>\n",
              "      <td>4323050</td>\n",
              "      <td>1</td>\n",
              "      <td>16</td>\n",
              "      <td>270191</td>\n",
              "      <td>19</td>\n",
              "      <td>367045</td>\n",
              "      <td>2</td>\n",
              "      <td>4</td>\n",
              "      <td>...</td>\n",
              "      <td>6</td>\n",
              "      <td>5</td>\n",
              "      <td>1</td>\n",
              "      <td>6</td>\n",
              "      <td>2118</td>\n",
              "      <td>0</td>\n",
              "      <td>5</td>\n",
              "      <td>1</td>\n",
              "      <td>4</td>\n",
              "      <td>131.375000</td>\n",
              "    </tr>\n",
              "  </tbody>\n",
              "</table>\n",
              "<p>1000 rows × 21 columns</p>\n",
              "</div>\n",
              "      <button class=\"colab-df-convert\" onclick=\"convertToInteractive('df-44ff6c83-bb44-493e-a61e-3411731ee4f7')\"\n",
              "              title=\"Convert this dataframe to an interactive table.\"\n",
              "              style=\"display:none;\">\n",
              "        \n",
              "  <svg xmlns=\"http://www.w3.org/2000/svg\" height=\"24px\"viewBox=\"0 0 24 24\"\n",
              "       width=\"24px\">\n",
              "    <path d=\"M0 0h24v24H0V0z\" fill=\"none\"/>\n",
              "    <path d=\"M18.56 5.44l.94 2.06.94-2.06 2.06-.94-2.06-.94-.94-2.06-.94 2.06-2.06.94zm-11 1L8.5 8.5l.94-2.06 2.06-.94-2.06-.94L8.5 2.5l-.94 2.06-2.06.94zm10 10l.94 2.06.94-2.06 2.06-.94-2.06-.94-.94-2.06-.94 2.06-2.06.94z\"/><path d=\"M17.41 7.96l-1.37-1.37c-.4-.4-.92-.59-1.43-.59-.52 0-1.04.2-1.43.59L10.3 9.45l-7.72 7.72c-.78.78-.78 2.05 0 2.83L4 21.41c.39.39.9.59 1.41.59.51 0 1.02-.2 1.41-.59l7.78-7.78 2.81-2.81c.8-.78.8-2.07 0-2.86zM5.41 20L4 18.59l7.72-7.72 1.47 1.35L5.41 20z\"/>\n",
              "  </svg>\n",
              "      </button>\n",
              "      \n",
              "  <style>\n",
              "    .colab-df-container {\n",
              "      display:flex;\n",
              "      flex-wrap:wrap;\n",
              "      gap: 12px;\n",
              "    }\n",
              "\n",
              "    .colab-df-convert {\n",
              "      background-color: #E8F0FE;\n",
              "      border: none;\n",
              "      border-radius: 50%;\n",
              "      cursor: pointer;\n",
              "      display: none;\n",
              "      fill: #1967D2;\n",
              "      height: 32px;\n",
              "      padding: 0 0 0 0;\n",
              "      width: 32px;\n",
              "    }\n",
              "\n",
              "    .colab-df-convert:hover {\n",
              "      background-color: #E2EBFA;\n",
              "      box-shadow: 0px 1px 2px rgba(60, 64, 67, 0.3), 0px 1px 3px 1px rgba(60, 64, 67, 0.15);\n",
              "      fill: #174EA6;\n",
              "    }\n",
              "\n",
              "    [theme=dark] .colab-df-convert {\n",
              "      background-color: #3B4455;\n",
              "      fill: #D2E3FC;\n",
              "    }\n",
              "\n",
              "    [theme=dark] .colab-df-convert:hover {\n",
              "      background-color: #434B5C;\n",
              "      box-shadow: 0px 1px 3px 1px rgba(0, 0, 0, 0.15);\n",
              "      filter: drop-shadow(0px 1px 2px rgba(0, 0, 0, 0.3));\n",
              "      fill: #FFFFFF;\n",
              "    }\n",
              "  </style>\n",
              "\n",
              "      <script>\n",
              "        const buttonEl =\n",
              "          document.querySelector('#df-44ff6c83-bb44-493e-a61e-3411731ee4f7 button.colab-df-convert');\n",
              "        buttonEl.style.display =\n",
              "          google.colab.kernel.accessAllowed ? 'block' : 'none';\n",
              "\n",
              "        async function convertToInteractive(key) {\n",
              "          const element = document.querySelector('#df-44ff6c83-bb44-493e-a61e-3411731ee4f7');\n",
              "          const dataTable =\n",
              "            await google.colab.kernel.invokeFunction('convertToInteractive',\n",
              "                                                     [key], {});\n",
              "          if (!dataTable) return;\n",
              "\n",
              "          const docLinkHtml = 'Like what you see? Visit the ' +\n",
              "            '<a target=\"_blank\" href=https://colab.research.google.com/notebooks/data_table.ipynb>data table notebook</a>'\n",
              "            + ' to learn more about interactive tables.';\n",
              "          element.innerHTML = '';\n",
              "          dataTable['output_type'] = 'display_data';\n",
              "          await google.colab.output.renderOutput(dataTable, element);\n",
              "          const docLink = document.createElement('div');\n",
              "          docLink.innerHTML = docLinkHtml;\n",
              "          element.appendChild(docLink);\n",
              "        }\n",
              "      </script>\n",
              "    </div>\n",
              "  </div>\n",
              "  "
            ]
          },
          "metadata": {},
          "execution_count": 3
        }
      ]
    },
    {
      "cell_type": "code",
      "source": [
        "df.info()"
      ],
      "metadata": {
        "colab": {
          "base_uri": "https://localhost:8080/"
        },
        "id": "NYLs2D0VlLSM",
        "outputId": "0a1652e0-f6e8-42fa-d653-c7b822ae4d3c"
      },
      "execution_count": null,
      "outputs": [
        {
          "output_type": "stream",
          "name": "stdout",
          "text": [
            "<class 'pandas.core.frame.DataFrame'>\n",
            "RangeIndex: 1000 entries, 0 to 999\n",
            "Data columns (total 21 columns):\n",
            " #   Column     Non-Null Count  Dtype  \n",
            "---  ------     --------------  -----  \n",
            " 0   고객ID       1000 non-null   int64  \n",
            " 1   이탈여부       1000 non-null   int64  \n",
            " 2   총매출액       1000 non-null   int64  \n",
            " 3   구매금액대      1000 non-null   int64  \n",
            " 4   방문빈도       1000 non-null   int64  \n",
            " 5   1회 평균매출액   1000 non-null   int64  \n",
            " 6   할인권 사용 횟수  1000 non-null   int64  \n",
            " 7   총 할인 금액    1000 non-null   int64  \n",
            " 8   고객등급       1000 non-null   int64  \n",
            " 9   구매유형       1000 non-null   int64  \n",
            " 10  클레임접수여부    1000 non-null   int64  \n",
            " 11  구매카테고리수    1000 non-null   int64  \n",
            " 12  거주지역       1000 non-null   int64  \n",
            " 13  성별         1000 non-null   int64  \n",
            " 14  고객 나이대     1000 non-null   int64  \n",
            " 15  거래기간       1000 non-null   int64  \n",
            " 16  할인민감여부     1000 non-null   int64  \n",
            " 17  Recency    1000 non-null   int64  \n",
            " 18  Frequency  1000 non-null   int64  \n",
            " 19  Monetary   1000 non-null   int64  \n",
            " 20  평균 구매주기    1000 non-null   float64\n",
            "dtypes: float64(1), int64(20)\n",
            "memory usage: 164.2 KB\n"
          ]
        }
      ]
    },
    {
      "cell_type": "code",
      "source": [
        "df.isnull().sum()"
      ],
      "metadata": {
        "colab": {
          "base_uri": "https://localhost:8080/"
        },
        "id": "Idjx4fBTnqYK",
        "outputId": "3c5ce794-a103-416e-87e3-3af7290cf8eb"
      },
      "execution_count": null,
      "outputs": [
        {
          "output_type": "execute_result",
          "data": {
            "text/plain": [
              "고객ID         0\n",
              "이탈여부         0\n",
              "총매출액         0\n",
              "구매금액대        0\n",
              "방문빈도         0\n",
              "1회 평균매출액     0\n",
              "할인권 사용 횟수    0\n",
              "총 할인 금액      0\n",
              "고객등급         0\n",
              "구매유형         0\n",
              "클레임접수여부      0\n",
              "구매카테고리수      0\n",
              "거주지역         0\n",
              "성별           0\n",
              "고객 나이대       0\n",
              "거래기간         0\n",
              "할인민감여부       0\n",
              "Recency      0\n",
              "Frequency    0\n",
              "Monetary     0\n",
              "평균 구매주기      0\n",
              "dtype: int64"
            ]
          },
          "metadata": {},
          "execution_count": 5
        }
      ]
    },
    {
      "cell_type": "code",
      "source": [
        "#필요 열(변수, feature)만 뽑아서 데이터 만들기\n",
        "X = df[[\"총매출액\", \"1회 평균매출액\", \"할인권 사용 횟수\"]]  #feature = 특성, 독립변수\n",
        "Y = df[\"평균 구매주기\"]\n",
        "\n",
        "#데이터 분할(train, test)\n",
        "X_train, X_test, Y_train, Y_test = train_test_split(X, Y, test_size = 0.3, random_state=0)\n",
        "\n",
        "#model 만들기\n",
        "model = KNeighborsRegressor()\n",
        "\n",
        "#교차검증(높으면 좋음)\n",
        "score = cross_val_score(model, X_train, Y_train, cv = 10)\n",
        "print(\"교차검증 점수:\", score)"
      ],
      "metadata": {
        "colab": {
          "base_uri": "https://localhost:8080/"
        },
        "id": "vWJKUOWEnuiG",
        "outputId": "04bbe70a-e402-451f-ddea-884ce75de5f6"
      },
      "execution_count": null,
      "outputs": [
        {
          "output_type": "stream",
          "name": "stdout",
          "text": [
            "교차검증 점수: [0.71641358 0.55975791 0.76634495 0.58696302 0.60491788 0.64888287\n",
            " 0.73366212 0.53759107 0.74664738 0.79547413]\n"
          ]
        }
      ]
    },
    {
      "cell_type": "code",
      "source": [
        "from sklearn.neighbors import KNeighborsClassifier\n",
        "from sklearn.model_selection  import StratifiedKFold\n",
        "\n",
        "#소규모/필요열(변수,feature)만 뽑아서 데이터 만들기\n",
        "X = df[[\"총매출액\", \"거래기간\" , \"방문빈도\"]]\n",
        "Y = df[\"이탈여부\"]\n",
        "\n",
        "#데이터 분할(train set, test set)\n",
        "X_train, X_test, Y_train, Y_test = train_test_split(X , Y , test_size=0.3 , random_state=0) #1에서 train 과 test를 7:3 나눈것 test_size 0.3\n",
        "\n",
        "#model 만들기\n",
        "model = KNeighborsClassifier() #분류모형 (y만 결정되면 회귀인지 분류인지 알 수 있음. 이탈여부이기 때문에 분류.)\n",
        "\n",
        "#검증(Stratifield K-fold Cross-Validation test)\n",
        "skf = StratifiedKFold(n_splits = 5, shuffle = True, random_state=0) #회귀는 cv에 넣고, 분류는 n_splits에 넣기기\n",
        "scores = cross_val_score(model , X_train, Y_train, cv = skf)\n",
        "print(\"교차검증 점수:\" , scores)"
      ],
      "metadata": {
        "colab": {
          "base_uri": "https://localhost:8080/"
        },
        "id": "6HXdsemLo5L_",
        "outputId": "a2ab655d-5442-4845-9ed8-9ebcc8083a05"
      },
      "execution_count": null,
      "outputs": [
        {
          "output_type": "stream",
          "name": "stdout",
          "text": [
            "교차검증 점수: [0.64285714 0.7        0.67857143 0.67142857 0.70714286]\n"
          ]
        }
      ]
    },
    {
      "cell_type": "code",
      "source": [
        "from sklearn.model_selection import GridSearchCV\n",
        "\n",
        "#필요 열(변수, feature)만 뽑아서 데이터 만들기\n",
        "X = df[[\"총매출액\", \"1회 평균매출액\", \"할인권 사용 횟수\"]]\n",
        "Y = df[\"이탈여부\"]\n",
        "\n",
        "#데이터 분할(train, test)\n",
        "X_train, X_test, Y_train, Y_test = train_test_split(X, Y, test_size = 0.3, random_state=0)\n",
        "\n",
        "#모험생성\n",
        "model = KNeighborsClassifier()\n",
        "\n",
        "#그리드 인자 검색\n",
        "mylist = list(range(1,50))\n",
        "k_list = [x for x in mylist if x%2 !=0]\n",
        "parameter_grid = {\"n_neighbors\" : k_list}\n",
        "\n",
        "#그리드 서치\n",
        "grid_search = GridSearchCV(model, parameter_grid, cv = 10)\n",
        "grid_search.fit(X_train, Y_train)\n",
        "\n",
        "#grid_search.best_params_"
      ],
      "metadata": {
        "colab": {
          "base_uri": "https://localhost:8080/"
        },
        "id": "b2dnljTwytfi",
        "outputId": "f65b8da1-1a83-4f28-91c3-22fe2f43b2e1"
      },
      "execution_count": null,
      "outputs": [
        {
          "output_type": "execute_result",
          "data": {
            "text/plain": [
              "GridSearchCV(cv=10, estimator=KNeighborsClassifier(),\n",
              "             param_grid={'n_neighbors': [1, 3, 5, 7, 9, 11, 13, 15, 17, 19, 21,\n",
              "                                         23, 25, 27, 29, 31, 33, 35, 37, 39, 41,\n",
              "                                         43, 45, 47, 49]})"
            ]
          },
          "metadata": {},
          "execution_count": 8
        }
      ]
    },
    {
      "cell_type": "code",
      "source": [
        "#그리드 서치 \n",
        "grid_search = GridSearchCV(model, parameter_grid, cv = 5)\n",
        "grid_search.fit(X_train, Y_train)\n",
        "\n",
        "grid_search.best_params_\n",
        "grid_search.cv_results_"
      ],
      "metadata": {
        "colab": {
          "base_uri": "https://localhost:8080/"
        },
        "id": "bgyPlCJtZ3pb",
        "outputId": "277638ed-079b-4a16-e3b9-71c93872fd6f"
      },
      "execution_count": null,
      "outputs": [
        {
          "output_type": "execute_result",
          "data": {
            "text/plain": [
              "{'mean_fit_time': array([0.00538783, 0.0139792 , 0.01208749, 0.0134583 , 0.00948009,\n",
              "        0.00725827, 0.00366049, 0.00625567, 0.0047565 , 0.01025057,\n",
              "        0.01175313, 0.0089386 , 0.00811119, 0.00852361, 0.00930114,\n",
              "        0.00407543, 0.00369864, 0.01199656, 0.00665598, 0.01064239,\n",
              "        0.00962758, 0.00950251, 0.01044664, 0.00889063, 0.0112175 ]),\n",
              " 'std_fit_time': array([0.00297472, 0.00947809, 0.00351806, 0.001917  , 0.00764571,\n",
              "        0.00671076, 0.00012118, 0.00238925, 0.00230936, 0.0048109 ,\n",
              "        0.0075756 , 0.00349001, 0.00536334, 0.00635159, 0.00478887,\n",
              "        0.00049065, 0.00015428, 0.00588017, 0.00375123, 0.00394246,\n",
              "        0.00294822, 0.00568978, 0.00557646, 0.00432681, 0.00507885]),\n",
              " 'mean_score_time': array([0.02590175, 0.04809318, 0.03180251, 0.03665242, 0.02238903,\n",
              "        0.01994076, 0.01100049, 0.01682558, 0.01352057, 0.02798395,\n",
              "        0.02546883, 0.01946344, 0.02741494, 0.01664085, 0.02199874,\n",
              "        0.01589346, 0.01706967, 0.04393253, 0.01665215, 0.03166866,\n",
              "        0.02787347, 0.03577538, 0.03915677, 0.02875438, 0.03019886]),\n",
              " 'std_score_time': array([0.00829221, 0.01837685, 0.0151441 , 0.01325352, 0.01016256,\n",
              "        0.01109922, 0.00298596, 0.00674118, 0.00656693, 0.006878  ,\n",
              "        0.00952905, 0.00625674, 0.01287826, 0.00849545, 0.01003876,\n",
              "        0.00728964, 0.00685874, 0.02200777, 0.00746855, 0.00748575,\n",
              "        0.00917016, 0.0085832 , 0.00604029, 0.008509  , 0.01145334]),\n",
              " 'param_n_neighbors': masked_array(data=[1, 3, 5, 7, 9, 11, 13, 15, 17, 19, 21, 23, 25, 27, 29,\n",
              "                    31, 33, 35, 37, 39, 41, 43, 45, 47, 49],\n",
              "              mask=[False, False, False, False, False, False, False, False,\n",
              "                    False, False, False, False, False, False, False, False,\n",
              "                    False, False, False, False, False, False, False, False,\n",
              "                    False],\n",
              "        fill_value='?',\n",
              "             dtype=object),\n",
              " 'params': [{'n_neighbors': 1},\n",
              "  {'n_neighbors': 3},\n",
              "  {'n_neighbors': 5},\n",
              "  {'n_neighbors': 7},\n",
              "  {'n_neighbors': 9},\n",
              "  {'n_neighbors': 11},\n",
              "  {'n_neighbors': 13},\n",
              "  {'n_neighbors': 15},\n",
              "  {'n_neighbors': 17},\n",
              "  {'n_neighbors': 19},\n",
              "  {'n_neighbors': 21},\n",
              "  {'n_neighbors': 23},\n",
              "  {'n_neighbors': 25},\n",
              "  {'n_neighbors': 27},\n",
              "  {'n_neighbors': 29},\n",
              "  {'n_neighbors': 31},\n",
              "  {'n_neighbors': 33},\n",
              "  {'n_neighbors': 35},\n",
              "  {'n_neighbors': 37},\n",
              "  {'n_neighbors': 39},\n",
              "  {'n_neighbors': 41},\n",
              "  {'n_neighbors': 43},\n",
              "  {'n_neighbors': 45},\n",
              "  {'n_neighbors': 47},\n",
              "  {'n_neighbors': 49}],\n",
              " 'split0_test_score': array([0.60714286, 0.68571429, 0.67142857, 0.70714286, 0.68571429,\n",
              "        0.68571429, 0.74285714, 0.72142857, 0.73571429, 0.72857143,\n",
              "        0.72857143, 0.74285714, 0.74285714, 0.74285714, 0.72857143,\n",
              "        0.72857143, 0.72857143, 0.72857143, 0.72857143, 0.73571429,\n",
              "        0.73571429, 0.73571429, 0.73571429, 0.72857143, 0.72857143]),\n",
              " 'split1_test_score': array([0.67142857, 0.67857143, 0.67857143, 0.72857143, 0.72142857,\n",
              "        0.72857143, 0.71428571, 0.71428571, 0.72142857, 0.72857143,\n",
              "        0.72857143, 0.73571429, 0.74285714, 0.74285714, 0.75      ,\n",
              "        0.75      , 0.75      , 0.74285714, 0.74285714, 0.75      ,\n",
              "        0.74285714, 0.75      , 0.74285714, 0.75      , 0.74285714]),\n",
              " 'split2_test_score': array([0.56428571, 0.71428571, 0.67857143, 0.72142857, 0.75      ,\n",
              "        0.75      , 0.73571429, 0.73571429, 0.72857143, 0.72142857,\n",
              "        0.70714286, 0.72142857, 0.72142857, 0.70714286, 0.72142857,\n",
              "        0.72857143, 0.72857143, 0.72857143, 0.72142857, 0.7       ,\n",
              "        0.70714286, 0.70714286, 0.70714286, 0.70714286, 0.70714286]),\n",
              " 'split3_test_score': array([0.65714286, 0.73571429, 0.74285714, 0.73571429, 0.73571429,\n",
              "        0.72857143, 0.72857143, 0.71428571, 0.7       , 0.70714286,\n",
              "        0.70714286, 0.70714286, 0.71428571, 0.69285714, 0.70714286,\n",
              "        0.71428571, 0.69285714, 0.69285714, 0.7       , 0.7       ,\n",
              "        0.69285714, 0.69285714, 0.69285714, 0.69285714, 0.7       ]),\n",
              " 'split4_test_score': array([0.66428571, 0.62142857, 0.63571429, 0.66428571, 0.65      ,\n",
              "        0.65714286, 0.68571429, 0.67857143, 0.68571429, 0.66428571,\n",
              "        0.65714286, 0.65714286, 0.66428571, 0.66428571, 0.67857143,\n",
              "        0.69285714, 0.70714286, 0.7       , 0.70714286, 0.70714286,\n",
              "        0.70714286, 0.70714286, 0.7       , 0.70714286, 0.69285714]),\n",
              " 'mean_test_score': array([0.63285714, 0.68714286, 0.68142857, 0.71142857, 0.70857143,\n",
              "        0.71      , 0.72142857, 0.71285714, 0.71428571, 0.71      ,\n",
              "        0.70571429, 0.71285714, 0.71714286, 0.71      , 0.71714286,\n",
              "        0.72285714, 0.72142857, 0.71857143, 0.72      , 0.71857143,\n",
              "        0.71714286, 0.71857143, 0.71571429, 0.71714286, 0.71428571]),\n",
              " 'std_test_score': array([0.04105745, 0.03870348, 0.03458205, 0.02539484, 0.03625308,\n",
              "        0.03368522, 0.02020305, 0.01884415, 0.01862629, 0.02415934,\n",
              "        0.0261081 , 0.03043897, 0.02878492, 0.03016959, 0.02373321,\n",
              "        0.01884415, 0.0196915 , 0.01895214, 0.01525297, 0.02050386,\n",
              "        0.01895214, 0.02099563, 0.0198977 , 0.02      , 0.01862629]),\n",
              " 'rank_test_score': array([25, 23, 24, 17, 21, 19,  2, 15, 13, 19, 22, 16, 11, 18,  8,  1,  2,\n",
              "         5,  4,  5,  8,  5, 12,  8, 13], dtype=int32)}"
            ]
          },
          "metadata": {},
          "execution_count": 9
        }
      ]
    },
    {
      "cell_type": "code",
      "source": [
        "grid_search.best_estimator_"
      ],
      "metadata": {
        "colab": {
          "base_uri": "https://localhost:8080/"
        },
        "id": "5uhPxYaWetNX",
        "outputId": "f078f4f8-60af-4899-eee3-e394d4fa3487"
      },
      "execution_count": null,
      "outputs": [
        {
          "output_type": "execute_result",
          "data": {
            "text/plain": [
              "KNeighborsClassifier(n_neighbors=31)"
            ]
          },
          "metadata": {},
          "execution_count": 10
        }
      ]
    },
    {
      "cell_type": "code",
      "source": [
        "from sklearn.metrics import accuracy_score\n",
        "be = grid_search.best_estimator_\n",
        "pred = be.predict(X_test)\n",
        "accuracy_score(Y_test,pred)"
      ],
      "metadata": {
        "colab": {
          "base_uri": "https://localhost:8080/"
        },
        "id": "3uhiQBFVe4GW",
        "outputId": "67f69176-297b-4bec-cc00-914cddd07201"
      },
      "execution_count": null,
      "outputs": [
        {
          "output_type": "execute_result",
          "data": {
            "text/plain": [
              "0.75"
            ]
          },
          "metadata": {},
          "execution_count": 11
        }
      ]
    },
    {
      "cell_type": "markdown",
      "source": [
        "#변수 선택"
      ],
      "metadata": {
        "id": "MP8cZ-jypzNQ"
      }
    },
    {
      "cell_type": "code",
      "source": [
        "from sklearn.feature_selection import SelectKBest, chi2\n",
        "#SelectKBest : 카이제곱값으로 베스트 뽑아줌\n",
        "\n",
        "#데이터 지정(변수)\n",
        "X = df.drop([\"고객ID\", \"이탈여부\"],axis = 1)\n",
        "Y = df[\"이탈여부\"]\n",
        "\n",
        "#데이터 분할\n",
        "X_train, X_test, Y_train, Y_test = train_test_split(X, Y, test_size = 0.3, random_state = 0)\n",
        "\n",
        "#일변량 통계기반\n",
        "selector = SelectKBest()\n",
        "selector.fit(X_train,Y_train)\n",
        "\n",
        "score = pd.DataFrame()\n",
        "score[\"Chi2\"] =  selector.scores_\n",
        "score[\"p-value\"] = selector.pvalues_\n",
        "score[\"support\"] = selector.get_support()\n",
        "score[\"attribute\"] = X_train.columns\n",
        "score[score[\"support\"]==True]\n",
        "\n",
        "#이탈여부(ㅛ에 대해 영향을 준다는 것을 알 수 있다.\n",
        "#회귀분석에서 X로 반영 가능"
      ],
      "metadata": {
        "colab": {
          "base_uri": "https://localhost:8080/",
          "height": 363
        },
        "id": "V4eBo7vVfOzA",
        "outputId": "e19d22fd-6acc-4b6c-923b-8ae1ad3ddbd3"
      },
      "execution_count": null,
      "outputs": [
        {
          "output_type": "execute_result",
          "data": {
            "text/plain": [
              "         Chi2       p-value  support  attribute\n",
              "0   11.220487  8.525018e-04     True       총매출액\n",
              "1   21.391230  4.462997e-06     True      구매금액대\n",
              "2   40.530259  3.508018e-10     True       방문빈도\n",
              "3   31.867994  2.401115e-08     True   1회 평균매출액\n",
              "8    6.784768  9.389630e-03     True    클레임접수여부\n",
              "11  12.171897  5.156069e-04     True         성별\n",
              "13  60.680197  2.435210e-14     True       거래기간\n",
              "14  86.354376  1.882930e-19     True     할인민감여부\n",
              "16   6.449529  1.131399e-02     True  Frequency\n",
              "18  40.217271  4.081567e-10     True    평균 구매주기"
            ],
            "text/html": [
              "\n",
              "  <div id=\"df-6166a437-3964-43c9-9e7f-f153b05115fb\">\n",
              "    <div class=\"colab-df-container\">\n",
              "      <div>\n",
              "<style scoped>\n",
              "    .dataframe tbody tr th:only-of-type {\n",
              "        vertical-align: middle;\n",
              "    }\n",
              "\n",
              "    .dataframe tbody tr th {\n",
              "        vertical-align: top;\n",
              "    }\n",
              "\n",
              "    .dataframe thead th {\n",
              "        text-align: right;\n",
              "    }\n",
              "</style>\n",
              "<table border=\"1\" class=\"dataframe\">\n",
              "  <thead>\n",
              "    <tr style=\"text-align: right;\">\n",
              "      <th></th>\n",
              "      <th>Chi2</th>\n",
              "      <th>p-value</th>\n",
              "      <th>support</th>\n",
              "      <th>attribute</th>\n",
              "    </tr>\n",
              "  </thead>\n",
              "  <tbody>\n",
              "    <tr>\n",
              "      <th>0</th>\n",
              "      <td>11.220487</td>\n",
              "      <td>8.525018e-04</td>\n",
              "      <td>True</td>\n",
              "      <td>총매출액</td>\n",
              "    </tr>\n",
              "    <tr>\n",
              "      <th>1</th>\n",
              "      <td>21.391230</td>\n",
              "      <td>4.462997e-06</td>\n",
              "      <td>True</td>\n",
              "      <td>구매금액대</td>\n",
              "    </tr>\n",
              "    <tr>\n",
              "      <th>2</th>\n",
              "      <td>40.530259</td>\n",
              "      <td>3.508018e-10</td>\n",
              "      <td>True</td>\n",
              "      <td>방문빈도</td>\n",
              "    </tr>\n",
              "    <tr>\n",
              "      <th>3</th>\n",
              "      <td>31.867994</td>\n",
              "      <td>2.401115e-08</td>\n",
              "      <td>True</td>\n",
              "      <td>1회 평균매출액</td>\n",
              "    </tr>\n",
              "    <tr>\n",
              "      <th>8</th>\n",
              "      <td>6.784768</td>\n",
              "      <td>9.389630e-03</td>\n",
              "      <td>True</td>\n",
              "      <td>클레임접수여부</td>\n",
              "    </tr>\n",
              "    <tr>\n",
              "      <th>11</th>\n",
              "      <td>12.171897</td>\n",
              "      <td>5.156069e-04</td>\n",
              "      <td>True</td>\n",
              "      <td>성별</td>\n",
              "    </tr>\n",
              "    <tr>\n",
              "      <th>13</th>\n",
              "      <td>60.680197</td>\n",
              "      <td>2.435210e-14</td>\n",
              "      <td>True</td>\n",
              "      <td>거래기간</td>\n",
              "    </tr>\n",
              "    <tr>\n",
              "      <th>14</th>\n",
              "      <td>86.354376</td>\n",
              "      <td>1.882930e-19</td>\n",
              "      <td>True</td>\n",
              "      <td>할인민감여부</td>\n",
              "    </tr>\n",
              "    <tr>\n",
              "      <th>16</th>\n",
              "      <td>6.449529</td>\n",
              "      <td>1.131399e-02</td>\n",
              "      <td>True</td>\n",
              "      <td>Frequency</td>\n",
              "    </tr>\n",
              "    <tr>\n",
              "      <th>18</th>\n",
              "      <td>40.217271</td>\n",
              "      <td>4.081567e-10</td>\n",
              "      <td>True</td>\n",
              "      <td>평균 구매주기</td>\n",
              "    </tr>\n",
              "  </tbody>\n",
              "</table>\n",
              "</div>\n",
              "      <button class=\"colab-df-convert\" onclick=\"convertToInteractive('df-6166a437-3964-43c9-9e7f-f153b05115fb')\"\n",
              "              title=\"Convert this dataframe to an interactive table.\"\n",
              "              style=\"display:none;\">\n",
              "        \n",
              "  <svg xmlns=\"http://www.w3.org/2000/svg\" height=\"24px\"viewBox=\"0 0 24 24\"\n",
              "       width=\"24px\">\n",
              "    <path d=\"M0 0h24v24H0V0z\" fill=\"none\"/>\n",
              "    <path d=\"M18.56 5.44l.94 2.06.94-2.06 2.06-.94-2.06-.94-.94-2.06-.94 2.06-2.06.94zm-11 1L8.5 8.5l.94-2.06 2.06-.94-2.06-.94L8.5 2.5l-.94 2.06-2.06.94zm10 10l.94 2.06.94-2.06 2.06-.94-2.06-.94-.94-2.06-.94 2.06-2.06.94z\"/><path d=\"M17.41 7.96l-1.37-1.37c-.4-.4-.92-.59-1.43-.59-.52 0-1.04.2-1.43.59L10.3 9.45l-7.72 7.72c-.78.78-.78 2.05 0 2.83L4 21.41c.39.39.9.59 1.41.59.51 0 1.02-.2 1.41-.59l7.78-7.78 2.81-2.81c.8-.78.8-2.07 0-2.86zM5.41 20L4 18.59l7.72-7.72 1.47 1.35L5.41 20z\"/>\n",
              "  </svg>\n",
              "      </button>\n",
              "      \n",
              "  <style>\n",
              "    .colab-df-container {\n",
              "      display:flex;\n",
              "      flex-wrap:wrap;\n",
              "      gap: 12px;\n",
              "    }\n",
              "\n",
              "    .colab-df-convert {\n",
              "      background-color: #E8F0FE;\n",
              "      border: none;\n",
              "      border-radius: 50%;\n",
              "      cursor: pointer;\n",
              "      display: none;\n",
              "      fill: #1967D2;\n",
              "      height: 32px;\n",
              "      padding: 0 0 0 0;\n",
              "      width: 32px;\n",
              "    }\n",
              "\n",
              "    .colab-df-convert:hover {\n",
              "      background-color: #E2EBFA;\n",
              "      box-shadow: 0px 1px 2px rgba(60, 64, 67, 0.3), 0px 1px 3px 1px rgba(60, 64, 67, 0.15);\n",
              "      fill: #174EA6;\n",
              "    }\n",
              "\n",
              "    [theme=dark] .colab-df-convert {\n",
              "      background-color: #3B4455;\n",
              "      fill: #D2E3FC;\n",
              "    }\n",
              "\n",
              "    [theme=dark] .colab-df-convert:hover {\n",
              "      background-color: #434B5C;\n",
              "      box-shadow: 0px 1px 3px 1px rgba(0, 0, 0, 0.15);\n",
              "      filter: drop-shadow(0px 1px 2px rgba(0, 0, 0, 0.3));\n",
              "      fill: #FFFFFF;\n",
              "    }\n",
              "  </style>\n",
              "\n",
              "      <script>\n",
              "        const buttonEl =\n",
              "          document.querySelector('#df-6166a437-3964-43c9-9e7f-f153b05115fb button.colab-df-convert');\n",
              "        buttonEl.style.display =\n",
              "          google.colab.kernel.accessAllowed ? 'block' : 'none';\n",
              "\n",
              "        async function convertToInteractive(key) {\n",
              "          const element = document.querySelector('#df-6166a437-3964-43c9-9e7f-f153b05115fb');\n",
              "          const dataTable =\n",
              "            await google.colab.kernel.invokeFunction('convertToInteractive',\n",
              "                                                     [key], {});\n",
              "          if (!dataTable) return;\n",
              "\n",
              "          const docLinkHtml = 'Like what you see? Visit the ' +\n",
              "            '<a target=\"_blank\" href=https://colab.research.google.com/notebooks/data_table.ipynb>data table notebook</a>'\n",
              "            + ' to learn more about interactive tables.';\n",
              "          element.innerHTML = '';\n",
              "          dataTable['output_type'] = 'display_data';\n",
              "          await google.colab.output.renderOutput(dataTable, element);\n",
              "          const docLink = document.createElement('div');\n",
              "          docLink.innerHTML = docLinkHtml;\n",
              "          element.appendChild(docLink);\n",
              "        }\n",
              "      </script>\n",
              "    </div>\n",
              "  </div>\n",
              "  "
            ]
          },
          "metadata": {},
          "execution_count": 12
        }
      ]
    },
    {
      "cell_type": "code",
      "source": [
        "from sklearn.feature_selection import SelectFromModel\n",
        "from sklearn.ensemble import RandomForestClassifier\n",
        "\n",
        "selector = SelectFromModel(RandomForestClassifier(n_estimators= 100, random_state=0),threshold=\"median\")\n",
        "selector. fit(X_train, Y_train)\n",
        "\n",
        "score = pd.DataFrame()\n",
        "score[\"attribute\"] = X_train.columns\n",
        "score[\"support\"] = selector.get_support()\n",
        "score[score[\"support\"]==True]\n",
        "\n",
        "#앙상블 : 다양한 모양들을 모아서 분석하는 것\n",
        "#median : 중간 값을 개선해 나가는 것\n",
        "#threshold의 의미는 분류기준, 새롭게 들어온 데이터를 보고 모델이 얼마나 엄격하게 1로 결정할지의 기준"
      ],
      "metadata": {
        "colab": {
          "base_uri": "https://localhost:8080/",
          "height": 363
        },
        "id": "J_flQHWer7Kc",
        "outputId": "28f2283b-a23c-4b3d-8a8b-8efeb72604b1"
      },
      "execution_count": null,
      "outputs": [
        {
          "output_type": "execute_result",
          "data": {
            "text/plain": [
              "    attribute  support\n",
              "0        총매출액     True\n",
              "2        방문빈도     True\n",
              "3    1회 평균매출액     True\n",
              "4   할인권 사용 횟수     True\n",
              "5     총 할인 금액     True\n",
              "10       거주지역     True\n",
              "12     고객 나이대     True\n",
              "13       거래기간     True\n",
              "14     할인민감여부     True\n",
              "18    평균 구매주기     True"
            ],
            "text/html": [
              "\n",
              "  <div id=\"df-89883be6-79ad-41a2-a6d3-2d80effcfa0a\">\n",
              "    <div class=\"colab-df-container\">\n",
              "      <div>\n",
              "<style scoped>\n",
              "    .dataframe tbody tr th:only-of-type {\n",
              "        vertical-align: middle;\n",
              "    }\n",
              "\n",
              "    .dataframe tbody tr th {\n",
              "        vertical-align: top;\n",
              "    }\n",
              "\n",
              "    .dataframe thead th {\n",
              "        text-align: right;\n",
              "    }\n",
              "</style>\n",
              "<table border=\"1\" class=\"dataframe\">\n",
              "  <thead>\n",
              "    <tr style=\"text-align: right;\">\n",
              "      <th></th>\n",
              "      <th>attribute</th>\n",
              "      <th>support</th>\n",
              "    </tr>\n",
              "  </thead>\n",
              "  <tbody>\n",
              "    <tr>\n",
              "      <th>0</th>\n",
              "      <td>총매출액</td>\n",
              "      <td>True</td>\n",
              "    </tr>\n",
              "    <tr>\n",
              "      <th>2</th>\n",
              "      <td>방문빈도</td>\n",
              "      <td>True</td>\n",
              "    </tr>\n",
              "    <tr>\n",
              "      <th>3</th>\n",
              "      <td>1회 평균매출액</td>\n",
              "      <td>True</td>\n",
              "    </tr>\n",
              "    <tr>\n",
              "      <th>4</th>\n",
              "      <td>할인권 사용 횟수</td>\n",
              "      <td>True</td>\n",
              "    </tr>\n",
              "    <tr>\n",
              "      <th>5</th>\n",
              "      <td>총 할인 금액</td>\n",
              "      <td>True</td>\n",
              "    </tr>\n",
              "    <tr>\n",
              "      <th>10</th>\n",
              "      <td>거주지역</td>\n",
              "      <td>True</td>\n",
              "    </tr>\n",
              "    <tr>\n",
              "      <th>12</th>\n",
              "      <td>고객 나이대</td>\n",
              "      <td>True</td>\n",
              "    </tr>\n",
              "    <tr>\n",
              "      <th>13</th>\n",
              "      <td>거래기간</td>\n",
              "      <td>True</td>\n",
              "    </tr>\n",
              "    <tr>\n",
              "      <th>14</th>\n",
              "      <td>할인민감여부</td>\n",
              "      <td>True</td>\n",
              "    </tr>\n",
              "    <tr>\n",
              "      <th>18</th>\n",
              "      <td>평균 구매주기</td>\n",
              "      <td>True</td>\n",
              "    </tr>\n",
              "  </tbody>\n",
              "</table>\n",
              "</div>\n",
              "      <button class=\"colab-df-convert\" onclick=\"convertToInteractive('df-89883be6-79ad-41a2-a6d3-2d80effcfa0a')\"\n",
              "              title=\"Convert this dataframe to an interactive table.\"\n",
              "              style=\"display:none;\">\n",
              "        \n",
              "  <svg xmlns=\"http://www.w3.org/2000/svg\" height=\"24px\"viewBox=\"0 0 24 24\"\n",
              "       width=\"24px\">\n",
              "    <path d=\"M0 0h24v24H0V0z\" fill=\"none\"/>\n",
              "    <path d=\"M18.56 5.44l.94 2.06.94-2.06 2.06-.94-2.06-.94-.94-2.06-.94 2.06-2.06.94zm-11 1L8.5 8.5l.94-2.06 2.06-.94-2.06-.94L8.5 2.5l-.94 2.06-2.06.94zm10 10l.94 2.06.94-2.06 2.06-.94-2.06-.94-.94-2.06-.94 2.06-2.06.94z\"/><path d=\"M17.41 7.96l-1.37-1.37c-.4-.4-.92-.59-1.43-.59-.52 0-1.04.2-1.43.59L10.3 9.45l-7.72 7.72c-.78.78-.78 2.05 0 2.83L4 21.41c.39.39.9.59 1.41.59.51 0 1.02-.2 1.41-.59l7.78-7.78 2.81-2.81c.8-.78.8-2.07 0-2.86zM5.41 20L4 18.59l7.72-7.72 1.47 1.35L5.41 20z\"/>\n",
              "  </svg>\n",
              "      </button>\n",
              "      \n",
              "  <style>\n",
              "    .colab-df-container {\n",
              "      display:flex;\n",
              "      flex-wrap:wrap;\n",
              "      gap: 12px;\n",
              "    }\n",
              "\n",
              "    .colab-df-convert {\n",
              "      background-color: #E8F0FE;\n",
              "      border: none;\n",
              "      border-radius: 50%;\n",
              "      cursor: pointer;\n",
              "      display: none;\n",
              "      fill: #1967D2;\n",
              "      height: 32px;\n",
              "      padding: 0 0 0 0;\n",
              "      width: 32px;\n",
              "    }\n",
              "\n",
              "    .colab-df-convert:hover {\n",
              "      background-color: #E2EBFA;\n",
              "      box-shadow: 0px 1px 2px rgba(60, 64, 67, 0.3), 0px 1px 3px 1px rgba(60, 64, 67, 0.15);\n",
              "      fill: #174EA6;\n",
              "    }\n",
              "\n",
              "    [theme=dark] .colab-df-convert {\n",
              "      background-color: #3B4455;\n",
              "      fill: #D2E3FC;\n",
              "    }\n",
              "\n",
              "    [theme=dark] .colab-df-convert:hover {\n",
              "      background-color: #434B5C;\n",
              "      box-shadow: 0px 1px 3px 1px rgba(0, 0, 0, 0.15);\n",
              "      filter: drop-shadow(0px 1px 2px rgba(0, 0, 0, 0.3));\n",
              "      fill: #FFFFFF;\n",
              "    }\n",
              "  </style>\n",
              "\n",
              "      <script>\n",
              "        const buttonEl =\n",
              "          document.querySelector('#df-89883be6-79ad-41a2-a6d3-2d80effcfa0a button.colab-df-convert');\n",
              "        buttonEl.style.display =\n",
              "          google.colab.kernel.accessAllowed ? 'block' : 'none';\n",
              "\n",
              "        async function convertToInteractive(key) {\n",
              "          const element = document.querySelector('#df-89883be6-79ad-41a2-a6d3-2d80effcfa0a');\n",
              "          const dataTable =\n",
              "            await google.colab.kernel.invokeFunction('convertToInteractive',\n",
              "                                                     [key], {});\n",
              "          if (!dataTable) return;\n",
              "\n",
              "          const docLinkHtml = 'Like what you see? Visit the ' +\n",
              "            '<a target=\"_blank\" href=https://colab.research.google.com/notebooks/data_table.ipynb>data table notebook</a>'\n",
              "            + ' to learn more about interactive tables.';\n",
              "          element.innerHTML = '';\n",
              "          dataTable['output_type'] = 'display_data';\n",
              "          await google.colab.output.renderOutput(dataTable, element);\n",
              "          const docLink = document.createElement('div');\n",
              "          docLink.innerHTML = docLinkHtml;\n",
              "          element.appendChild(docLink);\n",
              "        }\n",
              "      </script>\n",
              "    </div>\n",
              "  </div>\n",
              "  "
            ]
          },
          "metadata": {},
          "execution_count": 13
        }
      ]
    },
    {
      "cell_type": "markdown",
      "source": [
        "#데이터 밸런싱\n",
        "오버샘플링, 언더샘플링"
      ],
      "metadata": {
        "id": "Wz9LrlVy3lnm"
      }
    },
    {
      "cell_type": "code",
      "source": [
        "df.info()"
      ],
      "metadata": {
        "colab": {
          "base_uri": "https://localhost:8080/"
        },
        "id": "ahZDY5q23c5U",
        "outputId": "341407d1-b1a4-493c-cf09-96eda38bc544"
      },
      "execution_count": null,
      "outputs": [
        {
          "output_type": "stream",
          "name": "stdout",
          "text": [
            "<class 'pandas.core.frame.DataFrame'>\n",
            "RangeIndex: 1000 entries, 0 to 999\n",
            "Data columns (total 21 columns):\n",
            " #   Column     Non-Null Count  Dtype  \n",
            "---  ------     --------------  -----  \n",
            " 0   고객ID       1000 non-null   int64  \n",
            " 1   이탈여부       1000 non-null   int64  \n",
            " 2   총매출액       1000 non-null   int64  \n",
            " 3   구매금액대      1000 non-null   int64  \n",
            " 4   방문빈도       1000 non-null   int64  \n",
            " 5   1회 평균매출액   1000 non-null   int64  \n",
            " 6   할인권 사용 횟수  1000 non-null   int64  \n",
            " 7   총 할인 금액    1000 non-null   int64  \n",
            " 8   고객등급       1000 non-null   int64  \n",
            " 9   구매유형       1000 non-null   int64  \n",
            " 10  클레임접수여부    1000 non-null   int64  \n",
            " 11  구매카테고리수    1000 non-null   int64  \n",
            " 12  거주지역       1000 non-null   int64  \n",
            " 13  성별         1000 non-null   int64  \n",
            " 14  고객 나이대     1000 non-null   int64  \n",
            " 15  거래기간       1000 non-null   int64  \n",
            " 16  할인민감여부     1000 non-null   int64  \n",
            " 17  Recency    1000 non-null   int64  \n",
            " 18  Frequency  1000 non-null   int64  \n",
            " 19  Monetary   1000 non-null   int64  \n",
            " 20  평균 구매주기    1000 non-null   float64\n",
            "dtypes: float64(1), int64(20)\n",
            "memory usage: 164.2 KB\n"
          ]
        }
      ]
    },
    {
      "cell_type": "code",
      "source": [
        "df.describe()"
      ],
      "metadata": {
        "colab": {
          "base_uri": "https://localhost:8080/",
          "height": 411
        },
        "id": "l6EE3HIp3rbl",
        "outputId": "c69744d9-942f-4472-fce2-1b8bb219a8f9"
      },
      "execution_count": null,
      "outputs": [
        {
          "output_type": "execute_result",
          "data": {
            "text/plain": [
              "              고객ID         이탈여부          총매출액        구매금액대        방문빈도  \\\n",
              "count  1000.000000  1000.000000  1.000000e+03  1000.000000  1000.00000   \n",
              "mean    500.500000     0.300000  5.858013e+06     0.700000    22.91100   \n",
              "std     288.819436     0.458487  5.812815e+06     0.781416    19.08217   \n",
              "min       1.000000     0.000000  1.886100e+06     0.000000     1.00000   \n",
              "25%     250.750000     0.000000  2.815905e+06     0.000000    10.75000   \n",
              "50%     500.500000     0.000000  4.092145e+06     0.500000    18.00000   \n",
              "75%     750.250000     1.000000  6.545392e+06     1.000000    28.00000   \n",
              "max    1000.000000     1.000000  6.759576e+07     2.000000   155.00000   \n",
              "\n",
              "           1회 평균매출액    할인권 사용 횟수        총 할인 금액         고객등급         구매유형  \\\n",
              "count  1.000000e+03  1000.000000    1000.000000  1000.000000  1000.000000   \n",
              "mean   3.521024e+05    16.027000  292371.670000     1.546000     2.656000   \n",
              "std    3.124636e+05     8.341334  111937.501042     0.498129     1.046307   \n",
              "min    2.708200e+04     1.000000    3750.000000     1.000000     1.000000   \n",
              "25%    1.631242e+05     9.000000  261686.250000     1.000000     2.000000   \n",
              "50%    2.582080e+05    17.000000  347500.000000     2.000000     2.000000   \n",
              "75%    4.268310e+05    23.000000  365400.000000     2.000000     4.000000   \n",
              "max    2.798500e+06    30.000000  400600.000000     2.000000     4.000000   \n",
              "\n",
              "       ...      구매카테고리수         거주지역           성별       고객 나이대         거래기간  \\\n",
              "count  ...  1000.000000  1000.000000  1000.000000  1000.000000  1000.000000   \n",
              "mean   ...     5.217000     5.147000     0.189000     3.964000  3495.891000   \n",
              "std    ...     2.224153     1.169084     0.391705     1.078827   965.966194   \n",
              "min    ...     1.000000     1.000000     0.000000     2.000000   827.000000   \n",
              "25%    ...     3.000000     4.000000     0.000000     3.000000  2871.000000   \n",
              "50%    ...     5.000000     5.000000     0.000000     4.000000  3836.000000   \n",
              "75%    ...     7.000000     6.000000     0.000000     5.000000  4207.250000   \n",
              "max    ...     9.000000     7.000000     1.000000     7.000000  5334.000000   \n",
              "\n",
              "            할인민감여부      Recency    Frequency     Monetary      평균 구매주기  \n",
              "count  1000.000000  1000.000000  1000.000000  1000.000000  1000.000000  \n",
              "mean      0.400000     4.925000     2.289000     4.129000   266.880824  \n",
              "std       0.490143     1.744253     1.669811     1.560383   254.077398  \n",
              "min       0.000000     1.000000     1.000000     1.000000    13.980645  \n",
              "25%       0.000000     4.000000     1.000000     3.000000   111.957671  \n",
              "50%       0.000000     5.000000     2.000000     4.000000   191.469697  \n",
              "75%       1.000000     7.000000     3.000000     6.000000   324.386218  \n",
              "max       1.000000     7.000000     7.000000     7.000000  1956.000000  \n",
              "\n",
              "[8 rows x 21 columns]"
            ],
            "text/html": [
              "\n",
              "  <div id=\"df-919f7702-1355-41dd-b9eb-6010ef656fd4\">\n",
              "    <div class=\"colab-df-container\">\n",
              "      <div>\n",
              "<style scoped>\n",
              "    .dataframe tbody tr th:only-of-type {\n",
              "        vertical-align: middle;\n",
              "    }\n",
              "\n",
              "    .dataframe tbody tr th {\n",
              "        vertical-align: top;\n",
              "    }\n",
              "\n",
              "    .dataframe thead th {\n",
              "        text-align: right;\n",
              "    }\n",
              "</style>\n",
              "<table border=\"1\" class=\"dataframe\">\n",
              "  <thead>\n",
              "    <tr style=\"text-align: right;\">\n",
              "      <th></th>\n",
              "      <th>고객ID</th>\n",
              "      <th>이탈여부</th>\n",
              "      <th>총매출액</th>\n",
              "      <th>구매금액대</th>\n",
              "      <th>방문빈도</th>\n",
              "      <th>1회 평균매출액</th>\n",
              "      <th>할인권 사용 횟수</th>\n",
              "      <th>총 할인 금액</th>\n",
              "      <th>고객등급</th>\n",
              "      <th>구매유형</th>\n",
              "      <th>...</th>\n",
              "      <th>구매카테고리수</th>\n",
              "      <th>거주지역</th>\n",
              "      <th>성별</th>\n",
              "      <th>고객 나이대</th>\n",
              "      <th>거래기간</th>\n",
              "      <th>할인민감여부</th>\n",
              "      <th>Recency</th>\n",
              "      <th>Frequency</th>\n",
              "      <th>Monetary</th>\n",
              "      <th>평균 구매주기</th>\n",
              "    </tr>\n",
              "  </thead>\n",
              "  <tbody>\n",
              "    <tr>\n",
              "      <th>count</th>\n",
              "      <td>1000.000000</td>\n",
              "      <td>1000.000000</td>\n",
              "      <td>1.000000e+03</td>\n",
              "      <td>1000.000000</td>\n",
              "      <td>1000.00000</td>\n",
              "      <td>1.000000e+03</td>\n",
              "      <td>1000.000000</td>\n",
              "      <td>1000.000000</td>\n",
              "      <td>1000.000000</td>\n",
              "      <td>1000.000000</td>\n",
              "      <td>...</td>\n",
              "      <td>1000.000000</td>\n",
              "      <td>1000.000000</td>\n",
              "      <td>1000.000000</td>\n",
              "      <td>1000.000000</td>\n",
              "      <td>1000.000000</td>\n",
              "      <td>1000.000000</td>\n",
              "      <td>1000.000000</td>\n",
              "      <td>1000.000000</td>\n",
              "      <td>1000.000000</td>\n",
              "      <td>1000.000000</td>\n",
              "    </tr>\n",
              "    <tr>\n",
              "      <th>mean</th>\n",
              "      <td>500.500000</td>\n",
              "      <td>0.300000</td>\n",
              "      <td>5.858013e+06</td>\n",
              "      <td>0.700000</td>\n",
              "      <td>22.91100</td>\n",
              "      <td>3.521024e+05</td>\n",
              "      <td>16.027000</td>\n",
              "      <td>292371.670000</td>\n",
              "      <td>1.546000</td>\n",
              "      <td>2.656000</td>\n",
              "      <td>...</td>\n",
              "      <td>5.217000</td>\n",
              "      <td>5.147000</td>\n",
              "      <td>0.189000</td>\n",
              "      <td>3.964000</td>\n",
              "      <td>3495.891000</td>\n",
              "      <td>0.400000</td>\n",
              "      <td>4.925000</td>\n",
              "      <td>2.289000</td>\n",
              "      <td>4.129000</td>\n",
              "      <td>266.880824</td>\n",
              "    </tr>\n",
              "    <tr>\n",
              "      <th>std</th>\n",
              "      <td>288.819436</td>\n",
              "      <td>0.458487</td>\n",
              "      <td>5.812815e+06</td>\n",
              "      <td>0.781416</td>\n",
              "      <td>19.08217</td>\n",
              "      <td>3.124636e+05</td>\n",
              "      <td>8.341334</td>\n",
              "      <td>111937.501042</td>\n",
              "      <td>0.498129</td>\n",
              "      <td>1.046307</td>\n",
              "      <td>...</td>\n",
              "      <td>2.224153</td>\n",
              "      <td>1.169084</td>\n",
              "      <td>0.391705</td>\n",
              "      <td>1.078827</td>\n",
              "      <td>965.966194</td>\n",
              "      <td>0.490143</td>\n",
              "      <td>1.744253</td>\n",
              "      <td>1.669811</td>\n",
              "      <td>1.560383</td>\n",
              "      <td>254.077398</td>\n",
              "    </tr>\n",
              "    <tr>\n",
              "      <th>min</th>\n",
              "      <td>1.000000</td>\n",
              "      <td>0.000000</td>\n",
              "      <td>1.886100e+06</td>\n",
              "      <td>0.000000</td>\n",
              "      <td>1.00000</td>\n",
              "      <td>2.708200e+04</td>\n",
              "      <td>1.000000</td>\n",
              "      <td>3750.000000</td>\n",
              "      <td>1.000000</td>\n",
              "      <td>1.000000</td>\n",
              "      <td>...</td>\n",
              "      <td>1.000000</td>\n",
              "      <td>1.000000</td>\n",
              "      <td>0.000000</td>\n",
              "      <td>2.000000</td>\n",
              "      <td>827.000000</td>\n",
              "      <td>0.000000</td>\n",
              "      <td>1.000000</td>\n",
              "      <td>1.000000</td>\n",
              "      <td>1.000000</td>\n",
              "      <td>13.980645</td>\n",
              "    </tr>\n",
              "    <tr>\n",
              "      <th>25%</th>\n",
              "      <td>250.750000</td>\n",
              "      <td>0.000000</td>\n",
              "      <td>2.815905e+06</td>\n",
              "      <td>0.000000</td>\n",
              "      <td>10.75000</td>\n",
              "      <td>1.631242e+05</td>\n",
              "      <td>9.000000</td>\n",
              "      <td>261686.250000</td>\n",
              "      <td>1.000000</td>\n",
              "      <td>2.000000</td>\n",
              "      <td>...</td>\n",
              "      <td>3.000000</td>\n",
              "      <td>4.000000</td>\n",
              "      <td>0.000000</td>\n",
              "      <td>3.000000</td>\n",
              "      <td>2871.000000</td>\n",
              "      <td>0.000000</td>\n",
              "      <td>4.000000</td>\n",
              "      <td>1.000000</td>\n",
              "      <td>3.000000</td>\n",
              "      <td>111.957671</td>\n",
              "    </tr>\n",
              "    <tr>\n",
              "      <th>50%</th>\n",
              "      <td>500.500000</td>\n",
              "      <td>0.000000</td>\n",
              "      <td>4.092145e+06</td>\n",
              "      <td>0.500000</td>\n",
              "      <td>18.00000</td>\n",
              "      <td>2.582080e+05</td>\n",
              "      <td>17.000000</td>\n",
              "      <td>347500.000000</td>\n",
              "      <td>2.000000</td>\n",
              "      <td>2.000000</td>\n",
              "      <td>...</td>\n",
              "      <td>5.000000</td>\n",
              "      <td>5.000000</td>\n",
              "      <td>0.000000</td>\n",
              "      <td>4.000000</td>\n",
              "      <td>3836.000000</td>\n",
              "      <td>0.000000</td>\n",
              "      <td>5.000000</td>\n",
              "      <td>2.000000</td>\n",
              "      <td>4.000000</td>\n",
              "      <td>191.469697</td>\n",
              "    </tr>\n",
              "    <tr>\n",
              "      <th>75%</th>\n",
              "      <td>750.250000</td>\n",
              "      <td>1.000000</td>\n",
              "      <td>6.545392e+06</td>\n",
              "      <td>1.000000</td>\n",
              "      <td>28.00000</td>\n",
              "      <td>4.268310e+05</td>\n",
              "      <td>23.000000</td>\n",
              "      <td>365400.000000</td>\n",
              "      <td>2.000000</td>\n",
              "      <td>4.000000</td>\n",
              "      <td>...</td>\n",
              "      <td>7.000000</td>\n",
              "      <td>6.000000</td>\n",
              "      <td>0.000000</td>\n",
              "      <td>5.000000</td>\n",
              "      <td>4207.250000</td>\n",
              "      <td>1.000000</td>\n",
              "      <td>7.000000</td>\n",
              "      <td>3.000000</td>\n",
              "      <td>6.000000</td>\n",
              "      <td>324.386218</td>\n",
              "    </tr>\n",
              "    <tr>\n",
              "      <th>max</th>\n",
              "      <td>1000.000000</td>\n",
              "      <td>1.000000</td>\n",
              "      <td>6.759576e+07</td>\n",
              "      <td>2.000000</td>\n",
              "      <td>155.00000</td>\n",
              "      <td>2.798500e+06</td>\n",
              "      <td>30.000000</td>\n",
              "      <td>400600.000000</td>\n",
              "      <td>2.000000</td>\n",
              "      <td>4.000000</td>\n",
              "      <td>...</td>\n",
              "      <td>9.000000</td>\n",
              "      <td>7.000000</td>\n",
              "      <td>1.000000</td>\n",
              "      <td>7.000000</td>\n",
              "      <td>5334.000000</td>\n",
              "      <td>1.000000</td>\n",
              "      <td>7.000000</td>\n",
              "      <td>7.000000</td>\n",
              "      <td>7.000000</td>\n",
              "      <td>1956.000000</td>\n",
              "    </tr>\n",
              "  </tbody>\n",
              "</table>\n",
              "<p>8 rows × 21 columns</p>\n",
              "</div>\n",
              "      <button class=\"colab-df-convert\" onclick=\"convertToInteractive('df-919f7702-1355-41dd-b9eb-6010ef656fd4')\"\n",
              "              title=\"Convert this dataframe to an interactive table.\"\n",
              "              style=\"display:none;\">\n",
              "        \n",
              "  <svg xmlns=\"http://www.w3.org/2000/svg\" height=\"24px\"viewBox=\"0 0 24 24\"\n",
              "       width=\"24px\">\n",
              "    <path d=\"M0 0h24v24H0V0z\" fill=\"none\"/>\n",
              "    <path d=\"M18.56 5.44l.94 2.06.94-2.06 2.06-.94-2.06-.94-.94-2.06-.94 2.06-2.06.94zm-11 1L8.5 8.5l.94-2.06 2.06-.94-2.06-.94L8.5 2.5l-.94 2.06-2.06.94zm10 10l.94 2.06.94-2.06 2.06-.94-2.06-.94-.94-2.06-.94 2.06-2.06.94z\"/><path d=\"M17.41 7.96l-1.37-1.37c-.4-.4-.92-.59-1.43-.59-.52 0-1.04.2-1.43.59L10.3 9.45l-7.72 7.72c-.78.78-.78 2.05 0 2.83L4 21.41c.39.39.9.59 1.41.59.51 0 1.02-.2 1.41-.59l7.78-7.78 2.81-2.81c.8-.78.8-2.07 0-2.86zM5.41 20L4 18.59l7.72-7.72 1.47 1.35L5.41 20z\"/>\n",
              "  </svg>\n",
              "      </button>\n",
              "      \n",
              "  <style>\n",
              "    .colab-df-container {\n",
              "      display:flex;\n",
              "      flex-wrap:wrap;\n",
              "      gap: 12px;\n",
              "    }\n",
              "\n",
              "    .colab-df-convert {\n",
              "      background-color: #E8F0FE;\n",
              "      border: none;\n",
              "      border-radius: 50%;\n",
              "      cursor: pointer;\n",
              "      display: none;\n",
              "      fill: #1967D2;\n",
              "      height: 32px;\n",
              "      padding: 0 0 0 0;\n",
              "      width: 32px;\n",
              "    }\n",
              "\n",
              "    .colab-df-convert:hover {\n",
              "      background-color: #E2EBFA;\n",
              "      box-shadow: 0px 1px 2px rgba(60, 64, 67, 0.3), 0px 1px 3px 1px rgba(60, 64, 67, 0.15);\n",
              "      fill: #174EA6;\n",
              "    }\n",
              "\n",
              "    [theme=dark] .colab-df-convert {\n",
              "      background-color: #3B4455;\n",
              "      fill: #D2E3FC;\n",
              "    }\n",
              "\n",
              "    [theme=dark] .colab-df-convert:hover {\n",
              "      background-color: #434B5C;\n",
              "      box-shadow: 0px 1px 3px 1px rgba(0, 0, 0, 0.15);\n",
              "      filter: drop-shadow(0px 1px 2px rgba(0, 0, 0, 0.3));\n",
              "      fill: #FFFFFF;\n",
              "    }\n",
              "  </style>\n",
              "\n",
              "      <script>\n",
              "        const buttonEl =\n",
              "          document.querySelector('#df-919f7702-1355-41dd-b9eb-6010ef656fd4 button.colab-df-convert');\n",
              "        buttonEl.style.display =\n",
              "          google.colab.kernel.accessAllowed ? 'block' : 'none';\n",
              "\n",
              "        async function convertToInteractive(key) {\n",
              "          const element = document.querySelector('#df-919f7702-1355-41dd-b9eb-6010ef656fd4');\n",
              "          const dataTable =\n",
              "            await google.colab.kernel.invokeFunction('convertToInteractive',\n",
              "                                                     [key], {});\n",
              "          if (!dataTable) return;\n",
              "\n",
              "          const docLinkHtml = 'Like what you see? Visit the ' +\n",
              "            '<a target=\"_blank\" href=https://colab.research.google.com/notebooks/data_table.ipynb>data table notebook</a>'\n",
              "            + ' to learn more about interactive tables.';\n",
              "          element.innerHTML = '';\n",
              "          dataTable['output_type'] = 'display_data';\n",
              "          await google.colab.output.renderOutput(dataTable, element);\n",
              "          const docLink = document.createElement('div');\n",
              "          docLink.innerHTML = docLinkHtml;\n",
              "          element.appendChild(docLink);\n",
              "        }\n",
              "      </script>\n",
              "    </div>\n",
              "  </div>\n",
              "  "
            ]
          },
          "metadata": {},
          "execution_count": 15
        }
      ]
    },
    {
      "cell_type": "code",
      "source": [
        "#언더 샘플링\n",
        "from imblearn.under_sampling import RandomUnderSampler\n",
        "from collections import Counter\n",
        "\n",
        "X_train_under, Y_train_under = RandomUnderSampler(random_state = 0).fit_resample(X_train, Y_train)\n",
        "\n",
        "print(\"original data %s\" % Counter(Y))\n",
        "print(\"original train data %s\" % Counter(Y_train))\n",
        "print(\"uner train data %s\" % Counter(Y_train_under))"
      ],
      "metadata": {
        "colab": {
          "base_uri": "https://localhost:8080/"
        },
        "id": "rvZ0eYps3tS8",
        "outputId": "a218a3e7-c9cf-4744-e065-7b543d79003e"
      },
      "execution_count": null,
      "outputs": [
        {
          "output_type": "stream",
          "name": "stdout",
          "text": [
            "original data Counter({0: 700, 1: 300})\n",
            "original train data Counter({0: 481, 1: 219})\n",
            "uner train data Counter({0: 219, 1: 219})\n"
          ]
        }
      ]
    },
    {
      "cell_type": "code",
      "source": [
        "#오버 샘플링\n",
        "from imblearn.over_sampling import SMOTE #synthetic minority over-sampling techniqe\n",
        "\n",
        "X_train_over, Y_train_over = SMOTE(random_state= 0).fit_resample(X_train, Y_train)\n",
        "\n",
        "print(\"original data %s\" % Counter(Y))\n",
        "print(\"original train data %s\" % Counter(Y_train))\n",
        "print(\"over train data %s\" % Counter(Y_train_over))\n",
        "\n",
        "#synthetic 인조 \n",
        "\n",
        "#0 -> 이탈안함 / 1 -> 이탈함"
      ],
      "metadata": {
        "colab": {
          "base_uri": "https://localhost:8080/"
        },
        "id": "5GH9QNNi4nC4",
        "outputId": "062c421c-7994-4ad0-d4e6-00872390832e"
      },
      "execution_count": null,
      "outputs": [
        {
          "output_type": "stream",
          "name": "stdout",
          "text": [
            "original data Counter({0: 700, 1: 300})\n",
            "original train data Counter({0: 481, 1: 219})\n",
            "over train data Counter({1: 481, 0: 481})\n"
          ]
        }
      ]
    },
    {
      "cell_type": "code",
      "source": [
        "df.info()"
      ],
      "metadata": {
        "colab": {
          "base_uri": "https://localhost:8080/"
        },
        "id": "dXi1AgC4XOGj",
        "outputId": "a9921d19-2bbd-4a58-ec25-d06c5c424e0c"
      },
      "execution_count": null,
      "outputs": [
        {
          "output_type": "stream",
          "name": "stdout",
          "text": [
            "<class 'pandas.core.frame.DataFrame'>\n",
            "RangeIndex: 1000 entries, 0 to 999\n",
            "Data columns (total 21 columns):\n",
            " #   Column     Non-Null Count  Dtype  \n",
            "---  ------     --------------  -----  \n",
            " 0   고객ID       1000 non-null   int64  \n",
            " 1   이탈여부       1000 non-null   int64  \n",
            " 2   총매출액       1000 non-null   int64  \n",
            " 3   구매금액대      1000 non-null   int64  \n",
            " 4   방문빈도       1000 non-null   int64  \n",
            " 5   1회 평균매출액   1000 non-null   int64  \n",
            " 6   할인권 사용 횟수  1000 non-null   int64  \n",
            " 7   총 할인 금액    1000 non-null   int64  \n",
            " 8   고객등급       1000 non-null   int64  \n",
            " 9   구매유형       1000 non-null   int64  \n",
            " 10  클레임접수여부    1000 non-null   int64  \n",
            " 11  구매카테고리수    1000 non-null   int64  \n",
            " 12  거주지역       1000 non-null   int64  \n",
            " 13  성별         1000 non-null   int64  \n",
            " 14  고객 나이대     1000 non-null   int64  \n",
            " 15  거래기간       1000 non-null   int64  \n",
            " 16  할인민감여부     1000 non-null   int64  \n",
            " 17  Recency    1000 non-null   int64  \n",
            " 18  Frequency  1000 non-null   int64  \n",
            " 19  Monetary   1000 non-null   int64  \n",
            " 20  평균 구매주기    1000 non-null   float64\n",
            "dtypes: float64(1), int64(20)\n",
            "memory usage: 164.2 KB\n"
          ]
        }
      ]
    },
    {
      "cell_type": "markdown",
      "source": [
        "#선형 회귀분석"
      ],
      "metadata": {
        "id": "hzHl4NwAXaz2"
      }
    },
    {
      "cell_type": "code",
      "source": [
        "import seaborn as sns\n",
        "import numpy as np"
      ],
      "metadata": {
        "id": "g0THrMaSXWdT"
      },
      "execution_count": null,
      "outputs": []
    },
    {
      "cell_type": "code",
      "source": [
        "df[\"평균 구매주기\"].describe()"
      ],
      "metadata": {
        "colab": {
          "base_uri": "https://localhost:8080/"
        },
        "id": "0t--zl3UXlQn",
        "outputId": "9aaa243b-ad08-4bcd-e323-5d9ec8b56443"
      },
      "execution_count": null,
      "outputs": [
        {
          "output_type": "execute_result",
          "data": {
            "text/plain": [
              "count    1000.000000\n",
              "mean      266.880824\n",
              "std       254.077398\n",
              "min        13.980645\n",
              "25%       111.957671\n",
              "50%       191.469697\n",
              "75%       324.386218\n",
              "max      1956.000000\n",
              "Name: 평균 구매주기, dtype: float64"
            ]
          },
          "metadata": {},
          "execution_count": 20
        }
      ]
    },
    {
      "cell_type": "code",
      "source": [
        "df[\"평균 구매주기\"] = np.log1p(df[\"평균 구매주기\"])\n",
        "sns.displot(df[\"평균 구매주기\"])\n",
        "\n",
        "#로그 : 정규화 시켜주는 과정"
      ],
      "metadata": {
        "colab": {
          "base_uri": "https://localhost:8080/",
          "height": 806
        },
        "id": "Itw1WQcbXuOP",
        "outputId": "224d4443-c9e1-45dc-efca-7abf997ee843"
      },
      "execution_count": null,
      "outputs": [
        {
          "output_type": "stream",
          "name": "stderr",
          "text": [
            "/usr/local/lib/python3.8/dist-packages/matplotlib/backends/backend_agg.py:214: RuntimeWarning: Glyph 54217 missing from current font.\n",
            "  font.set_text(s, 0.0, flags=flags)\n",
            "/usr/local/lib/python3.8/dist-packages/matplotlib/backends/backend_agg.py:214: RuntimeWarning: Glyph 44512 missing from current font.\n",
            "  font.set_text(s, 0.0, flags=flags)\n",
            "/usr/local/lib/python3.8/dist-packages/matplotlib/backends/backend_agg.py:214: RuntimeWarning: Glyph 44396 missing from current font.\n",
            "  font.set_text(s, 0.0, flags=flags)\n",
            "/usr/local/lib/python3.8/dist-packages/matplotlib/backends/backend_agg.py:214: RuntimeWarning: Glyph 47588 missing from current font.\n",
            "  font.set_text(s, 0.0, flags=flags)\n",
            "/usr/local/lib/python3.8/dist-packages/matplotlib/backends/backend_agg.py:214: RuntimeWarning: Glyph 51452 missing from current font.\n",
            "  font.set_text(s, 0.0, flags=flags)\n",
            "/usr/local/lib/python3.8/dist-packages/matplotlib/backends/backend_agg.py:214: RuntimeWarning: Glyph 44592 missing from current font.\n",
            "  font.set_text(s, 0.0, flags=flags)\n"
          ]
        },
        {
          "output_type": "execute_result",
          "data": {
            "text/plain": [
              "<seaborn.axisgrid.FacetGrid at 0x7f50834c9790>"
            ]
          },
          "metadata": {},
          "execution_count": 21
        },
        {
          "output_type": "stream",
          "name": "stderr",
          "text": [
            "/usr/local/lib/python3.8/dist-packages/matplotlib/backends/backend_agg.py:183: RuntimeWarning: Glyph 54217 missing from current font.\n",
            "  font.set_text(s, 0, flags=flags)\n",
            "/usr/local/lib/python3.8/dist-packages/matplotlib/backends/backend_agg.py:183: RuntimeWarning: Glyph 44512 missing from current font.\n",
            "  font.set_text(s, 0, flags=flags)\n",
            "/usr/local/lib/python3.8/dist-packages/matplotlib/backends/backend_agg.py:183: RuntimeWarning: Glyph 44396 missing from current font.\n",
            "  font.set_text(s, 0, flags=flags)\n",
            "/usr/local/lib/python3.8/dist-packages/matplotlib/backends/backend_agg.py:183: RuntimeWarning: Glyph 47588 missing from current font.\n",
            "  font.set_text(s, 0, flags=flags)\n",
            "/usr/local/lib/python3.8/dist-packages/matplotlib/backends/backend_agg.py:183: RuntimeWarning: Glyph 51452 missing from current font.\n",
            "  font.set_text(s, 0, flags=flags)\n",
            "/usr/local/lib/python3.8/dist-packages/matplotlib/backends/backend_agg.py:183: RuntimeWarning: Glyph 44592 missing from current font.\n",
            "  font.set_text(s, 0, flags=flags)\n"
          ]
        },
        {
          "output_type": "display_data",
          "data": {
            "text/plain": [
              "<Figure size 360x360 with 1 Axes>"
            ],
            "image/png": "[encoded data removed]"
          },
          "metadata": {
            "needs_background": "light"
          }
        }
      ]
    },
    {
      "cell_type": "code",
      "source": [
        "df.columns"
      ],
      "metadata": {
        "colab": {
          "base_uri": "https://localhost:8080/"
        },
        "id": "yUKFoEADZ6Vq",
        "outputId": "35c36ec0-36e0-4143-d1dd-46304358f56a"
      },
      "execution_count": null,
      "outputs": [
        {
          "output_type": "execute_result",
          "data": {
            "text/plain": [
              "Index(['고객ID', '이탈여부', '총매출액', '구매금액대', '방문빈도', '1회 평균매출액', '할인권 사용 횟수',\n",
              "       '총 할인 금액', '고객등급', '구매유형', '클레임접수여부', '구매카테고리수', '거주지역', '성별', '고객 나이대',\n",
              "       '거래기간', '할인민감여부', 'Recency', 'Frequency', 'Monetary', '평균 구매주기'],\n",
              "      dtype='object')"
            ]
          },
          "metadata": {},
          "execution_count": 23
        }
      ]
    },
    {
      "cell_type": "code",
      "source": [
        "from sklearn.model_selection import train_test_split\n",
        "from sklearn.compose import ColumnTransformer\n",
        "from sklearn.preprocessing import StandardScaler\n",
        "from sklearn.preprocessing import OneHotEncoder\n",
        "\n",
        "num = ['총매출액', '1회 평균매출액', '할인권 사용 횟수','총 할인 금액', '구매카테고리수', 'Frequency','Monetary']\n",
        "cg = ['구매금액대', '고객등급', '구매유형', '클레임접수여부', '거주지역', '성별', '고객 나이대']\n",
        "\n",
        "X = df[df.이탈여부 ==0][num+cg]\n",
        "Y = df[df.이탈여부 == 0][\"평균 구매주기\"]\n",
        "\n",
        "X_train, X_test, Y_train, Y_test = train_test_split(X, Y, test_size = 0.3, random_state = 0)\n",
        "\n",
        "#표준화, 원핫인코딩\n",
        "ct = ColumnTransformer([('scling' , StandardScaler() , num) , ('onehot' , OneHotEncoder(sparse = False), cg)])\n",
        "ct.fit(X_train)\n",
        "X_train = ct.transform(X_train)\n",
        "X_test = ct.transform(X_test)\n",
        "\n",
        "print(X_train[0])"
      ],
      "metadata": {
        "colab": {
          "base_uri": "https://localhost:8080/"
        },
        "id": "Tkm09pftYHrW",
        "outputId": "570ae8c6-909f-409c-c4de-6294cac758ec"
      },
      "execution_count": null,
      "outputs": [
        {
          "output_type": "stream",
          "name": "stdout",
          "text": [
            "[-0.42215576 -0.59782402  0.72324173  0.52150413  1.67181667 -0.24075719\n",
            "  0.52402175  1.          0.          0.          1.          0.\n",
            "  0.          0.          1.          0.          0.          1.\n",
            "  0.          0.          0.          0.          1.          0.\n",
            "  0.          1.          0.          0.          0.          1.\n",
            "  0.          0.          0.        ]\n"
          ]
        }
      ]
    },
    {
      "cell_type": "code",
      "source": [
        "from sklearn.linear_model import LinearRegression\n",
        "from sklearn.metrics import mean_squared_error\n",
        "from math import sqrt\n",
        "\n",
        "Ir = LinearRegression().fit(X_train, Y_train)\n",
        "\n",
        "Y_pred = Ir.predict(X_test)\n",
        "print(\"predict value\\n\", Y_pred)\n",
        "print(\"train R2 : {:.3f}\". format(Ir.score(X_train, Y_train)))\n",
        "print(\"testR2 : {:.3f}\".format(Ir.score(X_test, Y_test)))\n",
        "\n",
        "rmse = sqrt(mean_squared_error(Y_test, Y_pred))\n",
        "print(\"RMSE : {:.3f}\".format(rmse)) #RMSE가 0에 가까울수록 좋음"
      ],
      "metadata": {
        "colab": {
          "base_uri": "https://localhost:8080/"
        },
        "id": "zajz770mbIRP",
        "outputId": "e55d5b56-2e76-4d0a-b02b-75cf7c254080"
      },
      "execution_count": null,
      "outputs": [
        {
          "output_type": "stream",
          "name": "stdout",
          "text": [
            "predict value\n",
            " [ 0.24316028  0.26118365  0.11142313  0.41991698  0.10759381  0.23922611\n",
            "  0.26257742  0.2072948   0.43310731  0.18174763  0.63019116  0.30304085\n",
            "  0.24740564  0.54278432 -0.00527551  0.3402226   0.41492831  0.4058005\n",
            "  0.46254816  0.55803768  0.22655829  0.29474303  0.27469475  0.42882345\n",
            "  0.22766943  0.55910507  0.42378023  0.40680943  0.31251304  0.33558426\n",
            "  0.33280047  0.33542074  0.4273931   0.0288778   0.22840567  0.2364713\n",
            "  0.18417972  0.2270927   0.14084518  0.26569394  0.25043649  0.3609664\n",
            "  0.22437197  0.1158634   0.34500475  0.39810422  0.3903227   0.50995136\n",
            "  0.36154697  0.36916151  0.28382853  0.40948448  0.50106205  0.22050701\n",
            "  0.18540196  0.39700262  0.27280793  0.34267038  0.06491991  0.0573909\n",
            "  0.45330671  0.36983107  0.23927545  0.40312799  0.26814009  0.3911057\n",
            "  0.39113853  0.25231798  0.49547998  0.21799421  0.14672978  0.30152271\n",
            "  0.3256266   0.49749167  0.28943829  0.22618915  0.14510587  0.40648951\n",
            "  0.22406843  0.42093956  0.41627455  0.31139596  0.32157092  0.56568981\n",
            "  0.20750607  0.34501231  0.34176077  0.64553803  0.19257852  0.34046583\n",
            "  0.16427081  0.22288371  0.44347003  0.29187621  0.28530951  0.20669898\n",
            "  0.23000159  0.13210041  0.30115405  0.26050755  0.23305201  0.34286857\n",
            "  0.40552446  0.41844327  0.29218937  0.22628215  0.41791483  0.32992837\n",
            "  0.1551522   0.29303257  0.31863536  0.04356821  0.29884696  0.39759715\n",
            "  0.31060757  0.3543976   0.35391767  0.31570031  0.36741303  0.38188398\n",
            "  0.23682834  0.30842072  0.28754697  0.48167879  0.35725298  0.2823755\n",
            "  0.28512112  0.4134112   0.18355708  0.36967678  0.3464274   0.30455012\n",
            "  0.21450753  0.09660312  0.38223803  0.2739304   0.33593713  0.25292526\n",
            "  0.23595687  0.1605347   0.20046617  0.43393184  0.44123094  0.51039146\n",
            "  0.4352877   0.24814821 -0.06652425  0.34809766  0.15408039  0.19969658\n",
            "  0.29739066  0.18949829  0.41059074  0.39025782  0.22522233  0.33091099\n",
            "  0.28284261  0.27565107  0.32304071  0.42465282  0.47983608  0.33606852\n",
            "  0.29572441  0.18882085  0.28541517  0.35841225  0.16203813  0.17287701\n",
            "  0.34877399  0.17038306  0.28429454  0.45938976  0.38089269  0.26617638\n",
            "  0.48482288  0.30869316  0.53635413  0.42788838  0.13545924  0.42414568\n",
            "  0.31100626  0.38307815  0.37158111  0.44977357  0.251224    0.33455533\n",
            "  0.22497958  0.19346855  0.27451019  0.28701592  0.28840425  0.46048186\n",
            "  0.20907899  0.31256064  0.38284713  0.2722337   0.16507959  0.59345593\n",
            "  0.31353744  0.07937367  0.34068939  0.29739407  0.3234281   0.34679956\n",
            "  0.08668617  0.19150108  0.18626526  0.22118321  0.34342047  0.4467287\n",
            "  0.29386777  0.45455479  0.48345121  0.31409836  0.23632606  0.33103271\n",
            "  0.38713735  0.64000965  0.56350567  0.39191552  0.28958505  0.55916023\n",
            "  0.0594548   0.45817557  0.43630515  0.37884935  0.43271204  0.23762024\n",
            "  0.39405327  0.08025778  0.52793411  0.15731758  0.35245212  0.46525506\n",
            "  0.3215499   0.28364731  0.45301097  0.43019663  0.29633055  0.31060683\n",
            "  0.34188942  0.29194904  0.36831279  0.36593207  0.15988226  0.34542054\n",
            "  0.03822006  0.33598027  0.19604524  0.50036256  0.44635895  0.27266964\n",
            "  0.44231549  0.42675661  0.33246716  0.16306965  0.41817576  0.40890642\n",
            "  0.18754658  0.42065977  0.27067818  0.36939687  0.22370274  0.25679586\n",
            "  0.31165324  0.31298491  0.19672964  0.25043546  0.3266848   0.4573648\n",
            "  0.31204059  0.31741463  0.47648153  0.42987724  0.35893191  0.2746866\n",
            "  0.28316752  0.28620961  0.23235011  0.28466344  0.31276532  0.2004499\n",
            "  0.34842084  0.31221225  0.26306261  0.50720345  0.08600344  0.34209718\n",
            "  0.59254114  0.49607895  0.34714693  0.24599385  0.26176646  0.28099939\n",
            "  0.25700437  0.39837249  0.37824626  0.32305314  0.12089129  0.3539428 ]\n",
            "train R2 : 0.074\n",
            "testR2 : 0.056\n",
            "RMSE : 0.431\n"
          ]
        }
      ]
    },
    {
      "cell_type": "code",
      "source": [
        "#num = ['총매출액', '1회 평균매출액', '할인권 사용 횟수','총 할인 금액', '구매카테고리수', 'Frequency','Monetary']\n",
        "#cg = ['구매금액대', '고객등급', '구매유형', '클레임접수여부', '거주지역', '성별', '고객 나이대']\n",
        "#num : x가 새로 생기지는 않음\n",
        "#cg : x가 집단만큼 생김 맞냐 이게.. \n",
        "print(\"절편\", np.round(lr.intercept_, 3))\n",
        "print(\"가중치(beta)\", np.round(lr.coef_, 3))"
      ],
      "metadata": {
        "colab": {
          "base_uri": "https://localhost:8080/",
          "height": 227
        },
        "id": "Y6kbQXtoiPo7",
        "outputId": "055e6c13-6208-4c9d-c437-e96e12e44e99"
      },
      "execution_count": null,
      "outputs": [
        {
          "output_type": "error",
          "ename": "NameError",
          "evalue": "ignored",
          "traceback": [
            "\u001b[0;31m---------------------------------------------------------------------------\u001b[0m",
            "\u001b[0;31mNameError\u001b[0m                                 Traceback (most recent call last)",
            "\u001b[0;32m<ipython-input-73-dafdb033e66f>\u001b[0m in \u001b[0;36m<module>\u001b[0;34m\u001b[0m\n\u001b[1;32m      3\u001b[0m \u001b[0;31m#num : x가 새로 생기지는 않음\u001b[0m\u001b[0;34m\u001b[0m\u001b[0;34m\u001b[0m\u001b[0;34m\u001b[0m\u001b[0m\n\u001b[1;32m      4\u001b[0m \u001b[0;31m#cg : x가 집단만큼 생김 맞냐 이게..\u001b[0m\u001b[0;34m\u001b[0m\u001b[0;34m\u001b[0m\u001b[0;34m\u001b[0m\u001b[0m\n\u001b[0;32m----> 5\u001b[0;31m \u001b[0mprint\u001b[0m\u001b[0;34m(\u001b[0m\u001b[0;34m\"절편\"\u001b[0m\u001b[0;34m,\u001b[0m \u001b[0mnp\u001b[0m\u001b[0;34m.\u001b[0m\u001b[0mround\u001b[0m\u001b[0;34m(\u001b[0m\u001b[0mlr\u001b[0m\u001b[0;34m.\u001b[0m\u001b[0mintercept_\u001b[0m\u001b[0;34m,\u001b[0m \u001b[0;36m3\u001b[0m\u001b[0;34m)\u001b[0m\u001b[0;34m)\u001b[0m\u001b[0;34m\u001b[0m\u001b[0;34m\u001b[0m\u001b[0m\n\u001b[0m\u001b[1;32m      6\u001b[0m \u001b[0mprint\u001b[0m\u001b[0;34m(\u001b[0m\u001b[0;34m\"가중치(beta)\"\u001b[0m\u001b[0;34m,\u001b[0m \u001b[0mnp\u001b[0m\u001b[0;34m.\u001b[0m\u001b[0mround\u001b[0m\u001b[0;34m(\u001b[0m\u001b[0mlr\u001b[0m\u001b[0;34m.\u001b[0m\u001b[0mcoef_\u001b[0m\u001b[0;34m,\u001b[0m \u001b[0;36m3\u001b[0m\u001b[0;34m)\u001b[0m\u001b[0;34m)\u001b[0m\u001b[0;34m\u001b[0m\u001b[0;34m\u001b[0m\u001b[0m\n",
            "\u001b[0;31mNameError\u001b[0m: name 'lr' is not defined"
          ]
        }
      ]
    },
    {
      "cell_type": "markdown",
      "source": [
        "#릿지, 라쏘 회귀"
      ],
      "metadata": {
        "id": "87-GvHg-wO9h"
      }
    },
    {
      "cell_type": "code",
      "source": [
        "#릿지\n",
        "\n",
        "from sklearn.linear_model import Ridge\n",
        "\n",
        "Ir_ridge = Ridge(random_state = 0).fit(X_train, Y_train)\n",
        "Y_pred = Ir_ridge.predict(X_test)\n",
        "\n",
        "print(\"예측값(Y predict value) \\n\", Y_pred)\n",
        "\n",
        "#릿지를 적용해서 나온 예측값"
      ],
      "metadata": {
        "colab": {
          "base_uri": "https://localhost:8080/"
        },
        "id": "2dUODaE4wOcB",
        "outputId": "eeba59b1-2afc-4a18-c9fb-2e7d9fd86d4c"
      },
      "execution_count": null,
      "outputs": [
        {
          "output_type": "stream",
          "name": "stdout",
          "text": [
            "예측값(Y predict value) \n",
            " [6.03000797 5.41671746 5.42932123 6.44127922 4.93860553 5.85932374\n",
            " 4.56839084 3.81054588 5.22477967 5.61889847 5.66813628 3.42981349\n",
            " 4.33248596 5.41101642 5.83804147 5.04471767 5.1211324  5.61206657\n",
            " 5.28801914 5.32488795 5.45169079 5.25880606 5.71346032 5.02859175\n",
            " 4.70951147 5.38878901 5.60027856 4.09721037 4.40744067 5.45098959\n",
            " 5.39702921 5.64784758 5.27252093 5.79008128 5.35467632 5.56063965\n",
            " 5.19607603 5.57536879 5.46592343 6.61557262 5.42387534 4.43825559\n",
            " 4.69193156 4.30121093 4.7731486  5.950302   4.94125475 5.44030949\n",
            " 5.2948706  5.79698793 5.44723488 6.13538058 4.70865764 4.72464693\n",
            " 5.25715635 5.29808444 4.9962477  5.70904828 4.24165264 5.06579461\n",
            " 5.1252699  4.83996783 4.44518243 5.55905844 4.70841625 5.47720406\n",
            " 5.44152413 4.79120395 5.56974829 3.25280314 5.6106784  5.06803014\n",
            " 5.25956393 4.70791967 3.98838094 5.84965084 5.67331254 5.31944294\n",
            " 4.21646513 4.98002289 4.81229781 5.46333154 5.27177929 4.610552\n",
            " 5.48261262 5.17186083 4.9841382  5.52892245 4.20170762 5.50716341\n",
            " 5.46594806 5.3966436  5.17127401 5.21499908 4.92397251 6.36092123\n",
            " 5.6674045  4.52266905 5.49573838 3.94846846 4.35125638 5.25753846\n",
            " 5.67123849 5.49881707 5.35831053 4.59499848 5.31448995 5.38475668\n",
            " 5.31944738 4.50333435 5.56591817 5.4401703  5.80399748 5.98417189\n",
            " 5.39226662 4.53508055 5.04657319 5.15176254 4.70530564 4.69265593\n",
            " 5.24839856 5.3767028  5.42649019 4.85196419 5.06505138 5.61193016\n",
            " 5.01427917 4.26477501 5.07720561 4.67741468 3.42769567 5.263973\n",
            " 5.78293944 5.39520592 5.25903992 5.09744686 4.52526308 5.58861481\n",
            " 5.13916331 4.94419716 5.66699272 5.8104644  5.36521963 5.20504587\n",
            " 4.7163364  5.61786925 5.36735762 5.76280418 3.76887428 5.18944838\n",
            " 4.55473703 4.86336754 5.31431324 4.68301705 6.06735591 5.1132049\n",
            " 3.51345104 7.17613879 5.26076015 5.35320971 5.19584987 5.64474613\n",
            " 6.1145688  4.55458275 4.8899415  5.38090059 5.63183886 4.93973411\n",
            " 5.67986287 5.10076749 3.02173131 5.30605869 4.6641244  5.94914821\n",
            " 4.32084317 5.36097409 7.27340601 4.49330047 5.45468312 4.5534446\n",
            " 7.33888147 6.1921297  5.83553559 5.73048056 5.55838073 5.41628167\n",
            " 5.5204242  5.60364379 4.39187133 5.31264895 5.58717864 5.05450839\n",
            " 6.10221635 3.71454243 5.08511824 5.55356348 5.53973876 4.4471473\n",
            " 5.47041853 4.32234069 6.30857552 3.8395683  5.20562334 5.47293632\n",
            " 5.1282533  4.60088108 5.20920958 5.77548498 5.55173248 5.16133714]\n"
          ]
        }
      ]
    },
    {
      "cell_type": "code",
      "source": [
        "rmse = sqrt(mean_squared_error(Y_test, Y_pred))\n",
        "print(\"ridgeR2 : {:.3f}\".format(Ir_ridge.score(X_train, Y_train)))\n",
        "print(\"RMSE : {:.3f}\".format(rmse))\n",
        "\n",
        "#비교\n",
        "print(\"Ir R2 : {:.3f}\".format(Ir.score(X_train, Y_train)))\n",
        "print(\"ridge R2 : {:.3f}\".format(Ir_ridge.score(X_train,Y_train)))"
      ],
      "metadata": {
        "colab": {
          "base_uri": "https://localhost:8080/"
        },
        "id": "dHRwLqBdye2v",
        "outputId": "7034bec6-507c-4ccb-c4e5-90bcf1af2d20"
      },
      "execution_count": null,
      "outputs": [
        {
          "output_type": "stream",
          "name": "stdout",
          "text": [
            "ridgeR2 : 0.726\n",
            "RMSE : 0.403\n",
            "Ir R2 : 0.726\n",
            "ridge R2 : 0.726\n"
          ]
        }
      ]
    },
    {
      "cell_type": "code",
      "source": [
        "#라쏘\n",
        "from sklearn.linear_model import Lasso\n",
        "\n",
        "Ir_lasso = Lasso(random_state = 0, alpha = 0.01, max_iter = 1000).fit(X_train, Y_train)\n",
        "Y_pred = Ir_lasso.predict(X_test)\n",
        "\n",
        "print(\"예측값(Y predict value) \\n\", Y_pred)\n",
        "\n",
        "#알파값에 의해 베타 계수들이 규제를 받음"
      ],
      "metadata": {
        "colab": {
          "base_uri": "https://localhost:8080/"
        },
        "id": "oDOzS-wjz3cD",
        "outputId": "dc6faeb0-baa2-4926-d6ef-501479b3faf5"
      },
      "execution_count": null,
      "outputs": [
        {
          "output_type": "stream",
          "name": "stdout",
          "text": [
            "예측값(Y predict value) \n",
            " [5.85999035 5.43036643 5.44663007 6.48906612 4.97641413 5.69822258\n",
            " 4.5716117  3.88906492 5.27984535 5.54858587 5.67709958 3.30742434\n",
            " 4.45272397 5.42149034 5.87903236 5.00187799 5.12055037 5.56949787\n",
            " 5.33279402 5.0264179  5.52733519 5.1867408  5.665303   5.0119166\n",
            " 4.70132881 5.44864394 5.62488274 4.16327321 4.38211259 5.4308754\n",
            " 5.37511549 5.67040693 5.19104603 5.79672221 5.47877539 5.4547485\n",
            " 5.25369206 5.54714363 5.42273349 6.6026743  5.44052754 4.61359453\n",
            " 4.74827815 4.47000201 4.78926599 5.82570411 4.93589832 5.42347938\n",
            " 5.19064772 5.71009563 5.38598782 5.87895508 4.47556196 4.77561637\n",
            " 5.23514088 5.36821002 4.94726191 5.74052715 4.48801399 4.99109917\n",
            " 4.96578984 4.92437103 4.49896869 5.51596171 4.70911385 5.37807152\n",
            " 5.38059893 4.70777152 5.63186935 3.33411699 5.63024419 5.02637709\n",
            " 5.23878352 4.85617924 4.07737633 5.82495727 5.67069263 5.22957699\n",
            " 4.31245514 5.15236296 4.79517679 5.3733623  5.32829571 4.50502391\n",
            " 5.54652945 5.21846617 5.01779632 5.53962851 4.32845933 5.49707177\n",
            " 5.47579866 5.47030054 5.11389376 5.34111284 5.03510473 6.30417129\n",
            " 5.54703726 4.56825259 5.46293324 4.00945795 4.4638185  5.21238187\n",
            " 5.57668597 5.38856242 5.42216949 4.69398268 5.18384901 5.33034093\n",
            " 5.21577881 4.68397292 5.45096619 5.36153877 5.74800785 5.93458662\n",
            " 5.38343471 4.59590606 5.04093295 5.20282397 4.78319821 4.87273491\n",
            " 5.32614147 5.3610081  5.18371316 4.79607895 5.18381171 5.59420426\n",
            " 4.90357639 4.39371112 4.9374651  4.89277018 3.57275229 5.20795496\n",
            " 5.64477093 5.4925311  5.10006975 5.05996799 4.37514809 5.55741413\n",
            " 5.2321456  5.0419359  5.66605908 5.53149531 5.27795985 5.21192103\n",
            " 4.64460479 5.55312849 5.30863491 5.67994963 3.68696671 5.21799557\n",
            " 4.52838841 4.89986718 5.27500923 4.69073274 6.00138956 5.09996223\n",
            " 3.47931189 7.13868655 5.30524109 5.29005772 5.30312695 5.56059908\n",
            " 5.9062838  4.54511386 4.8664513  5.41831185 5.66006805 5.00005965\n",
            " 5.62518236 4.90297568 3.23729804 5.31907912 4.67991665 5.8259254\n",
            " 4.29128851 5.37734548 7.15292646 4.55304951 5.52657034 4.45132933\n",
            " 7.29774518 6.21806332 5.73610582 5.72771399 5.52314158 5.35375337\n",
            " 5.5273259  5.59471329 4.29164789 5.33613057 5.54767693 5.14272409\n",
            " 5.97251215 3.71880871 5.1787783  5.44436474 5.56822526 4.33993145\n",
            " 5.4687718  4.27447305 6.14488624 3.83143591 5.29196668 5.31166736\n",
            " 5.14886303 4.68537449 5.27532464 5.69569534 5.45935736 5.18546778]\n"
          ]
        }
      ]
    },
    {
      "cell_type": "code",
      "source": [
        "rmse = sqrt(mean_squared_error(Y_test, Y_pred)) \n",
        "print(\"lasso R2 : {:.3f}\".format(Ir_lasso.score(X_train, Y_train)))\n",
        "print(\"RMSE : {:.3f}\".format(rmse))\n",
        "\n",
        "#비교\n",
        "print(\"Ir R2 : {:.3f}\". format(Ir.score(X_train, Y_train)))\n",
        "print(\"ridge R2 :{:.3f}\".format(Ir_ridge.score(X_train,Y_train)))\n",
        "\n",
        "#선에 의해 설명되는 데이터 값은 줄어들었지만 예측면에서는 좋은 결과\n",
        "#알제곱은 떨어졌지만 rsme값은 더 작음(에러가 적음) = 라쏘가 예측력이 더 좋다\n",
        "#라쏘가 일반적으로는 성능이 떨어지지만 데이터가 많은 경우(변수가 많은 경우)는 라쏘가 더 효과적이다\n",
        "#절충된 모델은 엘라스틱넷이 있음"
      ],
      "metadata": {
        "colab": {
          "base_uri": "https://localhost:8080/"
        },
        "id": "51_VASyG1cEM",
        "outputId": "772595ba-b93e-48f5-91c0-b116033a015a"
      },
      "execution_count": null,
      "outputs": [
        {
          "output_type": "stream",
          "name": "stdout",
          "text": [
            "lasso R2 : 0.709\n",
            "RMSE : 0.391\n",
            "Ir R2 : 0.726\n",
            "ridge R2 :0.726\n"
          ]
        }
      ]
    },
    {
      "cell_type": "code",
      "source": [
        "#엘라스틱넷\n",
        "from sklearn.linear_model import ElasticNet\n",
        "\n",
        "Ir_ela = ElasticNet(alpha = 0.01).fit(X_train, Y_train)\n",
        "Y_pred = Ir_ela.predict(X_test)\n",
        "\n",
        "print(\"예측값(Y predict value) \\n\", Y_pred)"
      ],
      "metadata": {
        "colab": {
          "base_uri": "https://localhost:8080/"
        },
        "id": "JT2bniGT2Gmi",
        "outputId": "04d38453-221d-4e03-ea2a-df774ea30a68"
      },
      "execution_count": null,
      "outputs": [
        {
          "output_type": "stream",
          "name": "stdout",
          "text": [
            "예측값(Y predict value) \n",
            " [5.9405265  5.43949734 5.45645319 6.46077287 4.95641647 5.75737516\n",
            " 4.58077628 3.8664991  5.2544911  5.56797779 5.69465169 3.35014751\n",
            " 4.41740921 5.41472514 5.87198794 5.01984866 5.1079496  5.56938294\n",
            " 5.33424602 5.01150019 5.50236848 5.21289944 5.70405138 5.00509779\n",
            " 4.73712733 5.43318095 5.63394533 4.16143035 4.40905906 5.45448006\n",
            " 5.38029119 5.65239382 5.22517748 5.78702872 5.43971899 5.50091954\n",
            " 5.24686551 5.54584606 5.45012419 6.63427603 5.44729928 4.5642916\n",
            " 4.7153638  4.40426435 4.79804451 5.87250388 4.95774286 5.42138422\n",
            " 5.21745366 5.74415372 5.42050245 5.98513427 4.55881782 4.75746308\n",
            " 5.24959713 5.33108418 4.9783863  5.741972   4.39245511 5.01488932\n",
            " 5.01745308 4.88230883 4.47336366 5.52395419 4.69688542 5.41272695\n",
            " 5.3969981  4.7412395  5.62539593 3.29112611 5.63602937 5.02901435\n",
            " 5.25500609 4.80177521 4.03300414 5.85055833 5.6889433  5.2796506\n",
            " 4.26043501 5.08768705 4.80884726 5.39430314 5.33776004 4.52387454\n",
            " 5.51513909 5.19015221 4.99602694 5.54968022 4.27199531 5.50752418\n",
            " 5.46056247 5.43504533 5.12413502 5.31623094 5.00641521 6.35568982\n",
            " 5.60004089 4.5545655  5.45560979 3.98170325 4.42366008 5.21660774\n",
            " 5.61846436 5.45552062 5.40932011 4.65583668 5.15631872 5.37575374\n",
            " 5.24779075 4.62556482 5.52923167 5.40199351 5.77241304 5.94836797\n",
            " 5.4066238  4.58156326 5.04189999 5.19564173 4.77253313 4.79854604\n",
            " 5.28946372 5.36596192 5.26841356 4.81385014 5.14223434 5.61132413\n",
            " 4.95045358 4.35414334 4.97797871 4.82767137 3.51356345 5.21508256\n",
            " 5.67708348 5.44760187 5.14120674 5.0700812  4.41904091 5.57505795\n",
            " 5.20069387 5.02128233 5.67451577 5.55891228 5.32420393 5.21522672\n",
            " 4.66763649 5.56941717 5.33391638 5.72685966 3.72172643 5.21115635\n",
            " 4.53338657 4.8626803  5.30760086 4.67845162 6.03004689 5.1046489\n",
            " 3.47153994 7.17521067 5.30494699 5.31190029 5.2670508  5.57500432\n",
            " 5.99634059 4.53169453 4.88089912 5.4092451  5.65778713 4.98843801\n",
            " 5.6399063  4.92089892 3.15823931 5.31362257 4.68747456 5.88308456\n",
            " 4.2937246  5.36679096 7.19528627 4.5539718  5.51633204 4.48199009\n",
            " 7.3211067  6.21743013 5.7768792  5.72243738 5.53774998 5.38058883\n",
            " 5.5200009  5.6093851  4.33431123 5.31490383 5.57113809 5.1007778\n",
            " 6.00645525 3.70746759 5.141049   5.47103119 5.57027492 4.37984229\n",
            " 5.47266805 4.29917117 6.20457321 3.83807941 5.27363458 5.37610868\n",
            " 5.14771866 4.65916093 5.2479229  5.71410359 5.50666316 5.18336107]\n"
          ]
        }
      ]
    },
    {
      "cell_type": "code",
      "source": [
        "rmse = sqrt(mean_squared_error(Y_test, Y_pred)) \n",
        "print(\"ela R2 : {:.3f}\".format(Ir_ela.score(X_train, Y_train)))\n",
        "print(\"RMSE : {:.3f}\".format(rmse))\n",
        "\n",
        "#비교\n",
        "print(\"Ir R2 : {:.3f}\". format(Ir.score(X_train, Y_train)))\n",
        "print(\"ridge R2 :{:.3f}\".format(Ir_ridge.score(X_train,Y_train)))\n",
        "print(\"lasso R2 :{:.3f}\".format(Ir_lasso.score(X_train,Y_train)))\n",
        "\n",
        "#예측력,오차가 릿지와 라쏘 중간에서 잘 절충됨"
      ],
      "metadata": {
        "colab": {
          "base_uri": "https://localhost:8080/"
        },
        "id": "Mpp6Y8xd_xIp",
        "outputId": "635f7b13-a57b-41a5-912c-944e560e541e"
      },
      "execution_count": null,
      "outputs": [
        {
          "output_type": "stream",
          "name": "stdout",
          "text": [
            "ela R2 : 0.717\n",
            "RMSE : 0.394\n",
            "Ir R2 : 0.726\n",
            "ridge R2 :0.726\n",
            "lasso R2 :0.709\n"
          ]
        }
      ]
    },
    {
      "cell_type": "code",
      "source": [
        "#선형회귀 = 종속변수가 연속형일 때 쓴다\n",
        "\n",
        "#선형회귀분석 끝!!!!"
      ],
      "metadata": {
        "id": "zFypa6w6Brvg"
      },
      "execution_count": null,
      "outputs": []
    },
    {
      "cell_type": "markdown",
      "source": [
        "#로지스틱회귀(Y가 범주형일 때)"
      ],
      "metadata": {
        "id": "M05LNW6cB93T"
      }
    },
    {
      "cell_type": "code",
      "source": [
        "df.info()"
      ],
      "metadata": {
        "colab": {
          "base_uri": "https://localhost:8080/"
        },
        "id": "7xM-3iHzCArK",
        "outputId": "46f6c8b5-83cc-435c-98d0-5487fed5fe00"
      },
      "execution_count": null,
      "outputs": [
        {
          "output_type": "stream",
          "name": "stdout",
          "text": [
            "<class 'pandas.core.frame.DataFrame'>\n",
            "RangeIndex: 1000 entries, 0 to 999\n",
            "Data columns (total 21 columns):\n",
            " #   Column     Non-Null Count  Dtype  \n",
            "---  ------     --------------  -----  \n",
            " 0   고객ID       1000 non-null   int64  \n",
            " 1   이탈여부       1000 non-null   int64  \n",
            " 2   총매출액       1000 non-null   int64  \n",
            " 3   구매금액대      1000 non-null   int64  \n",
            " 4   방문빈도       1000 non-null   int64  \n",
            " 5   1회 평균매출액   1000 non-null   int64  \n",
            " 6   할인권 사용 횟수  1000 non-null   int64  \n",
            " 7   총 할인 금액    1000 non-null   int64  \n",
            " 8   고객등급       1000 non-null   int64  \n",
            " 9   구매유형       1000 non-null   int64  \n",
            " 10  클레임접수여부    1000 non-null   int64  \n",
            " 11  구매카테고리수    1000 non-null   int64  \n",
            " 12  거주지역       1000 non-null   int64  \n",
            " 13  성별         1000 non-null   int64  \n",
            " 14  고객 나이대     1000 non-null   int64  \n",
            " 15  거래기간       1000 non-null   int64  \n",
            " 16  할인민감여부     1000 non-null   int64  \n",
            " 17  Recency    1000 non-null   int64  \n",
            " 18  Frequency  1000 non-null   int64  \n",
            " 19  Monetary   1000 non-null   int64  \n",
            " 20  평균 구매주기    1000 non-null   float64\n",
            "dtypes: float64(1), int64(20)\n",
            "memory usage: 164.2 KB\n"
          ]
        }
      ]
    },
    {
      "cell_type": "code",
      "source": [
        "df.describe()"
      ],
      "metadata": {
        "colab": {
          "base_uri": "https://localhost:8080/",
          "height": 411
        },
        "id": "LqWb5gA3CH6C",
        "outputId": "4cd6b4af-86de-4d6a-ca31-95904be65a6d"
      },
      "execution_count": null,
      "outputs": [
        {
          "output_type": "execute_result",
          "data": {
            "text/plain": [
              "              고객ID         이탈여부          총매출액        구매금액대        방문빈도  \\\n",
              "count  1000.000000  1000.000000  1.000000e+03  1000.000000  1000.00000   \n",
              "mean    500.500000     0.300000  5.858013e+06     0.700000    22.91100   \n",
              "std     288.819436     0.458487  5.812815e+06     0.781416    19.08217   \n",
              "min       1.000000     0.000000  1.886100e+06     0.000000     1.00000   \n",
              "25%     250.750000     0.000000  2.815905e+06     0.000000    10.75000   \n",
              "50%     500.500000     0.000000  4.092145e+06     0.500000    18.00000   \n",
              "75%     750.250000     1.000000  6.545392e+06     1.000000    28.00000   \n",
              "max    1000.000000     1.000000  6.759576e+07     2.000000   155.00000   \n",
              "\n",
              "           1회 평균매출액    할인권 사용 횟수        총 할인 금액         고객등급         구매유형  \\\n",
              "count  1.000000e+03  1000.000000    1000.000000  1000.000000  1000.000000   \n",
              "mean   3.521024e+05    16.027000  292371.670000     1.546000     2.656000   \n",
              "std    3.124636e+05     8.341334  111937.501042     0.498129     1.046307   \n",
              "min    2.708200e+04     1.000000    3750.000000     1.000000     1.000000   \n",
              "25%    1.631242e+05     9.000000  261686.250000     1.000000     2.000000   \n",
              "50%    2.582080e+05    17.000000  347500.000000     2.000000     2.000000   \n",
              "75%    4.268310e+05    23.000000  365400.000000     2.000000     4.000000   \n",
              "max    2.798500e+06    30.000000  400600.000000     2.000000     4.000000   \n",
              "\n",
              "       ...      구매카테고리수         거주지역           성별       고객 나이대         거래기간  \\\n",
              "count  ...  1000.000000  1000.000000  1000.000000  1000.000000  1000.000000   \n",
              "mean   ...     5.217000     5.147000     0.189000     3.964000  3495.891000   \n",
              "std    ...     2.224153     1.169084     0.391705     1.078827   965.966194   \n",
              "min    ...     1.000000     1.000000     0.000000     2.000000   827.000000   \n",
              "25%    ...     3.000000     4.000000     0.000000     3.000000  2871.000000   \n",
              "50%    ...     5.000000     5.000000     0.000000     4.000000  3836.000000   \n",
              "75%    ...     7.000000     6.000000     0.000000     5.000000  4207.250000   \n",
              "max    ...     9.000000     7.000000     1.000000     7.000000  5334.000000   \n",
              "\n",
              "            할인민감여부      Recency    Frequency     Monetary      평균 구매주기  \n",
              "count  1000.000000  1000.000000  1000.000000  1000.000000  1000.000000  \n",
              "mean      0.400000     4.925000     2.289000     4.129000     5.260784  \n",
              "std       0.490143     1.744253     1.669811     1.560383     0.812845  \n",
              "min       0.000000     1.000000     1.000000     1.000000     2.706759  \n",
              "25%       0.000000     4.000000     1.000000     3.000000     4.727013  \n",
              "50%       0.000000     5.000000     2.000000     4.000000     5.259938  \n",
              "75%       1.000000     7.000000     3.000000     6.000000     5.785012  \n",
              "max       1.000000     7.000000     7.000000     7.000000     7.579168  \n",
              "\n",
              "[8 rows x 21 columns]"
            ],
            "text/html": [
              "\n",
              "  <div id=\"df-4b5006db-70dd-48d4-9851-99e810788711\">\n",
              "    <div class=\"colab-df-container\">\n",
              "      <div>\n",
              "<style scoped>\n",
              "    .dataframe tbody tr th:only-of-type {\n",
              "        vertical-align: middle;\n",
              "    }\n",
              "\n",
              "    .dataframe tbody tr th {\n",
              "        vertical-align: top;\n",
              "    }\n",
              "\n",
              "    .dataframe thead th {\n",
              "        text-align: right;\n",
              "    }\n",
              "</style>\n",
              "<table border=\"1\" class=\"dataframe\">\n",
              "  <thead>\n",
              "    <tr style=\"text-align: right;\">\n",
              "      <th></th>\n",
              "      <th>고객ID</th>\n",
              "      <th>이탈여부</th>\n",
              "      <th>총매출액</th>\n",
              "      <th>구매금액대</th>\n",
              "      <th>방문빈도</th>\n",
              "      <th>1회 평균매출액</th>\n",
              "      <th>할인권 사용 횟수</th>\n",
              "      <th>총 할인 금액</th>\n",
              "      <th>고객등급</th>\n",
              "      <th>구매유형</th>\n",
              "      <th>...</th>\n",
              "      <th>구매카테고리수</th>\n",
              "      <th>거주지역</th>\n",
              "      <th>성별</th>\n",
              "      <th>고객 나이대</th>\n",
              "      <th>거래기간</th>\n",
              "      <th>할인민감여부</th>\n",
              "      <th>Recency</th>\n",
              "      <th>Frequency</th>\n",
              "      <th>Monetary</th>\n",
              "      <th>평균 구매주기</th>\n",
              "    </tr>\n",
              "  </thead>\n",
              "  <tbody>\n",
              "    <tr>\n",
              "      <th>count</th>\n",
              "      <td>1000.000000</td>\n",
              "      <td>1000.000000</td>\n",
              "      <td>1.000000e+03</td>\n",
              "      <td>1000.000000</td>\n",
              "      <td>1000.00000</td>\n",
              "      <td>1.000000e+03</td>\n",
              "      <td>1000.000000</td>\n",
              "      <td>1000.000000</td>\n",
              "      <td>1000.000000</td>\n",
              "      <td>1000.000000</td>\n",
              "      <td>...</td>\n",
              "      <td>1000.000000</td>\n",
              "      <td>1000.000000</td>\n",
              "      <td>1000.000000</td>\n",
              "      <td>1000.000000</td>\n",
              "      <td>1000.000000</td>\n",
              "      <td>1000.000000</td>\n",
              "      <td>1000.000000</td>\n",
              "      <td>1000.000000</td>\n",
              "      <td>1000.000000</td>\n",
              "      <td>1000.000000</td>\n",
              "    </tr>\n",
              "    <tr>\n",
              "      <th>mean</th>\n",
              "      <td>500.500000</td>\n",
              "      <td>0.300000</td>\n",
              "      <td>5.858013e+06</td>\n",
              "      <td>0.700000</td>\n",
              "      <td>22.91100</td>\n",
              "      <td>3.521024e+05</td>\n",
              "      <td>16.027000</td>\n",
              "      <td>292371.670000</td>\n",
              "      <td>1.546000</td>\n",
              "      <td>2.656000</td>\n",
              "      <td>...</td>\n",
              "      <td>5.217000</td>\n",
              "      <td>5.147000</td>\n",
              "      <td>0.189000</td>\n",
              "      <td>3.964000</td>\n",
              "      <td>3495.891000</td>\n",
              "      <td>0.400000</td>\n",
              "      <td>4.925000</td>\n",
              "      <td>2.289000</td>\n",
              "      <td>4.129000</td>\n",
              "      <td>5.260784</td>\n",
              "    </tr>\n",
              "    <tr>\n",
              "      <th>std</th>\n",
              "      <td>288.819436</td>\n",
              "      <td>0.458487</td>\n",
              "      <td>5.812815e+06</td>\n",
              "      <td>0.781416</td>\n",
              "      <td>19.08217</td>\n",
              "      <td>3.124636e+05</td>\n",
              "      <td>8.341334</td>\n",
              "      <td>111937.501042</td>\n",
              "      <td>0.498129</td>\n",
              "      <td>1.046307</td>\n",
              "      <td>...</td>\n",
              "      <td>2.224153</td>\n",
              "      <td>1.169084</td>\n",
              "      <td>0.391705</td>\n",
              "      <td>1.078827</td>\n",
              "      <td>965.966194</td>\n",
              "      <td>0.490143</td>\n",
              "      <td>1.744253</td>\n",
              "      <td>1.669811</td>\n",
              "      <td>1.560383</td>\n",
              "      <td>0.812845</td>\n",
              "    </tr>\n",
              "    <tr>\n",
              "      <th>min</th>\n",
              "      <td>1.000000</td>\n",
              "      <td>0.000000</td>\n",
              "      <td>1.886100e+06</td>\n",
              "      <td>0.000000</td>\n",
              "      <td>1.00000</td>\n",
              "      <td>2.708200e+04</td>\n",
              "      <td>1.000000</td>\n",
              "      <td>3750.000000</td>\n",
              "      <td>1.000000</td>\n",
              "      <td>1.000000</td>\n",
              "      <td>...</td>\n",
              "      <td>1.000000</td>\n",
              "      <td>1.000000</td>\n",
              "      <td>0.000000</td>\n",
              "      <td>2.000000</td>\n",
              "      <td>827.000000</td>\n",
              "      <td>0.000000</td>\n",
              "      <td>1.000000</td>\n",
              "      <td>1.000000</td>\n",
              "      <td>1.000000</td>\n",
              "      <td>2.706759</td>\n",
              "    </tr>\n",
              "    <tr>\n",
              "      <th>25%</th>\n",
              "      <td>250.750000</td>\n",
              "      <td>0.000000</td>\n",
              "      <td>2.815905e+06</td>\n",
              "      <td>0.000000</td>\n",
              "      <td>10.75000</td>\n",
              "      <td>1.631242e+05</td>\n",
              "      <td>9.000000</td>\n",
              "      <td>261686.250000</td>\n",
              "      <td>1.000000</td>\n",
              "      <td>2.000000</td>\n",
              "      <td>...</td>\n",
              "      <td>3.000000</td>\n",
              "      <td>4.000000</td>\n",
              "      <td>0.000000</td>\n",
              "      <td>3.000000</td>\n",
              "      <td>2871.000000</td>\n",
              "      <td>0.000000</td>\n",
              "      <td>4.000000</td>\n",
              "      <td>1.000000</td>\n",
              "      <td>3.000000</td>\n",
              "      <td>4.727013</td>\n",
              "    </tr>\n",
              "    <tr>\n",
              "      <th>50%</th>\n",
              "      <td>500.500000</td>\n",
              "      <td>0.000000</td>\n",
              "      <td>4.092145e+06</td>\n",
              "      <td>0.500000</td>\n",
              "      <td>18.00000</td>\n",
              "      <td>2.582080e+05</td>\n",
              "      <td>17.000000</td>\n",
              "      <td>347500.000000</td>\n",
              "      <td>2.000000</td>\n",
              "      <td>2.000000</td>\n",
              "      <td>...</td>\n",
              "      <td>5.000000</td>\n",
              "      <td>5.000000</td>\n",
              "      <td>0.000000</td>\n",
              "      <td>4.000000</td>\n",
              "      <td>3836.000000</td>\n",
              "      <td>0.000000</td>\n",
              "      <td>5.000000</td>\n",
              "      <td>2.000000</td>\n",
              "      <td>4.000000</td>\n",
              "      <td>5.259938</td>\n",
              "    </tr>\n",
              "    <tr>\n",
              "      <th>75%</th>\n",
              "      <td>750.250000</td>\n",
              "      <td>1.000000</td>\n",
              "      <td>6.545392e+06</td>\n",
              "      <td>1.000000</td>\n",
              "      <td>28.00000</td>\n",
              "      <td>4.268310e+05</td>\n",
              "      <td>23.000000</td>\n",
              "      <td>365400.000000</td>\n",
              "      <td>2.000000</td>\n",
              "      <td>4.000000</td>\n",
              "      <td>...</td>\n",
              "      <td>7.000000</td>\n",
              "      <td>6.000000</td>\n",
              "      <td>0.000000</td>\n",
              "      <td>5.000000</td>\n",
              "      <td>4207.250000</td>\n",
              "      <td>1.000000</td>\n",
              "      <td>7.000000</td>\n",
              "      <td>3.000000</td>\n",
              "      <td>6.000000</td>\n",
              "      <td>5.785012</td>\n",
              "    </tr>\n",
              "    <tr>\n",
              "      <th>max</th>\n",
              "      <td>1000.000000</td>\n",
              "      <td>1.000000</td>\n",
              "      <td>6.759576e+07</td>\n",
              "      <td>2.000000</td>\n",
              "      <td>155.00000</td>\n",
              "      <td>2.798500e+06</td>\n",
              "      <td>30.000000</td>\n",
              "      <td>400600.000000</td>\n",
              "      <td>2.000000</td>\n",
              "      <td>4.000000</td>\n",
              "      <td>...</td>\n",
              "      <td>9.000000</td>\n",
              "      <td>7.000000</td>\n",
              "      <td>1.000000</td>\n",
              "      <td>7.000000</td>\n",
              "      <td>5334.000000</td>\n",
              "      <td>1.000000</td>\n",
              "      <td>7.000000</td>\n",
              "      <td>7.000000</td>\n",
              "      <td>7.000000</td>\n",
              "      <td>7.579168</td>\n",
              "    </tr>\n",
              "  </tbody>\n",
              "</table>\n",
              "<p>8 rows × 21 columns</p>\n",
              "</div>\n",
              "      <button class=\"colab-df-convert\" onclick=\"convertToInteractive('df-4b5006db-70dd-48d4-9851-99e810788711')\"\n",
              "              title=\"Convert this dataframe to an interactive table.\"\n",
              "              style=\"display:none;\">\n",
              "        \n",
              "  <svg xmlns=\"http://www.w3.org/2000/svg\" height=\"24px\"viewBox=\"0 0 24 24\"\n",
              "       width=\"24px\">\n",
              "    <path d=\"M0 0h24v24H0V0z\" fill=\"none\"/>\n",
              "    <path d=\"M18.56 5.44l.94 2.06.94-2.06 2.06-.94-2.06-.94-.94-2.06-.94 2.06-2.06.94zm-11 1L8.5 8.5l.94-2.06 2.06-.94-2.06-.94L8.5 2.5l-.94 2.06-2.06.94zm10 10l.94 2.06.94-2.06 2.06-.94-2.06-.94-.94-2.06-.94 2.06-2.06.94z\"/><path d=\"M17.41 7.96l-1.37-1.37c-.4-.4-.92-.59-1.43-.59-.52 0-1.04.2-1.43.59L10.3 9.45l-7.72 7.72c-.78.78-.78 2.05 0 2.83L4 21.41c.39.39.9.59 1.41.59.51 0 1.02-.2 1.41-.59l7.78-7.78 2.81-2.81c.8-.78.8-2.07 0-2.86zM5.41 20L4 18.59l7.72-7.72 1.47 1.35L5.41 20z\"/>\n",
              "  </svg>\n",
              "      </button>\n",
              "      \n",
              "  <style>\n",
              "    .colab-df-container {\n",
              "      display:flex;\n",
              "      flex-wrap:wrap;\n",
              "      gap: 12px;\n",
              "    }\n",
              "\n",
              "    .colab-df-convert {\n",
              "      background-color: #E8F0FE;\n",
              "      border: none;\n",
              "      border-radius: 50%;\n",
              "      cursor: pointer;\n",
              "      display: none;\n",
              "      fill: #1967D2;\n",
              "      height: 32px;\n",
              "      padding: 0 0 0 0;\n",
              "      width: 32px;\n",
              "    }\n",
              "\n",
              "    .colab-df-convert:hover {\n",
              "      background-color: #E2EBFA;\n",
              "      box-shadow: 0px 1px 2px rgba(60, 64, 67, 0.3), 0px 1px 3px 1px rgba(60, 64, 67, 0.15);\n",
              "      fill: #174EA6;\n",
              "    }\n",
              "\n",
              "    [theme=dark] .colab-df-convert {\n",
              "      background-color: #3B4455;\n",
              "      fill: #D2E3FC;\n",
              "    }\n",
              "\n",
              "    [theme=dark] .colab-df-convert:hover {\n",
              "      background-color: #434B5C;\n",
              "      box-shadow: 0px 1px 3px 1px rgba(0, 0, 0, 0.15);\n",
              "      filter: drop-shadow(0px 1px 2px rgba(0, 0, 0, 0.3));\n",
              "      fill: #FFFFFF;\n",
              "    }\n",
              "  </style>\n",
              "\n",
              "      <script>\n",
              "        const buttonEl =\n",
              "          document.querySelector('#df-4b5006db-70dd-48d4-9851-99e810788711 button.colab-df-convert');\n",
              "        buttonEl.style.display =\n",
              "          google.colab.kernel.accessAllowed ? 'block' : 'none';\n",
              "\n",
              "        async function convertToInteractive(key) {\n",
              "          const element = document.querySelector('#df-4b5006db-70dd-48d4-9851-99e810788711');\n",
              "          const dataTable =\n",
              "            await google.colab.kernel.invokeFunction('convertToInteractive',\n",
              "                                                     [key], {});\n",
              "          if (!dataTable) return;\n",
              "\n",
              "          const docLinkHtml = 'Like what you see? Visit the ' +\n",
              "            '<a target=\"_blank\" href=https://colab.research.google.com/notebooks/data_table.ipynb>data table notebook</a>'\n",
              "            + ' to learn more about interactive tables.';\n",
              "          element.innerHTML = '';\n",
              "          dataTable['output_type'] = 'display_data';\n",
              "          await google.colab.output.renderOutput(dataTable, element);\n",
              "          const docLink = document.createElement('div');\n",
              "          docLink.innerHTML = docLinkHtml;\n",
              "          element.appendChild(docLink);\n",
              "        }\n",
              "      </script>\n",
              "    </div>\n",
              "  </div>\n",
              "  "
            ]
          },
          "metadata": {},
          "execution_count": 36
        }
      ]
    },
    {
      "cell_type": "code",
      "source": [
        "df.isnull().sum()"
      ],
      "metadata": {
        "colab": {
          "base_uri": "https://localhost:8080/"
        },
        "id": "cBmZr879CKRN",
        "outputId": "d00565f9-22bd-4f1c-bce9-61bda8f29394"
      },
      "execution_count": null,
      "outputs": [
        {
          "output_type": "execute_result",
          "data": {
            "text/plain": [
              "고객ID         0\n",
              "이탈여부         0\n",
              "총매출액         0\n",
              "구매금액대        0\n",
              "방문빈도         0\n",
              "1회 평균매출액     0\n",
              "할인권 사용 횟수    0\n",
              "총 할인 금액      0\n",
              "고객등급         0\n",
              "구매유형         0\n",
              "클레임접수여부      0\n",
              "구매카테고리수      0\n",
              "거주지역         0\n",
              "성별           0\n",
              "고객 나이대       0\n",
              "거래기간         0\n",
              "할인민감여부       0\n",
              "Recency      0\n",
              "Frequency    0\n",
              "Monetary     0\n",
              "평균 구매주기      0\n",
              "dtype: int64"
            ]
          },
          "metadata": {},
          "execution_count": 37
        }
      ]
    },
    {
      "cell_type": "code",
      "source": [
        "df.columns"
      ],
      "metadata": {
        "colab": {
          "base_uri": "https://localhost:8080/"
        },
        "id": "8NZA_QXwCPxF",
        "outputId": "c8e01565-8077-4c38-f254-038a334de395"
      },
      "execution_count": null,
      "outputs": [
        {
          "output_type": "execute_result",
          "data": {
            "text/plain": [
              "Index(['고객ID', '이탈여부', '총매출액', '구매금액대', '방문빈도', '1회 평균매출액', '할인권 사용 횟수',\n",
              "       '총 할인 금액', '고객등급', '구매유형', '클레임접수여부', '구매카테고리수', '거주지역', '성별', '고객 나이대',\n",
              "       '거래기간', '할인민감여부', 'Recency', 'Frequency', 'Monetary', '평균 구매주기'],\n",
              "      dtype='object')"
            ]
          },
          "metadata": {},
          "execution_count": 38
        }
      ]
    },
    {
      "cell_type": "code",
      "source": [
        "X = df[[\"총매출액\",\"거래기간\",\"방문빈도\"]]\n",
        "Y = df[\"이탈여부\"]\n",
        "\n",
        "#데이터 분할(train, test)\n",
        "X_train, X_test, Y_train, Y_test = train_test_split(X, Y, test_size = 0.3, random_state=0)\n",
        "\n",
        "#scaler\n",
        "scaler = StandardScaler()\n",
        "scaler.fit(X_train)\n",
        "X_train = scaler.transform(X_train)\n",
        "X_test = scaler.transform(X_test)\n",
        "print(X_train)\n",
        "\n",
        "#오버 샘플링\n",
        "smote = SMOTE(random_state=0)\n",
        "X_train_over, Y_train_over = smote.fit_resample(X_train,Y_train)"
      ],
      "metadata": {
        "colab": {
          "base_uri": "https://localhost:8080/"
        },
        "id": "1nlTTID1CRuk",
        "outputId": "f8be7b75-3c72-464e-c04e-ef42abf19613"
      },
      "execution_count": null,
      "outputs": [
        {
          "output_type": "stream",
          "name": "stdout",
          "text": [
            "[[ 0.69336175  0.22690456  0.03475125]\n",
            " [-0.225208   -0.02778804 -0.17540748]\n",
            " [-0.52055725  0.61729402  0.98046554]\n",
            " ...\n",
            " [-0.60960507  0.55779616 -0.01778844]\n",
            " [-0.02842033 -0.64468689 -0.22794717]\n",
            " [-0.30394592  0.83127755 -0.70080431]]\n"
          ]
        }
      ]
    },
    {
      "cell_type": "code",
      "source": [
        "from sklearn.linear_model import LogisticRegression\n",
        "\n",
        "logit = LogisticRegression(C = 1, random_state = 0)\n",
        "\n",
        "logit.fit(X_train_over, Y_train_over)\n",
        "Y_pred = logit.predict(X_test)\n",
        "\n",
        "#Y_pred\n",
        "print(\"accuracy : {:.3f}\".format(logit.score(X_train_over, Y_train_over)))\n",
        "\n",
        "from sklearn.metrics import classification_report\n",
        "print(classification_report(Y_test, Y_pred))\n",
        "print(logit.intercept_)\n",
        "print(logit.coef_)\n",
        "\n",
        "\n",
        "#C값 강도에 따라 변수의 가중치 조정\n",
        "#너무 높거나 작으면 모델이 최적화가 안됨\n",
        "#보통 1 넣으면 된다\n",
        "#회귀 모양이라 결정게수 나옴, 어큐리시랑 에프원 스코어로 평가하기\n",
        "#에프원 스코어 식 피디엪에 있다\n",
        "#coef는 계수\n",
        "#-0.10121145 베타제로\n",
        "\n",
        "#종속변수가 0과 1인 애들만 할 수 있나?\n",
        "#다항로지스틱회귀분석 = 종속변수가 0,1이 아니라 2345처럼 다항으로 이루어져 있음\n",
        "\n",
        "#위쪽 accuracy는 train(모델)에 대한 얘기\n",
        "#밑에는 예측결과\n",
        "#더해서 \n"
      ],
      "metadata": {
        "colab": {
          "base_uri": "https://localhost:8080/"
        },
        "id": "bKnpe_2HDCvj",
        "outputId": "af5bb31c-540f-4866-a2eb-918870135bc8"
      },
      "execution_count": null,
      "outputs": [
        {
          "output_type": "stream",
          "name": "stdout",
          "text": [
            "accuracy : 0.710\n",
            "              precision    recall  f1-score   support\n",
            "\n",
            "           0       0.91      0.66      0.77       219\n",
            "           1       0.47      0.81      0.60        81\n",
            "\n",
            "    accuracy                           0.70       300\n",
            "   macro avg       0.69      0.74      0.68       300\n",
            "weighted avg       0.79      0.70      0.72       300\n",
            "\n",
            "[-0.10121145]\n",
            "[[-0.10720418 -0.58431042 -0.47899592]]\n"
          ]
        }
      ]
    },
    {
      "cell_type": "code",
      "source": [
        "df.columns"
      ],
      "metadata": {
        "colab": {
          "base_uri": "https://localhost:8080/"
        },
        "id": "8eMMUFVAM40d",
        "outputId": "b43c6206-8f74-4981-9f8b-9676ce766047"
      },
      "execution_count": null,
      "outputs": [
        {
          "output_type": "execute_result",
          "data": {
            "text/plain": [
              "Index(['고객ID', '이탈여부', '총매출액', '구매금액대', '방문빈도', '1회 평균매출액', '할인권 사용 횟수',\n",
              "       '총 할인 금액', '고객등급', '구매유형', '클레임접수여부', '구매카테고리수', '거주지역', '성별', '고객 나이대',\n",
              "       '거래기간', '할인민감여부', 'Recency', 'Frequency', 'Monetary', '평균 구매주기'],\n",
              "      dtype='object')"
            ]
          },
          "metadata": {},
          "execution_count": 41
        }
      ]
    },
    {
      "cell_type": "markdown",
      "source": [
        "#다항로지스틱회귀분석"
      ],
      "metadata": {
        "id": "eNjQ-jDJTWQr"
      }
    },
    {
      "cell_type": "code",
      "source": [
        "X = df[[\"방문빈도\",\"총 할인 금액\",\"거래기간\",\"할인민감여부\"]]\n",
        "Y = df[\"구매금액대\"]\n",
        "\n",
        "X_train,X_test,Y_train,Y_test=train_test_split(X,Y,test_size=0.3,random_state=0) #데이터를 트레인 값이랑 테스트 값(7:3)으로 나누는 작업\n",
        "\n",
        "#Column transform\n",
        "ct = ColumnTransformer([(\"scaling\",StandardScaler(),[\"방문빈도\",\"총 할인 금액\",\"거래기간\"]), #스케일링: 숫자. 원핫인코딩:범주\n",
        "                        (\"onehot\",OneHotEncoder(sparse=False),[\"할인민감여부\"])])\n",
        "\n",
        "ct.fit(X_train)\n",
        "X_train=ct.transform(X_train)\n",
        "X_test=ct.transform(X_test)\n",
        "\n",
        "#model\n",
        "multilogit = LogisticRegression(random_state=0, solver='newton-cg',multi_class=\"multinomial\") #함수식 y=f(x)어쩌구\n",
        "#slover:\"lbfgs\", \"liblinear\",\"sag\",\"saga\"\n",
        "multilogit.fit(X_train,Y_train)\n",
        "Y_pred=multilogit.predict(X_test) \n",
        "\n",
        "#성능\n",
        "print(\"r2:{:.3f}\".format(multilogit.score(X_train,Y_train)))\n",
        "print(classification_report(Y_test,Y_pred))\n",
        "\n",
        "\n",
        "#그래서 먼데 이게..."
      ],
      "metadata": {
        "colab": {
          "base_uri": "https://localhost:8080/"
        },
        "id": "8bHxiFFnM6WR",
        "outputId": "3fea73c7-c49b-447a-b652-c0241008d6c1"
      },
      "execution_count": null,
      "outputs": [
        {
          "output_type": "stream",
          "name": "stdout",
          "text": [
            "r2:0.603\n",
            "              precision    recall  f1-score   support\n",
            "\n",
            "           0       0.61      0.87      0.72       154\n",
            "           1       0.28      0.09      0.13        82\n",
            "           2       0.67      0.58      0.62        64\n",
            "\n",
            "    accuracy                           0.59       300\n",
            "   macro avg       0.52      0.51      0.49       300\n",
            "weighted avg       0.53      0.59      0.54       300\n",
            "\n"
          ]
        }
      ]
    },
    {
      "cell_type": "markdown",
      "source": [
        "#K-NN(K-최근접 이웃)"
      ],
      "metadata": {
        "id": "X08Rq7StYxUO"
      }
    },
    {
      "cell_type": "code",
      "source": [
        "df"
      ],
      "metadata": {
        "colab": {
          "base_uri": "https://localhost:8080/",
          "height": 485
        },
        "id": "cmHz4-dLPibS",
        "outputId": "3eef734c-1a46-40a4-e429-426e70f1ef22"
      },
      "execution_count": null,
      "outputs": [
        {
          "output_type": "execute_result",
          "data": {
            "text/plain": [
              "     고객ID  이탈여부      총매출액  구매금액대  방문빈도  1회 평균매출액  할인권 사용 횟수  총 할인 금액  고객등급  \\\n",
              "0       1     1   4963160      1    22    225598          1     5445     1   \n",
              "1       2     1   2271520      0    38     59777         22   350995     1   \n",
              "2       3     1   2484250      0     2   1242125          6   186045     1   \n",
              "3       4     1   2778850      0     9    308761          1     5195     2   \n",
              "4       5     1   4437610      1    10    443761          9   246350     2   \n",
              "..    ...   ...       ...    ...   ...       ...        ...      ...   ...   \n",
              "995   996     0  12731560      2    35    363759          3    44445     2   \n",
              "996   997     0   3419010      0     6    569835          6   186545     1   \n",
              "997   998     0   4612100      1    13    354777          8   260700     2   \n",
              "998   999     0   5165360      1    28    184477         20   347700     1   \n",
              "999  1000     0   4323050      1    16    270191         19   367045     2   \n",
              "\n",
              "     구매유형  ...  구매카테고리수  거주지역  성별  고객 나이대  거래기간  할인민감여부  Recency  Frequency  \\\n",
              "0       3  ...        7     6   1       6  3303       0        3          2   \n",
              "1       1  ...        5     4   0       2  3129       0        5          3   \n",
              "2       2  ...        4     6   0       3  3636       0        4          1   \n",
              "3       4  ...        4     5   0       4  3637       0        7          4   \n",
              "4       4  ...        6     6   0       4  3638       0        5          1   \n",
              "..    ...  ...      ...   ...  ..     ...   ...     ...      ...        ...   \n",
              "995     3  ...        8     6   0       4  4629       1        3          3   \n",
              "996     2  ...        9     6   0       4  4630       1        7          3   \n",
              "997     1  ...        1     4   1       6  4631       1        2          1   \n",
              "998     3  ...        7     5   1       6  3907       0        7          2   \n",
              "999     4  ...        6     5   1       6  2118       0        5          1   \n",
              "\n",
              "     Monetary   평균 구매주기  \n",
              "0           1  5.011544  \n",
              "1           4  4.410883  \n",
              "2           4  7.505492  \n",
              "3           6  6.001690  \n",
              "4           4  5.896604  \n",
              "..        ...       ...  \n",
              "995         1  4.884748  \n",
              "996         6  6.648553  \n",
              "997         2  5.875579  \n",
              "998         6  4.938321  \n",
              "999         4  4.885639  \n",
              "\n",
              "[1000 rows x 21 columns]"
            ],
            "text/html": [
              "\n",
              "  <div id=\"df-d2d9064d-de81-43c7-938b-a0306ae5d971\">\n",
              "    <div class=\"colab-df-container\">\n",
              "      <div>\n",
              "<style scoped>\n",
              "    .dataframe tbody tr th:only-of-type {\n",
              "        vertical-align: middle;\n",
              "    }\n",
              "\n",
              "    .dataframe tbody tr th {\n",
              "        vertical-align: top;\n",
              "    }\n",
              "\n",
              "    .dataframe thead th {\n",
              "        text-align: right;\n",
              "    }\n",
              "</style>\n",
              "<table border=\"1\" class=\"dataframe\">\n",
              "  <thead>\n",
              "    <tr style=\"text-align: right;\">\n",
              "      <th></th>\n",
              "      <th>고객ID</th>\n",
              "      <th>이탈여부</th>\n",
              "      <th>총매출액</th>\n",
              "      <th>구매금액대</th>\n",
              "      <th>방문빈도</th>\n",
              "      <th>1회 평균매출액</th>\n",
              "      <th>할인권 사용 횟수</th>\n",
              "      <th>총 할인 금액</th>\n",
              "      <th>고객등급</th>\n",
              "      <th>구매유형</th>\n",
              "      <th>...</th>\n",
              "      <th>구매카테고리수</th>\n",
              "      <th>거주지역</th>\n",
              "      <th>성별</th>\n",
              "      <th>고객 나이대</th>\n",
              "      <th>거래기간</th>\n",
              "      <th>할인민감여부</th>\n",
              "      <th>Recency</th>\n",
              "      <th>Frequency</th>\n",
              "      <th>Monetary</th>\n",
              "      <th>평균 구매주기</th>\n",
              "    </tr>\n",
              "  </thead>\n",
              "  <tbody>\n",
              "    <tr>\n",
              "      <th>0</th>\n",
              "      <td>1</td>\n",
              "      <td>1</td>\n",
              "      <td>4963160</td>\n",
              "      <td>1</td>\n",
              "      <td>22</td>\n",
              "      <td>225598</td>\n",
              "      <td>1</td>\n",
              "      <td>5445</td>\n",
              "      <td>1</td>\n",
              "      <td>3</td>\n",
              "      <td>...</td>\n",
              "      <td>7</td>\n",
              "      <td>6</td>\n",
              "      <td>1</td>\n",
              "      <td>6</td>\n",
              "      <td>3303</td>\n",
              "      <td>0</td>\n",
              "      <td>3</td>\n",
              "      <td>2</td>\n",
              "      <td>1</td>\n",
              "      <td>5.011544</td>\n",
              "    </tr>\n",
              "    <tr>\n",
              "      <th>1</th>\n",
              "      <td>2</td>\n",
              "      <td>1</td>\n",
              "      <td>2271520</td>\n",
              "      <td>0</td>\n",
              "      <td>38</td>\n",
              "      <td>59777</td>\n",
              "      <td>22</td>\n",
              "      <td>350995</td>\n",
              "      <td>1</td>\n",
              "      <td>1</td>\n",
              "      <td>...</td>\n",
              "      <td>5</td>\n",
              "      <td>4</td>\n",
              "      <td>0</td>\n",
              "      <td>2</td>\n",
              "      <td>3129</td>\n",
              "      <td>0</td>\n",
              "      <td>5</td>\n",
              "      <td>3</td>\n",
              "      <td>4</td>\n",
              "      <td>4.410883</td>\n",
              "    </tr>\n",
              "    <tr>\n",
              "      <th>2</th>\n",
              "      <td>3</td>\n",
              "      <td>1</td>\n",
              "      <td>2484250</td>\n",
              "      <td>0</td>\n",
              "      <td>2</td>\n",
              "      <td>1242125</td>\n",
              "      <td>6</td>\n",
              "      <td>186045</td>\n",
              "      <td>1</td>\n",
              "      <td>2</td>\n",
              "      <td>...</td>\n",
              "      <td>4</td>\n",
              "      <td>6</td>\n",
              "      <td>0</td>\n",
              "      <td>3</td>\n",
              "      <td>3636</td>\n",
              "      <td>0</td>\n",
              "      <td>4</td>\n",
              "      <td>1</td>\n",
              "      <td>4</td>\n",
              "      <td>7.505492</td>\n",
              "    </tr>\n",
              "    <tr>\n",
              "      <th>3</th>\n",
              "      <td>4</td>\n",
              "      <td>1</td>\n",
              "      <td>2778850</td>\n",
              "      <td>0</td>\n",
              "      <td>9</td>\n",
              "      <td>308761</td>\n",
              "      <td>1</td>\n",
              "      <td>5195</td>\n",
              "      <td>2</td>\n",
              "      <td>4</td>\n",
              "      <td>...</td>\n",
              "      <td>4</td>\n",
              "      <td>5</td>\n",
              "      <td>0</td>\n",
              "      <td>4</td>\n",
              "      <td>3637</td>\n",
              "      <td>0</td>\n",
              "      <td>7</td>\n",
              "      <td>4</td>\n",
              "      <td>6</td>\n",
              "      <td>6.001690</td>\n",
              "    </tr>\n",
              "    <tr>\n",
              "      <th>4</th>\n",
              "      <td>5</td>\n",
              "      <td>1</td>\n",
              "      <td>4437610</td>\n",
              "      <td>1</td>\n",
              "      <td>10</td>\n",
              "      <td>443761</td>\n",
              "      <td>9</td>\n",
              "      <td>246350</td>\n",
              "      <td>2</td>\n",
              "      <td>4</td>\n",
              "      <td>...</td>\n",
              "      <td>6</td>\n",
              "      <td>6</td>\n",
              "      <td>0</td>\n",
              "      <td>4</td>\n",
              "      <td>3638</td>\n",
              "      <td>0</td>\n",
              "      <td>5</td>\n",
              "      <td>1</td>\n",
              "      <td>4</td>\n",
              "      <td>5.896604</td>\n",
              "    </tr>\n",
              "    <tr>\n",
              "      <th>...</th>\n",
              "      <td>...</td>\n",
              "      <td>...</td>\n",
              "      <td>...</td>\n",
              "      <td>...</td>\n",
              "      <td>...</td>\n",
              "      <td>...</td>\n",
              "      <td>...</td>\n",
              "      <td>...</td>\n",
              "      <td>...</td>\n",
              "      <td>...</td>\n",
              "      <td>...</td>\n",
              "      <td>...</td>\n",
              "      <td>...</td>\n",
              "      <td>...</td>\n",
              "      <td>...</td>\n",
              "      <td>...</td>\n",
              "      <td>...</td>\n",
              "      <td>...</td>\n",
              "      <td>...</td>\n",
              "      <td>...</td>\n",
              "      <td>...</td>\n",
              "    </tr>\n",
              "    <tr>\n",
              "      <th>995</th>\n",
              "      <td>996</td>\n",
              "      <td>0</td>\n",
              "      <td>12731560</td>\n",
              "      <td>2</td>\n",
              "      <td>35</td>\n",
              "      <td>363759</td>\n",
              "      <td>3</td>\n",
              "      <td>44445</td>\n",
              "      <td>2</td>\n",
              "      <td>3</td>\n",
              "      <td>...</td>\n",
              "      <td>8</td>\n",
              "      <td>6</td>\n",
              "      <td>0</td>\n",
              "      <td>4</td>\n",
              "      <td>4629</td>\n",
              "      <td>1</td>\n",
              "      <td>3</td>\n",
              "      <td>3</td>\n",
              "      <td>1</td>\n",
              "      <td>4.884748</td>\n",
              "    </tr>\n",
              "    <tr>\n",
              "      <th>996</th>\n",
              "      <td>997</td>\n",
              "      <td>0</td>\n",
              "      <td>3419010</td>\n",
              "      <td>0</td>\n",
              "      <td>6</td>\n",
              "      <td>569835</td>\n",
              "      <td>6</td>\n",
              "      <td>186545</td>\n",
              "      <td>1</td>\n",
              "      <td>2</td>\n",
              "      <td>...</td>\n",
              "      <td>9</td>\n",
              "      <td>6</td>\n",
              "      <td>0</td>\n",
              "      <td>4</td>\n",
              "      <td>4630</td>\n",
              "      <td>1</td>\n",
              "      <td>7</td>\n",
              "      <td>3</td>\n",
              "      <td>6</td>\n",
              "      <td>6.648553</td>\n",
              "    </tr>\n",
              "    <tr>\n",
              "      <th>997</th>\n",
              "      <td>998</td>\n",
              "      <td>0</td>\n",
              "      <td>4612100</td>\n",
              "      <td>1</td>\n",
              "      <td>13</td>\n",
              "      <td>354777</td>\n",
              "      <td>8</td>\n",
              "      <td>260700</td>\n",
              "      <td>2</td>\n",
              "      <td>1</td>\n",
              "      <td>...</td>\n",
              "      <td>1</td>\n",
              "      <td>4</td>\n",
              "      <td>1</td>\n",
              "      <td>6</td>\n",
              "      <td>4631</td>\n",
              "      <td>1</td>\n",
              "      <td>2</td>\n",
              "      <td>1</td>\n",
              "      <td>2</td>\n",
              "      <td>5.875579</td>\n",
              "    </tr>\n",
              "    <tr>\n",
              "      <th>998</th>\n",
              "      <td>999</td>\n",
              "      <td>0</td>\n",
              "      <td>5165360</td>\n",
              "      <td>1</td>\n",
              "      <td>28</td>\n",
              "      <td>184477</td>\n",
              "      <td>20</td>\n",
              "      <td>347700</td>\n",
              "      <td>1</td>\n",
              "      <td>3</td>\n",
              "      <td>...</td>\n",
              "      <td>7</td>\n",
              "      <td>5</td>\n",
              "      <td>1</td>\n",
              "      <td>6</td>\n",
              "      <td>3907</td>\n",
              "      <td>0</td>\n",
              "      <td>7</td>\n",
              "      <td>2</td>\n",
              "      <td>6</td>\n",
              "      <td>4.938321</td>\n",
              "    </tr>\n",
              "    <tr>\n",
              "      <th>999</th>\n",
              "      <td>1000</td>\n",
              "      <td>0</td>\n",
              "      <td>4323050</td>\n",
              "      <td>1</td>\n",
              "      <td>16</td>\n",
              "      <td>270191</td>\n",
              "      <td>19</td>\n",
              "      <td>367045</td>\n",
              "      <td>2</td>\n",
              "      <td>4</td>\n",
              "      <td>...</td>\n",
              "      <td>6</td>\n",
              "      <td>5</td>\n",
              "      <td>1</td>\n",
              "      <td>6</td>\n",
              "      <td>2118</td>\n",
              "      <td>0</td>\n",
              "      <td>5</td>\n",
              "      <td>1</td>\n",
              "      <td>4</td>\n",
              "      <td>4.885639</td>\n",
              "    </tr>\n",
              "  </tbody>\n",
              "</table>\n",
              "<p>1000 rows × 21 columns</p>\n",
              "</div>\n",
              "      <button class=\"colab-df-convert\" onclick=\"convertToInteractive('df-d2d9064d-de81-43c7-938b-a0306ae5d971')\"\n",
              "              title=\"Convert this dataframe to an interactive table.\"\n",
              "              style=\"display:none;\">\n",
              "        \n",
              "  <svg xmlns=\"http://www.w3.org/2000/svg\" height=\"24px\"viewBox=\"0 0 24 24\"\n",
              "       width=\"24px\">\n",
              "    <path d=\"M0 0h24v24H0V0z\" fill=\"none\"/>\n",
              "    <path d=\"M18.56 5.44l.94 2.06.94-2.06 2.06-.94-2.06-.94-.94-2.06-.94 2.06-2.06.94zm-11 1L8.5 8.5l.94-2.06 2.06-.94-2.06-.94L8.5 2.5l-.94 2.06-2.06.94zm10 10l.94 2.06.94-2.06 2.06-.94-2.06-.94-.94-2.06-.94 2.06-2.06.94z\"/><path d=\"M17.41 7.96l-1.37-1.37c-.4-.4-.92-.59-1.43-.59-.52 0-1.04.2-1.43.59L10.3 9.45l-7.72 7.72c-.78.78-.78 2.05 0 2.83L4 21.41c.39.39.9.59 1.41.59.51 0 1.02-.2 1.41-.59l7.78-7.78 2.81-2.81c.8-.78.8-2.07 0-2.86zM5.41 20L4 18.59l7.72-7.72 1.47 1.35L5.41 20z\"/>\n",
              "  </svg>\n",
              "      </button>\n",
              "      \n",
              "  <style>\n",
              "    .colab-df-container {\n",
              "      display:flex;\n",
              "      flex-wrap:wrap;\n",
              "      gap: 12px;\n",
              "    }\n",
              "\n",
              "    .colab-df-convert {\n",
              "      background-color: #E8F0FE;\n",
              "      border: none;\n",
              "      border-radius: 50%;\n",
              "      cursor: pointer;\n",
              "      display: none;\n",
              "      fill: #1967D2;\n",
              "      height: 32px;\n",
              "      padding: 0 0 0 0;\n",
              "      width: 32px;\n",
              "    }\n",
              "\n",
              "    .colab-df-convert:hover {\n",
              "      background-color: #E2EBFA;\n",
              "      box-shadow: 0px 1px 2px rgba(60, 64, 67, 0.3), 0px 1px 3px 1px rgba(60, 64, 67, 0.15);\n",
              "      fill: #174EA6;\n",
              "    }\n",
              "\n",
              "    [theme=dark] .colab-df-convert {\n",
              "      background-color: #3B4455;\n",
              "      fill: #D2E3FC;\n",
              "    }\n",
              "\n",
              "    [theme=dark] .colab-df-convert:hover {\n",
              "      background-color: #434B5C;\n",
              "      box-shadow: 0px 1px 3px 1px rgba(0, 0, 0, 0.15);\n",
              "      filter: drop-shadow(0px 1px 2px rgba(0, 0, 0, 0.3));\n",
              "      fill: #FFFFFF;\n",
              "    }\n",
              "  </style>\n",
              "\n",
              "      <script>\n",
              "        const buttonEl =\n",
              "          document.querySelector('#df-d2d9064d-de81-43c7-938b-a0306ae5d971 button.colab-df-convert');\n",
              "        buttonEl.style.display =\n",
              "          google.colab.kernel.accessAllowed ? 'block' : 'none';\n",
              "\n",
              "        async function convertToInteractive(key) {\n",
              "          const element = document.querySelector('#df-d2d9064d-de81-43c7-938b-a0306ae5d971');\n",
              "          const dataTable =\n",
              "            await google.colab.kernel.invokeFunction('convertToInteractive',\n",
              "                                                     [key], {});\n",
              "          if (!dataTable) return;\n",
              "\n",
              "          const docLinkHtml = 'Like what you see? Visit the ' +\n",
              "            '<a target=\"_blank\" href=https://colab.research.google.com/notebooks/data_table.ipynb>data table notebook</a>'\n",
              "            + ' to learn more about interactive tables.';\n",
              "          element.innerHTML = '';\n",
              "          dataTable['output_type'] = 'display_data';\n",
              "          await google.colab.output.renderOutput(dataTable, element);\n",
              "          const docLink = document.createElement('div');\n",
              "          docLink.innerHTML = docLinkHtml;\n",
              "          element.appendChild(docLink);\n",
              "        }\n",
              "      </script>\n",
              "    </div>\n",
              "  </div>\n",
              "  "
            ]
          },
          "metadata": {},
          "execution_count": 43
        }
      ]
    },
    {
      "cell_type": "code",
      "source": [
        "df.columns"
      ],
      "metadata": {
        "colab": {
          "base_uri": "https://localhost:8080/"
        },
        "id": "oOp-1rXlY9_p",
        "outputId": "24b69f00-1c9e-4cf5-d2da-6a057873942e"
      },
      "execution_count": null,
      "outputs": [
        {
          "output_type": "execute_result",
          "data": {
            "text/plain": [
              "Index(['고객ID', '이탈여부', '총매출액', '구매금액대', '방문빈도', '1회 평균매출액', '할인권 사용 횟수',\n",
              "       '총 할인 금액', '고객등급', '구매유형', '클레임접수여부', '구매카테고리수', '거주지역', '성별', '고객 나이대',\n",
              "       '거래기간', '할인민감여부', 'Recency', 'Frequency', 'Monetary', '평균 구매주기'],\n",
              "      dtype='object')"
            ]
          },
          "metadata": {},
          "execution_count": 44
        }
      ]
    },
    {
      "cell_type": "code",
      "source": [
        "#classification\n",
        "\n",
        "X = df[[\"총매출액\", \"1회 평균매출액\", \"방문빈도\", \"거래기간\", \"평균 구매주기\"]]\n",
        "Y = df[\"이탈여부\"]\n",
        "\n",
        "X_train,X_test,Y_train,Y_test=train_test_split(X,Y,test_size=0.3,random_state=0)\n",
        "\n",
        "scaler = StandardScaler(). fit(X_train, Y_train)\n",
        "X_test = scaler. transform(X_test)\n",
        "X_train = scaler. transform(X_train)\n",
        "\n",
        "X_train, Y_train = SMOTE(random_state=0). fit_resample(X_train, Y_train)\n",
        "\n",
        "from sklearn.neighbors import KNeighborsClassifier\n",
        "knn_model = KNeighborsClassifier(n_neighbors=9, metric=\"euclidean\")\n",
        "\n",
        "knn_model.fit(X_train, Y_train)\n",
        "Y_pred = knn_model.predict(X_test)\n",
        "print(\"accuracy : {:.3f}\".format(knn_model.score(X_train, Y_train)))\n",
        "print(classification_report(Y_pred, Y_test))"
      ],
      "metadata": {
        "colab": {
          "base_uri": "https://localhost:8080/"
        },
        "id": "WWBKeiIHZApf",
        "outputId": "6924d35a-68e4-4f6b-d493-38f66be88a8e"
      },
      "execution_count": null,
      "outputs": [
        {
          "output_type": "stream",
          "name": "stdout",
          "text": [
            "accuracy : 0.844\n",
            "              precision    recall  f1-score   support\n",
            "\n",
            "           0       0.77      0.92      0.84       183\n",
            "           1       0.81      0.56      0.67       117\n",
            "\n",
            "    accuracy                           0.78       300\n",
            "   macro avg       0.79      0.74      0.75       300\n",
            "weighted avg       0.79      0.78      0.77       300\n",
            "\n"
          ]
        }
      ]
    },
    {
      "cell_type": "code",
      "source": [
        "df.columns"
      ],
      "metadata": {
        "colab": {
          "base_uri": "https://localhost:8080/"
        },
        "id": "-FnfSgDha_80",
        "outputId": "de13aeb8-baa8-47a2-e29d-c1c9305e481c"
      },
      "execution_count": null,
      "outputs": [
        {
          "output_type": "execute_result",
          "data": {
            "text/plain": [
              "Index(['고객ID', '이탈여부', '총매출액', '구매금액대', '방문빈도', '1회 평균매출액', '할인권 사용 횟수',\n",
              "       '총 할인 금액', '고객등급', '구매유형', '클레임접수여부', '구매카테고리수', '거주지역', '성별', '고객 나이대',\n",
              "       '거래기간', '할인민감여부', 'Recency', 'Frequency', 'Monetary', '평균 구매주기'],\n",
              "      dtype='object')"
            ]
          },
          "metadata": {},
          "execution_count": 46
        }
      ]
    },
    {
      "cell_type": "code",
      "source": [
        "#numeric value(Y)\n",
        "\n",
        "import numpy as np\n",
        "\n",
        "X = df[df.이탈여부==0][['총매출액','1회 평균매출액','총 할인 금액','구매카테고리수','Frequency']]\n",
        "Y = df[df.이탈여부==0][\"평균 구매주기\"]\n",
        "Y = np.log1p(Y)\n",
        "\n",
        "X_train,X_test,Y_train,Y_test=train_test_split(X,Y,test_size=0.3,random_state=0)\n",
        "\n",
        "scaler = StandardScaler(). fit(X_train, Y_train)\n",
        "X_test = scaler. transform(X_test)\n",
        "X_train = scaler. transform(X_train)\n",
        "\n",
        "from sklearn.neighbors import KNeighborsRegressor\n",
        "knn_reg = KNeighborsRegressor(n_neighbors=9, p=2)  #knn에서 뽑아서 리그레스 적용\n",
        "#p : int, default = 2\n",
        "#Power parameter for the Minkowski metric,When p=1\n",
        "#this is equivalent to using manhatan_distance(l1), and euclidean_distance(l2) for p = 2. For arbitrary p. minkowski_distance\n",
        "\n",
        "knn_reg.fit(X_train, Y_train)\n",
        "Y_pred = knn_reg.predict(X_test)\n",
        "print(\"accuracy : {:.3f}\".format(knn_reg.score(X_train, Y_train)))\n",
        "rmse = sqrt(mean_squared_error(Y_test, Y_pred))\n",
        "print(\"RMSE:{:.3f}\".format(rmse))\n",
        "\n",
        "#RMSE 여기선주기에 대한 오차\n"
      ],
      "metadata": {
        "colab": {
          "base_uri": "https://localhost:8080/"
        },
        "id": "g9VMJgEkibQy",
        "outputId": "066f73c0-b6a4-44d1-8125-33ff1dbc9883"
      },
      "execution_count": null,
      "outputs": [
        {
          "output_type": "stream",
          "name": "stdout",
          "text": [
            "accuracy : 0.759\n",
            "RMSE:0.063\n"
          ]
        }
      ]
    },
    {
      "cell_type": "markdown",
      "source": [
        "#의사결정나무(Decision Tree)"
      ],
      "metadata": {
        "id": "MoLecuhsC5YU"
      }
    },
    {
      "cell_type": "code",
      "source": [
        "df.info()"
      ],
      "metadata": {
        "id": "8_GPB31tpMuv",
        "colab": {
          "base_uri": "https://localhost:8080/"
        },
        "outputId": "4d09b621-15ca-4630-8c2d-37a9b009ef7f"
      },
      "execution_count": null,
      "outputs": [
        {
          "output_type": "stream",
          "name": "stdout",
          "text": [
            "<class 'pandas.core.frame.DataFrame'>\n",
            "RangeIndex: 1000 entries, 0 to 999\n",
            "Data columns (total 21 columns):\n",
            " #   Column     Non-Null Count  Dtype  \n",
            "---  ------     --------------  -----  \n",
            " 0   고객ID       1000 non-null   int64  \n",
            " 1   이탈여부       1000 non-null   int64  \n",
            " 2   총매출액       1000 non-null   int64  \n",
            " 3   구매금액대      1000 non-null   int64  \n",
            " 4   방문빈도       1000 non-null   int64  \n",
            " 5   1회 평균매출액   1000 non-null   int64  \n",
            " 6   할인권 사용 횟수  1000 non-null   int64  \n",
            " 7   총 할인 금액    1000 non-null   int64  \n",
            " 8   고객등급       1000 non-null   int64  \n",
            " 9   구매유형       1000 non-null   int64  \n",
            " 10  클레임접수여부    1000 non-null   int64  \n",
            " 11  구매카테고리수    1000 non-null   int64  \n",
            " 12  거주지역       1000 non-null   int64  \n",
            " 13  성별         1000 non-null   int64  \n",
            " 14  고객 나이대     1000 non-null   int64  \n",
            " 15  거래기간       1000 non-null   int64  \n",
            " 16  할인민감여부     1000 non-null   int64  \n",
            " 17  Recency    1000 non-null   int64  \n",
            " 18  Frequency  1000 non-null   int64  \n",
            " 19  Monetary   1000 non-null   int64  \n",
            " 20  평균 구매주기    1000 non-null   float64\n",
            "dtypes: float64(1), int64(20)\n",
            "memory usage: 164.2 KB\n"
          ]
        }
      ]
    },
    {
      "cell_type": "code",
      "source": [
        "df.describe()"
      ],
      "metadata": {
        "colab": {
          "base_uri": "https://localhost:8080/",
          "height": 411
        },
        "id": "ItMMeZjiEQrk",
        "outputId": "14a997d8-0b70-4130-a61a-388ba5e92a0d"
      },
      "execution_count": null,
      "outputs": [
        {
          "output_type": "execute_result",
          "data": {
            "text/plain": [
              "              고객ID         이탈여부          총매출액        구매금액대        방문빈도  \\\n",
              "count  1000.000000  1000.000000  1.000000e+03  1000.000000  1000.00000   \n",
              "mean    500.500000     0.300000  5.858013e+06     0.700000    22.91100   \n",
              "std     288.819436     0.458487  5.812815e+06     0.781416    19.08217   \n",
              "min       1.000000     0.000000  1.886100e+06     0.000000     1.00000   \n",
              "25%     250.750000     0.000000  2.815905e+06     0.000000    10.75000   \n",
              "50%     500.500000     0.000000  4.092145e+06     0.500000    18.00000   \n",
              "75%     750.250000     1.000000  6.545392e+06     1.000000    28.00000   \n",
              "max    1000.000000     1.000000  6.759576e+07     2.000000   155.00000   \n",
              "\n",
              "           1회 평균매출액    할인권 사용 횟수        총 할인 금액         고객등급         구매유형  \\\n",
              "count  1.000000e+03  1000.000000    1000.000000  1000.000000  1000.000000   \n",
              "mean   3.521024e+05    16.027000  292371.670000     1.546000     2.656000   \n",
              "std    3.124636e+05     8.341334  111937.501042     0.498129     1.046307   \n",
              "min    2.708200e+04     1.000000    3750.000000     1.000000     1.000000   \n",
              "25%    1.631242e+05     9.000000  261686.250000     1.000000     2.000000   \n",
              "50%    2.582080e+05    17.000000  347500.000000     2.000000     2.000000   \n",
              "75%    4.268310e+05    23.000000  365400.000000     2.000000     4.000000   \n",
              "max    2.798500e+06    30.000000  400600.000000     2.000000     4.000000   \n",
              "\n",
              "       ...      구매카테고리수         거주지역           성별       고객 나이대         거래기간  \\\n",
              "count  ...  1000.000000  1000.000000  1000.000000  1000.000000  1000.000000   \n",
              "mean   ...     5.217000     5.147000     0.189000     3.964000  3495.891000   \n",
              "std    ...     2.224153     1.169084     0.391705     1.078827   965.966194   \n",
              "min    ...     1.000000     1.000000     0.000000     2.000000   827.000000   \n",
              "25%    ...     3.000000     4.000000     0.000000     3.000000  2871.000000   \n",
              "50%    ...     5.000000     5.000000     0.000000     4.000000  3836.000000   \n",
              "75%    ...     7.000000     6.000000     0.000000     5.000000  4207.250000   \n",
              "max    ...     9.000000     7.000000     1.000000     7.000000  5334.000000   \n",
              "\n",
              "            할인민감여부      Recency    Frequency     Monetary      평균 구매주기  \n",
              "count  1000.000000  1000.000000  1000.000000  1000.000000  1000.000000  \n",
              "mean      0.400000     4.925000     2.289000     4.129000     5.260784  \n",
              "std       0.490143     1.744253     1.669811     1.560383     0.812845  \n",
              "min       0.000000     1.000000     1.000000     1.000000     2.706759  \n",
              "25%       0.000000     4.000000     1.000000     3.000000     4.727013  \n",
              "50%       0.000000     5.000000     2.000000     4.000000     5.259938  \n",
              "75%       1.000000     7.000000     3.000000     6.000000     5.785012  \n",
              "max       1.000000     7.000000     7.000000     7.000000     7.579168  \n",
              "\n",
              "[8 rows x 21 columns]"
            ],
            "text/html": [
              "\n",
              "  <div id=\"df-80969c5f-e9e2-46fc-bce2-953295c7faf2\">\n",
              "    <div class=\"colab-df-container\">\n",
              "      <div>\n",
              "<style scoped>\n",
              "    .dataframe tbody tr th:only-of-type {\n",
              "        vertical-align: middle;\n",
              "    }\n",
              "\n",
              "    .dataframe tbody tr th {\n",
              "        vertical-align: top;\n",
              "    }\n",
              "\n",
              "    .dataframe thead th {\n",
              "        text-align: right;\n",
              "    }\n",
              "</style>\n",
              "<table border=\"1\" class=\"dataframe\">\n",
              "  <thead>\n",
              "    <tr style=\"text-align: right;\">\n",
              "      <th></th>\n",
              "      <th>고객ID</th>\n",
              "      <th>이탈여부</th>\n",
              "      <th>총매출액</th>\n",
              "      <th>구매금액대</th>\n",
              "      <th>방문빈도</th>\n",
              "      <th>1회 평균매출액</th>\n",
              "      <th>할인권 사용 횟수</th>\n",
              "      <th>총 할인 금액</th>\n",
              "      <th>고객등급</th>\n",
              "      <th>구매유형</th>\n",
              "      <th>...</th>\n",
              "      <th>구매카테고리수</th>\n",
              "      <th>거주지역</th>\n",
              "      <th>성별</th>\n",
              "      <th>고객 나이대</th>\n",
              "      <th>거래기간</th>\n",
              "      <th>할인민감여부</th>\n",
              "      <th>Recency</th>\n",
              "      <th>Frequency</th>\n",
              "      <th>Monetary</th>\n",
              "      <th>평균 구매주기</th>\n",
              "    </tr>\n",
              "  </thead>\n",
              "  <tbody>\n",
              "    <tr>\n",
              "      <th>count</th>\n",
              "      <td>1000.000000</td>\n",
              "      <td>1000.000000</td>\n",
              "      <td>1.000000e+03</td>\n",
              "      <td>1000.000000</td>\n",
              "      <td>1000.00000</td>\n",
              "      <td>1.000000e+03</td>\n",
              "      <td>1000.000000</td>\n",
              "      <td>1000.000000</td>\n",
              "      <td>1000.000000</td>\n",
              "      <td>1000.000000</td>\n",
              "      <td>...</td>\n",
              "      <td>1000.000000</td>\n",
              "      <td>1000.000000</td>\n",
              "      <td>1000.000000</td>\n",
              "      <td>1000.000000</td>\n",
              "      <td>1000.000000</td>\n",
              "      <td>1000.000000</td>\n",
              "      <td>1000.000000</td>\n",
              "      <td>1000.000000</td>\n",
              "      <td>1000.000000</td>\n",
              "      <td>1000.000000</td>\n",
              "    </tr>\n",
              "    <tr>\n",
              "      <th>mean</th>\n",
              "      <td>500.500000</td>\n",
              "      <td>0.300000</td>\n",
              "      <td>5.858013e+06</td>\n",
              "      <td>0.700000</td>\n",
              "      <td>22.91100</td>\n",
              "      <td>3.521024e+05</td>\n",
              "      <td>16.027000</td>\n",
              "      <td>292371.670000</td>\n",
              "      <td>1.546000</td>\n",
              "      <td>2.656000</td>\n",
              "      <td>...</td>\n",
              "      <td>5.217000</td>\n",
              "      <td>5.147000</td>\n",
              "      <td>0.189000</td>\n",
              "      <td>3.964000</td>\n",
              "      <td>3495.891000</td>\n",
              "      <td>0.400000</td>\n",
              "      <td>4.925000</td>\n",
              "      <td>2.289000</td>\n",
              "      <td>4.129000</td>\n",
              "      <td>5.260784</td>\n",
              "    </tr>\n",
              "    <tr>\n",
              "      <th>std</th>\n",
              "      <td>288.819436</td>\n",
              "      <td>0.458487</td>\n",
              "      <td>5.812815e+06</td>\n",
              "      <td>0.781416</td>\n",
              "      <td>19.08217</td>\n",
              "      <td>3.124636e+05</td>\n",
              "      <td>8.341334</td>\n",
              "      <td>111937.501042</td>\n",
              "      <td>0.498129</td>\n",
              "      <td>1.046307</td>\n",
              "      <td>...</td>\n",
              "      <td>2.224153</td>\n",
              "      <td>1.169084</td>\n",
              "      <td>0.391705</td>\n",
              "      <td>1.078827</td>\n",
              "      <td>965.966194</td>\n",
              "      <td>0.490143</td>\n",
              "      <td>1.744253</td>\n",
              "      <td>1.669811</td>\n",
              "      <td>1.560383</td>\n",
              "      <td>0.812845</td>\n",
              "    </tr>\n",
              "    <tr>\n",
              "      <th>min</th>\n",
              "      <td>1.000000</td>\n",
              "      <td>0.000000</td>\n",
              "      <td>1.886100e+06</td>\n",
              "      <td>0.000000</td>\n",
              "      <td>1.00000</td>\n",
              "      <td>2.708200e+04</td>\n",
              "      <td>1.000000</td>\n",
              "      <td>3750.000000</td>\n",
              "      <td>1.000000</td>\n",
              "      <td>1.000000</td>\n",
              "      <td>...</td>\n",
              "      <td>1.000000</td>\n",
              "      <td>1.000000</td>\n",
              "      <td>0.000000</td>\n",
              "      <td>2.000000</td>\n",
              "      <td>827.000000</td>\n",
              "      <td>0.000000</td>\n",
              "      <td>1.000000</td>\n",
              "      <td>1.000000</td>\n",
              "      <td>1.000000</td>\n",
              "      <td>2.706759</td>\n",
              "    </tr>\n",
              "    <tr>\n",
              "      <th>25%</th>\n",
              "      <td>250.750000</td>\n",
              "      <td>0.000000</td>\n",
              "      <td>2.815905e+06</td>\n",
              "      <td>0.000000</td>\n",
              "      <td>10.75000</td>\n",
              "      <td>1.631242e+05</td>\n",
              "      <td>9.000000</td>\n",
              "      <td>261686.250000</td>\n",
              "      <td>1.000000</td>\n",
              "      <td>2.000000</td>\n",
              "      <td>...</td>\n",
              "      <td>3.000000</td>\n",
              "      <td>4.000000</td>\n",
              "      <td>0.000000</td>\n",
              "      <td>3.000000</td>\n",
              "      <td>2871.000000</td>\n",
              "      <td>0.000000</td>\n",
              "      <td>4.000000</td>\n",
              "      <td>1.000000</td>\n",
              "      <td>3.000000</td>\n",
              "      <td>4.727013</td>\n",
              "    </tr>\n",
              "    <tr>\n",
              "      <th>50%</th>\n",
              "      <td>500.500000</td>\n",
              "      <td>0.000000</td>\n",
              "      <td>4.092145e+06</td>\n",
              "      <td>0.500000</td>\n",
              "      <td>18.00000</td>\n",
              "      <td>2.582080e+05</td>\n",
              "      <td>17.000000</td>\n",
              "      <td>347500.000000</td>\n",
              "      <td>2.000000</td>\n",
              "      <td>2.000000</td>\n",
              "      <td>...</td>\n",
              "      <td>5.000000</td>\n",
              "      <td>5.000000</td>\n",
              "      <td>0.000000</td>\n",
              "      <td>4.000000</td>\n",
              "      <td>3836.000000</td>\n",
              "      <td>0.000000</td>\n",
              "      <td>5.000000</td>\n",
              "      <td>2.000000</td>\n",
              "      <td>4.000000</td>\n",
              "      <td>5.259938</td>\n",
              "    </tr>\n",
              "    <tr>\n",
              "      <th>75%</th>\n",
              "      <td>750.250000</td>\n",
              "      <td>1.000000</td>\n",
              "      <td>6.545392e+06</td>\n",
              "      <td>1.000000</td>\n",
              "      <td>28.00000</td>\n",
              "      <td>4.268310e+05</td>\n",
              "      <td>23.000000</td>\n",
              "      <td>365400.000000</td>\n",
              "      <td>2.000000</td>\n",
              "      <td>4.000000</td>\n",
              "      <td>...</td>\n",
              "      <td>7.000000</td>\n",
              "      <td>6.000000</td>\n",
              "      <td>0.000000</td>\n",
              "      <td>5.000000</td>\n",
              "      <td>4207.250000</td>\n",
              "      <td>1.000000</td>\n",
              "      <td>7.000000</td>\n",
              "      <td>3.000000</td>\n",
              "      <td>6.000000</td>\n",
              "      <td>5.785012</td>\n",
              "    </tr>\n",
              "    <tr>\n",
              "      <th>max</th>\n",
              "      <td>1000.000000</td>\n",
              "      <td>1.000000</td>\n",
              "      <td>6.759576e+07</td>\n",
              "      <td>2.000000</td>\n",
              "      <td>155.00000</td>\n",
              "      <td>2.798500e+06</td>\n",
              "      <td>30.000000</td>\n",
              "      <td>400600.000000</td>\n",
              "      <td>2.000000</td>\n",
              "      <td>4.000000</td>\n",
              "      <td>...</td>\n",
              "      <td>9.000000</td>\n",
              "      <td>7.000000</td>\n",
              "      <td>1.000000</td>\n",
              "      <td>7.000000</td>\n",
              "      <td>5334.000000</td>\n",
              "      <td>1.000000</td>\n",
              "      <td>7.000000</td>\n",
              "      <td>7.000000</td>\n",
              "      <td>7.000000</td>\n",
              "      <td>7.579168</td>\n",
              "    </tr>\n",
              "  </tbody>\n",
              "</table>\n",
              "<p>8 rows × 21 columns</p>\n",
              "</div>\n",
              "      <button class=\"colab-df-convert\" onclick=\"convertToInteractive('df-80969c5f-e9e2-46fc-bce2-953295c7faf2')\"\n",
              "              title=\"Convert this dataframe to an interactive table.\"\n",
              "              style=\"display:none;\">\n",
              "        \n",
              "  <svg xmlns=\"http://www.w3.org/2000/svg\" height=\"24px\"viewBox=\"0 0 24 24\"\n",
              "       width=\"24px\">\n",
              "    <path d=\"M0 0h24v24H0V0z\" fill=\"none\"/>\n",
              "    <path d=\"M18.56 5.44l.94 2.06.94-2.06 2.06-.94-2.06-.94-.94-2.06-.94 2.06-2.06.94zm-11 1L8.5 8.5l.94-2.06 2.06-.94-2.06-.94L8.5 2.5l-.94 2.06-2.06.94zm10 10l.94 2.06.94-2.06 2.06-.94-2.06-.94-.94-2.06-.94 2.06-2.06.94z\"/><path d=\"M17.41 7.96l-1.37-1.37c-.4-.4-.92-.59-1.43-.59-.52 0-1.04.2-1.43.59L10.3 9.45l-7.72 7.72c-.78.78-.78 2.05 0 2.83L4 21.41c.39.39.9.59 1.41.59.51 0 1.02-.2 1.41-.59l7.78-7.78 2.81-2.81c.8-.78.8-2.07 0-2.86zM5.41 20L4 18.59l7.72-7.72 1.47 1.35L5.41 20z\"/>\n",
              "  </svg>\n",
              "      </button>\n",
              "      \n",
              "  <style>\n",
              "    .colab-df-container {\n",
              "      display:flex;\n",
              "      flex-wrap:wrap;\n",
              "      gap: 12px;\n",
              "    }\n",
              "\n",
              "    .colab-df-convert {\n",
              "      background-color: #E8F0FE;\n",
              "      border: none;\n",
              "      border-radius: 50%;\n",
              "      cursor: pointer;\n",
              "      display: none;\n",
              "      fill: #1967D2;\n",
              "      height: 32px;\n",
              "      padding: 0 0 0 0;\n",
              "      width: 32px;\n",
              "    }\n",
              "\n",
              "    .colab-df-convert:hover {\n",
              "      background-color: #E2EBFA;\n",
              "      box-shadow: 0px 1px 2px rgba(60, 64, 67, 0.3), 0px 1px 3px 1px rgba(60, 64, 67, 0.15);\n",
              "      fill: #174EA6;\n",
              "    }\n",
              "\n",
              "    [theme=dark] .colab-df-convert {\n",
              "      background-color: #3B4455;\n",
              "      fill: #D2E3FC;\n",
              "    }\n",
              "\n",
              "    [theme=dark] .colab-df-convert:hover {\n",
              "      background-color: #434B5C;\n",
              "      box-shadow: 0px 1px 3px 1px rgba(0, 0, 0, 0.15);\n",
              "      filter: drop-shadow(0px 1px 2px rgba(0, 0, 0, 0.3));\n",
              "      fill: #FFFFFF;\n",
              "    }\n",
              "  </style>\n",
              "\n",
              "      <script>\n",
              "        const buttonEl =\n",
              "          document.querySelector('#df-80969c5f-e9e2-46fc-bce2-953295c7faf2 button.colab-df-convert');\n",
              "        buttonEl.style.display =\n",
              "          google.colab.kernel.accessAllowed ? 'block' : 'none';\n",
              "\n",
              "        async function convertToInteractive(key) {\n",
              "          const element = document.querySelector('#df-80969c5f-e9e2-46fc-bce2-953295c7faf2');\n",
              "          const dataTable =\n",
              "            await google.colab.kernel.invokeFunction('convertToInteractive',\n",
              "                                                     [key], {});\n",
              "          if (!dataTable) return;\n",
              "\n",
              "          const docLinkHtml = 'Like what you see? Visit the ' +\n",
              "            '<a target=\"_blank\" href=https://colab.research.google.com/notebooks/data_table.ipynb>data table notebook</a>'\n",
              "            + ' to learn more about interactive tables.';\n",
              "          element.innerHTML = '';\n",
              "          dataTable['output_type'] = 'display_data';\n",
              "          await google.colab.output.renderOutput(dataTable, element);\n",
              "          const docLink = document.createElement('div');\n",
              "          docLink.innerHTML = docLinkHtml;\n",
              "          element.appendChild(docLink);\n",
              "        }\n",
              "      </script>\n",
              "    </div>\n",
              "  </div>\n",
              "  "
            ]
          },
          "metadata": {},
          "execution_count": 49
        }
      ]
    },
    {
      "cell_type": "code",
      "source": [
        "df.columns"
      ],
      "metadata": {
        "colab": {
          "base_uri": "https://localhost:8080/"
        },
        "id": "sQT94JMVEYXw",
        "outputId": "39f69a81-0381-430c-aeb4-7ae0edbdcdfe"
      },
      "execution_count": null,
      "outputs": [
        {
          "output_type": "execute_result",
          "data": {
            "text/plain": [
              "Index(['고객ID', '이탈여부', '총매출액', '구매금액대', '방문빈도', '1회 평균매출액', '할인권 사용 횟수',\n",
              "       '총 할인 금액', '고객등급', '구매유형', '클레임접수여부', '구매카테고리수', '거주지역', '성별', '고객 나이대',\n",
              "       '거래기간', '할인민감여부', 'Recency', 'Frequency', 'Monetary', '평균 구매주기'],\n",
              "      dtype='object')"
            ]
          },
          "metadata": {},
          "execution_count": 50
        }
      ]
    },
    {
      "cell_type": "code",
      "source": [
        "X = df[['총매출액', '구매금액대', '할인권 사용 횟수', '총 할인 금액', '구매유형', \n",
        "        '구매카테고리수', '성별', '거주지역']]\n",
        "Y = df[\"이탈여부\"]\n",
        "\n",
        "X_train, X_test, Y_train, Y_test = train_test_split(X, Y, test_size=0.3, random_state=0)\n",
        "\n",
        "smote = SMOTE(random_state=0)\n",
        "X_train, Y_train = smote.fit_resample(X_train, Y_train)\n",
        "\n",
        "from sklearn.metrics import classification_report\n",
        "from sklearn.tree import DecisionTreeClassifier\n",
        "\n",
        "DT_model = DecisionTreeClassifier(random_state = 0, max_depth = 3)\n",
        "DT_model.fit(X_train, Y_train)\n",
        "Y_pred = DT_model.predict(X_test)\n",
        "print(\"accuracy : {:.3f}\".format(DT_model.score(X_train, Y_train)))\n",
        "print(classification_report(Y_test, Y_pred))"
      ],
      "metadata": {
        "colab": {
          "base_uri": "https://localhost:8080/"
        },
        "id": "cpiJwLKpEcaH",
        "outputId": "c61d8e4c-9298-403f-897a-d95657e67d5c"
      },
      "execution_count": null,
      "outputs": [
        {
          "output_type": "stream",
          "name": "stdout",
          "text": [
            "accuracy : 0.626\n",
            "              precision    recall  f1-score   support\n",
            "\n",
            "           0       0.73      0.73      0.73       219\n",
            "           1       0.28      0.28      0.28        81\n",
            "\n",
            "    accuracy                           0.61       300\n",
            "   macro avg       0.50      0.50      0.50       300\n",
            "weighted avg       0.61      0.61      0.61       300\n",
            "\n"
          ]
        }
      ]
    },
    {
      "cell_type": "code",
      "source": [
        "feature_name = X.columns\n",
        "feature_importance =DT_model.feature_importances_\n",
        "sorted(zip(feature_importance, feature_name), reverse = True)\n",
        "\n",
        "#변수 중요도 : 수치가 높울수록 그 모형에서 중요한 변수"
      ],
      "metadata": {
        "colab": {
          "base_uri": "https://localhost:8080/"
        },
        "id": "RDGqGpGLGGK2",
        "outputId": "6424288e-8f54-4fd6-f7d1-15f3649d914b"
      },
      "execution_count": null,
      "outputs": [
        {
          "output_type": "execute_result",
          "data": {
            "text/plain": [
              "[(0.7493404125777997, '총매출액'),\n",
              " (0.1630541216629677, '거주지역'),\n",
              " (0.08760546575923255, '구매카테고리수'),\n",
              " (0.0, '할인권 사용 횟수'),\n",
              " (0.0, '총 할인 금액'),\n",
              " (0.0, '성별'),\n",
              " (0.0, '구매유형'),\n",
              " (0.0, '구매금액대')]"
            ]
          },
          "metadata": {},
          "execution_count": 52
        }
      ]
    },
    {
      "cell_type": "code",
      "source": [
        "from sklearn.tree import export_graphviz\n",
        "import graphviz\n",
        "\n",
        "#파일생성\n",
        "export_graphviz(DT_model, out_file=\"tree.dot\", class_names=[\"비이탈\",\"이탈\"],\n",
        "                feature_names = feature_name, impurity=True, filled = True)\n",
        "\n",
        "\n",
        "#파일열기\n",
        "with open(\"tree.dot\", encoding=\"utf-8\") as f:\n",
        "    dot_graph=f.read()\n",
        "graphviz.Source(dot_graph)\n"
      ],
      "metadata": {
        "colab": {
          "base_uri": "https://localhost:8080/",
          "height": 598
        },
        "id": "_3yQHCyfHPtC",
        "outputId": "2604a100-954a-4181-adf3-74176a967b8a"
      },
      "execution_count": null,
      "outputs": [
        {
          "output_type": "execute_result",
          "data": {
            "text/plain": [
              "<graphviz.files.Source at 0x7f5080007250>"
            ],
            "image/svg+xml": "<?xml version=\"1.0\" encoding=\"UTF-8\" standalone=\"no\"?>\n<!DOCTYPE svg PUBLIC \"-//W3C//DTD SVG 1.1//EN\"\n \"http://www.w3.org/Graphics/SVG/1.1/DTD/svg11.dtd\">\n<!-- Generated by graphviz version 2.40.1 (20161225.0304)\n -->\n<!-- Title: Tree Pages: 1 -->\n<svg width=\"1054pt\" height=\"433pt\"\n viewBox=\"0.00 0.00 1054.00 433.00\" xmlns=\"http://www.w3.org/2000/svg\" xmlns:xlink=\"http://www.w3.org/1999/xlink\">\n<g id=\"graph0\" class=\"graph\" transform=\"scale(1 1) rotate(0) translate(4 429)\">\n<title>Tree</title>\n<polygon fill=\"#ffffff\" stroke=\"transparent\" points=\"-4,4 -4,-429 1050,-429 1050,4 -4,4\"/>\n<!-- 0 -->\n<g id=\"node1\" class=\"node\">\n<title>0</title>\n<polygon fill=\"#ffffff\" stroke=\"#000000\" points=\"603.5,-425 436.5,-425 436.5,-342 603.5,-342 603.5,-425\"/>\n<text text-anchor=\"middle\" x=\"520\" y=\"-409.8\" font-family=\"Helvetica,sans-Serif\" font-size=\"14.00\" fill=\"#000000\">총매출액 &lt;= 3490355.0</text>\n<text text-anchor=\"middle\" x=\"520\" y=\"-394.8\" font-family=\"Helvetica,sans-Serif\" font-size=\"14.00\" fill=\"#000000\">gini = 0.5</text>\n<text text-anchor=\"middle\" x=\"520\" y=\"-379.8\" font-family=\"Helvetica,sans-Serif\" font-size=\"14.00\" fill=\"#000000\">samples = 962</text>\n<text text-anchor=\"middle\" x=\"520\" y=\"-364.8\" font-family=\"Helvetica,sans-Serif\" font-size=\"14.00\" fill=\"#000000\">value = [481, 481]</text>\n<text text-anchor=\"middle\" x=\"520\" y=\"-349.8\" font-family=\"Helvetica,sans-Serif\" font-size=\"14.00\" fill=\"#000000\">class = 비이탈</text>\n</g>\n<!-- 1 -->\n<g id=\"node2\" class=\"node\">\n<title>1</title>\n<polygon fill=\"#b5daf5\" stroke=\"#000000\" points=\"494,-306 362,-306 362,-223 494,-223 494,-306\"/>\n<text text-anchor=\"middle\" x=\"428\" y=\"-290.8\" font-family=\"Helvetica,sans-Serif\" font-size=\"14.00\" fill=\"#000000\">거주지역 &lt;= 5.5</text>\n<text text-anchor=\"middle\" x=\"428\" y=\"-275.8\" font-family=\"Helvetica,sans-Serif\" font-size=\"14.00\" fill=\"#000000\">gini = 0.473</text>\n<text text-anchor=\"middle\" x=\"428\" y=\"-260.8\" font-family=\"Helvetica,sans-Serif\" font-size=\"14.00\" fill=\"#000000\">samples = 411</text>\n<text text-anchor=\"middle\" x=\"428\" y=\"-245.8\" font-family=\"Helvetica,sans-Serif\" font-size=\"14.00\" fill=\"#000000\">value = [158, 253]</text>\n<text text-anchor=\"middle\" x=\"428\" y=\"-230.8\" font-family=\"Helvetica,sans-Serif\" font-size=\"14.00\" fill=\"#000000\">class = 이탈</text>\n</g>\n<!-- 0&#45;&gt;1 -->\n<g id=\"edge1\" class=\"edge\">\n<title>0&#45;&gt;1</title>\n<path fill=\"none\" stroke=\"#000000\" d=\"M487.8229,-341.8796C480.9296,-332.9633 473.5798,-323.4565 466.4761,-314.268\"/>\n<polygon fill=\"#000000\" stroke=\"#000000\" points=\"469.1999,-312.0687 460.3145,-306.2981 463.6619,-316.3502 469.1999,-312.0687\"/>\n<text text-anchor=\"middle\" x=\"457.1413\" y=\"-327.3959\" font-family=\"Helvetica,sans-Serif\" font-size=\"14.00\" fill=\"#000000\">True</text>\n</g>\n<!-- 8 -->\n<g id=\"node9\" class=\"node\">\n<title>8</title>\n<polygon fill=\"#f7dac5\" stroke=\"#000000\" points=\"709.5,-306 542.5,-306 542.5,-223 709.5,-223 709.5,-306\"/>\n<text text-anchor=\"middle\" x=\"626\" y=\"-290.8\" font-family=\"Helvetica,sans-Serif\" font-size=\"14.00\" fill=\"#000000\">총매출액 &lt;= 9671695.0</text>\n<text text-anchor=\"middle\" x=\"626\" y=\"-275.8\" font-family=\"Helvetica,sans-Serif\" font-size=\"14.00\" fill=\"#000000\">gini = 0.485</text>\n<text text-anchor=\"middle\" x=\"626\" y=\"-260.8\" font-family=\"Helvetica,sans-Serif\" font-size=\"14.00\" fill=\"#000000\">samples = 551</text>\n<text text-anchor=\"middle\" x=\"626\" y=\"-245.8\" font-family=\"Helvetica,sans-Serif\" font-size=\"14.00\" fill=\"#000000\">value = [323, 228]</text>\n<text text-anchor=\"middle\" x=\"626\" y=\"-230.8\" font-family=\"Helvetica,sans-Serif\" font-size=\"14.00\" fill=\"#000000\">class = 비이탈</text>\n</g>\n<!-- 0&#45;&gt;8 -->\n<g id=\"edge8\" class=\"edge\">\n<title>0&#45;&gt;8</title>\n<path fill=\"none\" stroke=\"#000000\" d=\"M557.0737,-341.8796C565.0961,-332.8733 573.6552,-323.2644 581.9167,-313.9897\"/>\n<polygon fill=\"#000000\" stroke=\"#000000\" points=\"584.7302,-316.0933 588.7681,-306.2981 579.5031,-311.4373 584.7302,-316.0933\"/>\n<text text-anchor=\"middle\" x=\"590.2101\" y=\"-327.5564\" font-family=\"Helvetica,sans-Serif\" font-size=\"14.00\" fill=\"#000000\">False</text>\n</g>\n<!-- 2 -->\n<g id=\"node3\" class=\"node\">\n<title>2</title>\n<polygon fill=\"#97cbf1\" stroke=\"#000000\" points=\"280.5,-187 119.5,-187 119.5,-104 280.5,-104 280.5,-187\"/>\n<text text-anchor=\"middle\" x=\"200\" y=\"-171.8\" font-family=\"Helvetica,sans-Serif\" font-size=\"14.00\" fill=\"#000000\">구매카테고리수 &lt;= 5.5</text>\n<text text-anchor=\"middle\" x=\"200\" y=\"-156.8\" font-family=\"Helvetica,sans-Serif\" font-size=\"14.00\" fill=\"#000000\">gini = 0.436</text>\n<text text-anchor=\"middle\" x=\"200\" y=\"-141.8\" font-family=\"Helvetica,sans-Serif\" font-size=\"14.00\" fill=\"#000000\">samples = 296</text>\n<text text-anchor=\"middle\" x=\"200\" y=\"-126.8\" font-family=\"Helvetica,sans-Serif\" font-size=\"14.00\" fill=\"#000000\">value = [95, 201]</text>\n<text text-anchor=\"middle\" x=\"200\" y=\"-111.8\" font-family=\"Helvetica,sans-Serif\" font-size=\"14.00\" fill=\"#000000\">class = 이탈</text>\n</g>\n<!-- 1&#45;&gt;2 -->\n<g id=\"edge2\" class=\"edge\">\n<title>1&#45;&gt;2</title>\n<path fill=\"none\" stroke=\"#000000\" d=\"M361.7467,-229.9204C338.9124,-218.0025 312.9586,-204.4565 288.629,-191.7581\"/>\n<polygon fill=\"#000000\" stroke=\"#000000\" points=\"290.2323,-188.6469 279.7477,-187.1227 286.9934,-194.8526 290.2323,-188.6469\"/>\n</g>\n<!-- 5 -->\n<g id=\"node6\" class=\"node\">\n<title>5</title>\n<polygon fill=\"#fae9dc\" stroke=\"#000000\" points=\"511.5,-187 344.5,-187 344.5,-104 511.5,-104 511.5,-187\"/>\n<text text-anchor=\"middle\" x=\"428\" y=\"-171.8\" font-family=\"Helvetica,sans-Serif\" font-size=\"14.00\" fill=\"#000000\">총매출액 &lt;= 3376310.0</text>\n<text text-anchor=\"middle\" x=\"428\" y=\"-156.8\" font-family=\"Helvetica,sans-Serif\" font-size=\"14.00\" fill=\"#000000\">gini = 0.495</text>\n<text text-anchor=\"middle\" x=\"428\" y=\"-141.8\" font-family=\"Helvetica,sans-Serif\" font-size=\"14.00\" fill=\"#000000\">samples = 115</text>\n<text text-anchor=\"middle\" x=\"428\" y=\"-126.8\" font-family=\"Helvetica,sans-Serif\" font-size=\"14.00\" fill=\"#000000\">value = [63, 52]</text>\n<text text-anchor=\"middle\" x=\"428\" y=\"-111.8\" font-family=\"Helvetica,sans-Serif\" font-size=\"14.00\" fill=\"#000000\">class = 비이탈</text>\n</g>\n<!-- 1&#45;&gt;5 -->\n<g id=\"edge5\" class=\"edge\">\n<title>1&#45;&gt;5</title>\n<path fill=\"none\" stroke=\"#000000\" d=\"M428,-222.8796C428,-214.6838 428,-205.9891 428,-197.5013\"/>\n<polygon fill=\"#000000\" stroke=\"#000000\" points=\"431.5001,-197.298 428,-187.2981 424.5001,-197.2981 431.5001,-197.298\"/>\n</g>\n<!-- 3 -->\n<g id=\"node4\" class=\"node\">\n<title>3</title>\n<polygon fill=\"#7fbfee\" stroke=\"#000000\" points=\"124,-68 0,-68 0,0 124,0 124,-68\"/>\n<text text-anchor=\"middle\" x=\"62\" y=\"-52.8\" font-family=\"Helvetica,sans-Serif\" font-size=\"14.00\" fill=\"#000000\">gini = 0.385</text>\n<text text-anchor=\"middle\" x=\"62\" y=\"-37.8\" font-family=\"Helvetica,sans-Serif\" font-size=\"14.00\" fill=\"#000000\">samples = 200</text>\n<text text-anchor=\"middle\" x=\"62\" y=\"-22.8\" font-family=\"Helvetica,sans-Serif\" font-size=\"14.00\" fill=\"#000000\">value = [52, 148]</text>\n<text text-anchor=\"middle\" x=\"62\" y=\"-7.8\" font-family=\"Helvetica,sans-Serif\" font-size=\"14.00\" fill=\"#000000\">class = 이탈</text>\n</g>\n<!-- 2&#45;&gt;3 -->\n<g id=\"edge3\" class=\"edge\">\n<title>2&#45;&gt;3</title>\n<path fill=\"none\" stroke=\"#000000\" d=\"M148.6139,-103.9815C136.7839,-94.4232 124.2136,-84.2668 112.4249,-74.7419\"/>\n<polygon fill=\"#000000\" stroke=\"#000000\" points=\"114.3851,-71.826 104.4071,-68.2637 109.9858,-77.2708 114.3851,-71.826\"/>\n</g>\n<!-- 4 -->\n<g id=\"node5\" class=\"node\">\n<title>4</title>\n<polygon fill=\"#daedfa\" stroke=\"#000000\" points=\"258,-68 142,-68 142,0 258,0 258,-68\"/>\n<text text-anchor=\"middle\" x=\"200\" y=\"-52.8\" font-family=\"Helvetica,sans-Serif\" font-size=\"14.00\" fill=\"#000000\">gini = 0.495</text>\n<text text-anchor=\"middle\" x=\"200\" y=\"-37.8\" font-family=\"Helvetica,sans-Serif\" font-size=\"14.00\" fill=\"#000000\">samples = 96</text>\n<text text-anchor=\"middle\" x=\"200\" y=\"-22.8\" font-family=\"Helvetica,sans-Serif\" font-size=\"14.00\" fill=\"#000000\">value = [43, 53]</text>\n<text text-anchor=\"middle\" x=\"200\" y=\"-7.8\" font-family=\"Helvetica,sans-Serif\" font-size=\"14.00\" fill=\"#000000\">class = 이탈</text>\n</g>\n<!-- 2&#45;&gt;4 -->\n<g id=\"edge4\" class=\"edge\">\n<title>2&#45;&gt;4</title>\n<path fill=\"none\" stroke=\"#000000\" d=\"M200,-103.9815C200,-95.618 200,-86.7965 200,-78.3409\"/>\n<polygon fill=\"#000000\" stroke=\"#000000\" points=\"203.5001,-78.2636 200,-68.2637 196.5001,-78.2637 203.5001,-78.2636\"/>\n</g>\n<!-- 6 -->\n<g id=\"node7\" class=\"node\">\n<title>6</title>\n<polygon fill=\"#f8dbc6\" stroke=\"#000000\" points=\"392,-68 276,-68 276,0 392,0 392,-68\"/>\n<text text-anchor=\"middle\" x=\"334\" y=\"-52.8\" font-family=\"Helvetica,sans-Serif\" font-size=\"14.00\" fill=\"#000000\">gini = 0.486</text>\n<text text-anchor=\"middle\" x=\"334\" y=\"-37.8\" font-family=\"Helvetica,sans-Serif\" font-size=\"14.00\" fill=\"#000000\">samples = 108</text>\n<text text-anchor=\"middle\" x=\"334\" y=\"-22.8\" font-family=\"Helvetica,sans-Serif\" font-size=\"14.00\" fill=\"#000000\">value = [63, 45]</text>\n<text text-anchor=\"middle\" x=\"334\" y=\"-7.8\" font-family=\"Helvetica,sans-Serif\" font-size=\"14.00\" fill=\"#000000\">class = 비이탈</text>\n</g>\n<!-- 5&#45;&gt;6 -->\n<g id=\"edge6\" class=\"edge\">\n<title>5&#45;&gt;6</title>\n<path fill=\"none\" stroke=\"#000000\" d=\"M392.9979,-103.9815C385.3272,-94.8828 377.1995,-85.242 369.5091,-76.1199\"/>\n<polygon fill=\"#000000\" stroke=\"#000000\" points=\"372.0075,-73.6533 362.886,-68.2637 366.6556,-78.1652 372.0075,-73.6533\"/>\n</g>\n<!-- 7 -->\n<g id=\"node8\" class=\"node\">\n<title>7</title>\n<polygon fill=\"#399de5\" stroke=\"#000000\" points=\"509.5,-68 410.5,-68 410.5,0 509.5,0 509.5,-68\"/>\n<text text-anchor=\"middle\" x=\"460\" y=\"-52.8\" font-family=\"Helvetica,sans-Serif\" font-size=\"14.00\" fill=\"#000000\">gini = 0.0</text>\n<text text-anchor=\"middle\" x=\"460\" y=\"-37.8\" font-family=\"Helvetica,sans-Serif\" font-size=\"14.00\" fill=\"#000000\">samples = 7</text>\n<text text-anchor=\"middle\" x=\"460\" y=\"-22.8\" font-family=\"Helvetica,sans-Serif\" font-size=\"14.00\" fill=\"#000000\">value = [0, 7]</text>\n<text text-anchor=\"middle\" x=\"460\" y=\"-7.8\" font-family=\"Helvetica,sans-Serif\" font-size=\"14.00\" fill=\"#000000\">class = 이탈</text>\n</g>\n<!-- 5&#45;&gt;7 -->\n<g id=\"edge7\" class=\"edge\">\n<title>5&#45;&gt;7</title>\n<path fill=\"none\" stroke=\"#000000\" d=\"M439.9156,-103.9815C442.3423,-95.5261 444.9033,-86.6026 447.3543,-78.0623\"/>\n<polygon fill=\"#000000\" stroke=\"#000000\" points=\"450.772,-78.8412 450.1665,-68.2637 444.0436,-76.9101 450.772,-78.8412\"/>\n</g>\n<!-- 9 -->\n<g id=\"node10\" class=\"node\">\n<title>9</title>\n<polygon fill=\"#fae8db\" stroke=\"#000000\" points=\"709.5,-187 542.5,-187 542.5,-104 709.5,-104 709.5,-187\"/>\n<text text-anchor=\"middle\" x=\"626\" y=\"-171.8\" font-family=\"Helvetica,sans-Serif\" font-size=\"14.00\" fill=\"#000000\">총매출액 &lt;= 9343144.0</text>\n<text text-anchor=\"middle\" x=\"626\" y=\"-156.8\" font-family=\"Helvetica,sans-Serif\" font-size=\"14.00\" fill=\"#000000\">gini = 0.495</text>\n<text text-anchor=\"middle\" x=\"626\" y=\"-141.8\" font-family=\"Helvetica,sans-Serif\" font-size=\"14.00\" fill=\"#000000\">samples = 456</text>\n<text text-anchor=\"middle\" x=\"626\" y=\"-126.8\" font-family=\"Helvetica,sans-Serif\" font-size=\"14.00\" fill=\"#000000\">value = [251, 205]</text>\n<text text-anchor=\"middle\" x=\"626\" y=\"-111.8\" font-family=\"Helvetica,sans-Serif\" font-size=\"14.00\" fill=\"#000000\">class = 비이탈</text>\n</g>\n<!-- 8&#45;&gt;9 -->\n<g id=\"edge9\" class=\"edge\">\n<title>8&#45;&gt;9</title>\n<path fill=\"none\" stroke=\"#000000\" d=\"M626,-222.8796C626,-214.6838 626,-205.9891 626,-197.5013\"/>\n<polygon fill=\"#000000\" stroke=\"#000000\" points=\"629.5001,-197.298 626,-187.2981 622.5001,-197.2981 629.5001,-197.298\"/>\n</g>\n<!-- 12 -->\n<g id=\"node13\" class=\"node\">\n<title>12</title>\n<polygon fill=\"#eda978\" stroke=\"#000000\" points=\"942,-187 766,-187 766,-104 942,-104 942,-187\"/>\n<text text-anchor=\"middle\" x=\"854\" y=\"-171.8\" font-family=\"Helvetica,sans-Serif\" font-size=\"14.00\" fill=\"#000000\">총매출액 &lt;= 20874705.0</text>\n<text text-anchor=\"middle\" x=\"854\" y=\"-156.8\" font-family=\"Helvetica,sans-Serif\" font-size=\"14.00\" fill=\"#000000\">gini = 0.367</text>\n<text text-anchor=\"middle\" x=\"854\" y=\"-141.8\" font-family=\"Helvetica,sans-Serif\" font-size=\"14.00\" fill=\"#000000\">samples = 95</text>\n<text text-anchor=\"middle\" x=\"854\" y=\"-126.8\" font-family=\"Helvetica,sans-Serif\" font-size=\"14.00\" fill=\"#000000\">value = [72, 23]</text>\n<text text-anchor=\"middle\" x=\"854\" y=\"-111.8\" font-family=\"Helvetica,sans-Serif\" font-size=\"14.00\" fill=\"#000000\">class = 비이탈</text>\n</g>\n<!-- 8&#45;&gt;12 -->\n<g id=\"edge12\" class=\"edge\">\n<title>8&#45;&gt;12</title>\n<path fill=\"none\" stroke=\"#000000\" d=\"M705.7433,-222.8796C725.0086,-212.8244 745.7129,-202.0183 765.3587,-191.7645\"/>\n<polygon fill=\"#000000\" stroke=\"#000000\" points=\"767.056,-194.8268 774.3017,-187.0969 763.8171,-188.6212 767.056,-194.8268\"/>\n</g>\n<!-- 10 -->\n<g id=\"node11\" class=\"node\">\n<title>10</title>\n<polygon fill=\"#f9e4d4\" stroke=\"#000000\" points=\"660,-68 528,-68 528,0 660,0 660,-68\"/>\n<text text-anchor=\"middle\" x=\"594\" y=\"-52.8\" font-family=\"Helvetica,sans-Serif\" font-size=\"14.00\" fill=\"#000000\">gini = 0.493</text>\n<text text-anchor=\"middle\" x=\"594\" y=\"-37.8\" font-family=\"Helvetica,sans-Serif\" font-size=\"14.00\" fill=\"#000000\">samples = 448</text>\n<text text-anchor=\"middle\" x=\"594\" y=\"-22.8\" font-family=\"Helvetica,sans-Serif\" font-size=\"14.00\" fill=\"#000000\">value = [251, 197]</text>\n<text text-anchor=\"middle\" x=\"594\" y=\"-7.8\" font-family=\"Helvetica,sans-Serif\" font-size=\"14.00\" fill=\"#000000\">class = 비이탈</text>\n</g>\n<!-- 9&#45;&gt;10 -->\n<g id=\"edge10\" class=\"edge\">\n<title>9&#45;&gt;10</title>\n<path fill=\"none\" stroke=\"#000000\" d=\"M614.0844,-103.9815C611.6577,-95.5261 609.0967,-86.6026 606.6457,-78.0623\"/>\n<polygon fill=\"#000000\" stroke=\"#000000\" points=\"609.9564,-76.9101 603.8335,-68.2637 603.228,-78.8412 609.9564,-76.9101\"/>\n</g>\n<!-- 11 -->\n<g id=\"node12\" class=\"node\">\n<title>11</title>\n<polygon fill=\"#399de5\" stroke=\"#000000\" points=\"777.5,-68 678.5,-68 678.5,0 777.5,0 777.5,-68\"/>\n<text text-anchor=\"middle\" x=\"728\" y=\"-52.8\" font-family=\"Helvetica,sans-Serif\" font-size=\"14.00\" fill=\"#000000\">gini = 0.0</text>\n<text text-anchor=\"middle\" x=\"728\" y=\"-37.8\" font-family=\"Helvetica,sans-Serif\" font-size=\"14.00\" fill=\"#000000\">samples = 8</text>\n<text text-anchor=\"middle\" x=\"728\" y=\"-22.8\" font-family=\"Helvetica,sans-Serif\" font-size=\"14.00\" fill=\"#000000\">value = [0, 8]</text>\n<text text-anchor=\"middle\" x=\"728\" y=\"-7.8\" font-family=\"Helvetica,sans-Serif\" font-size=\"14.00\" fill=\"#000000\">class = 이탈</text>\n</g>\n<!-- 9&#45;&gt;11 -->\n<g id=\"edge11\" class=\"edge\">\n<title>9&#45;&gt;11</title>\n<path fill=\"none\" stroke=\"#000000\" d=\"M663.981,-103.9815C672.3886,-94.7908 681.3021,-85.0472 689.7215,-75.8436\"/>\n<polygon fill=\"#000000\" stroke=\"#000000\" points=\"692.4883,-78.0045 696.6557,-68.2637 687.3234,-73.2797 692.4883,-78.0045\"/>\n</g>\n<!-- 13 -->\n<g id=\"node14\" class=\"node\">\n<title>13</title>\n<polygon fill=\"#ea985e\" stroke=\"#000000\" points=\"912,-68 796,-68 796,0 912,0 912,-68\"/>\n<text text-anchor=\"middle\" x=\"854\" y=\"-52.8\" font-family=\"Helvetica,sans-Serif\" font-size=\"14.00\" fill=\"#000000\">gini = 0.265</text>\n<text text-anchor=\"middle\" x=\"854\" y=\"-37.8\" font-family=\"Helvetica,sans-Serif\" font-size=\"14.00\" fill=\"#000000\">samples = 70</text>\n<text text-anchor=\"middle\" x=\"854\" y=\"-22.8\" font-family=\"Helvetica,sans-Serif\" font-size=\"14.00\" fill=\"#000000\">value = [59, 11]</text>\n<text text-anchor=\"middle\" x=\"854\" y=\"-7.8\" font-family=\"Helvetica,sans-Serif\" font-size=\"14.00\" fill=\"#000000\">class = 비이탈</text>\n</g>\n<!-- 12&#45;&gt;13 -->\n<g id=\"edge13\" class=\"edge\">\n<title>12&#45;&gt;13</title>\n<path fill=\"none\" stroke=\"#000000\" d=\"M854,-103.9815C854,-95.618 854,-86.7965 854,-78.3409\"/>\n<polygon fill=\"#000000\" stroke=\"#000000\" points=\"857.5001,-78.2636 854,-68.2637 850.5001,-78.2637 857.5001,-78.2636\"/>\n</g>\n<!-- 14 -->\n<g id=\"node15\" class=\"node\">\n<title>14</title>\n<polygon fill=\"#fdf5f0\" stroke=\"#000000\" points=\"1046,-68 930,-68 930,0 1046,0 1046,-68\"/>\n<text text-anchor=\"middle\" x=\"988\" y=\"-52.8\" font-family=\"Helvetica,sans-Serif\" font-size=\"14.00\" fill=\"#000000\">gini = 0.499</text>\n<text text-anchor=\"middle\" x=\"988\" y=\"-37.8\" font-family=\"Helvetica,sans-Serif\" font-size=\"14.00\" fill=\"#000000\">samples = 25</text>\n<text text-anchor=\"middle\" x=\"988\" y=\"-22.8\" font-family=\"Helvetica,sans-Serif\" font-size=\"14.00\" fill=\"#000000\">value = [13, 12]</text>\n<text text-anchor=\"middle\" x=\"988\" y=\"-7.8\" font-family=\"Helvetica,sans-Serif\" font-size=\"14.00\" fill=\"#000000\">class = 비이탈</text>\n</g>\n<!-- 12&#45;&gt;14 -->\n<g id=\"edge14\" class=\"edge\">\n<title>12&#45;&gt;14</title>\n<path fill=\"none\" stroke=\"#000000\" d=\"M903.8967,-103.9815C915.3838,-94.4232 927.5897,-84.2668 939.0367,-74.7419\"/>\n<polygon fill=\"#000000\" stroke=\"#000000\" points=\"941.3739,-77.3503 946.8221,-68.2637 936.8965,-71.9695 941.3739,-77.3503\"/>\n</g>\n</g>\n</svg>\n"
          },
          "metadata": {},
          "execution_count": 53
        }
      ]
    },
    {
      "cell_type": "code",
      "source": [
        "#numeric value(Y) => Y가 연속형일 때\n",
        "X = df[df.이탈여부==0][[\"총매출액\",\"구매금액대\",\"할인권 사용 횟수\",\"총 할인 금액\",\"구매유형\",\"구매카테고리수\",\"성별\",\"거주지역\"]]\n",
        "Y = df[df.이탈여부==0][\"평균 구매주기\"]\n",
        "\n",
        "X_train, X_test, Y_train, Y_test = train_test_split(X, Y, test_size=0.3, random_state=0)\n",
        "\n",
        "from sklearn.tree import DecisionTreeRegressor\n",
        "\n",
        "DT_model_reg = DecisionTreeRegressor(random_state=0, max_depth = 5)\n",
        "DT_model_reg.fit(X_train, Y_train)\n",
        "Y_pred =DT_model_reg.predict(X_test)\n",
        "print(\"accuracy : {:.3f}\".format(DT_model_reg.score(X_train, Y_train)))\n",
        "rmse = sqrt(mean_squared_error(Y_test, Y_pred))\n",
        "print(\"rmse : {:.3f}\".format(rmse))\n",
        "\n",
        "#위에는 모델\n",
        "#밑에는 예측에 대한 얘기\n",
        "\n",
        "#회귀에는 rmse보기\n",
        "\n",
        "#분류모형에서는 f1스코어 accuracy 보기"
      ],
      "metadata": {
        "id": "7iEWx98nSB8f",
        "colab": {
          "base_uri": "https://localhost:8080/"
        },
        "outputId": "ae85398c-3f90-4281-c098-b660c2255bda"
      },
      "execution_count": null,
      "outputs": [
        {
          "output_type": "stream",
          "name": "stdout",
          "text": [
            "accuracy : 0.558\n",
            "rmse : 0.625\n"
          ]
        }
      ]
    },
    {
      "cell_type": "code",
      "source": [
        "from sklearn.tree import export_graphviz\n",
        "import graphviz\n",
        "\n",
        "#파일생성\n",
        "export_graphviz(DT_model_reg, out_file=\"tree.dot\", class_names=[\"비이탈\",\"이탈\"],\n",
        "                feature_names = feature_name, impurity=True, filled = True)\n",
        "\n",
        "\n",
        "#파일열기\n",
        "with open(\"tree.dot\", encoding=\"utf-8\") as f:\n",
        "    dot_graph=f.read()\n",
        "graphviz.Source(dot_graph)\n"
      ],
      "metadata": {
        "colab": {
          "base_uri": "https://localhost:8080/",
          "height": 815
        },
        "id": "BpgK3L5KWAfa",
        "outputId": "6c304516-a0c9-46f3-9aed-45866fca5137"
      },
      "execution_count": null,
      "outputs": [
        {
          "output_type": "execute_result",
          "data": {
            "text/plain": [
              "<graphviz.files.Source at 0x7f5082c32550>"
            ],
            "image/svg+xml": "<?xml version=\"1.0\" encoding=\"UTF-8\" standalone=\"no\"?>\n<!DOCTYPE svg PUBLIC \"-//W3C//DTD SVG 1.1//EN\"\n \"http://www.w3.org/Graphics/SVG/1.1/DTD/svg11.dtd\">\n<!-- Generated by graphviz version 2.40.1 (20161225.0304)\n -->\n<!-- Title: Tree Pages: 1 -->\n<svg width=\"5157pt\" height=\"581pt\"\n viewBox=\"0.00 0.00 5157.00 581.00\" xmlns=\"http://www.w3.org/2000/svg\" xmlns:xlink=\"http://www.w3.org/1999/xlink\">\n<g id=\"graph0\" class=\"graph\" transform=\"scale(1 1) rotate(0) translate(4 577)\">\n<title>Tree</title>\n<polygon fill=\"#ffffff\" stroke=\"transparent\" points=\"-4,4 -4,-577 5153,-577 5153,4 -4,4\"/>\n<!-- 0 -->\n<g id=\"node1\" class=\"node\">\n<title>0</title>\n<polygon fill=\"#f0b58b\" stroke=\"#000000\" points=\"2602,-573 2435,-573 2435,-505 2602,-505 2602,-573\"/>\n<text text-anchor=\"middle\" x=\"2518.5\" y=\"-557.8\" font-family=\"Helvetica,sans-Serif\" font-size=\"14.00\" fill=\"#000000\">총매출액 &lt;= 5614570.0</text>\n<text text-anchor=\"middle\" x=\"2518.5\" y=\"-542.8\" font-family=\"Helvetica,sans-Serif\" font-size=\"14.00\" fill=\"#000000\">squared_error = 0.561</text>\n<text text-anchor=\"middle\" x=\"2518.5\" y=\"-527.8\" font-family=\"Helvetica,sans-Serif\" font-size=\"14.00\" fill=\"#000000\">samples = 490</text>\n<text text-anchor=\"middle\" x=\"2518.5\" y=\"-512.8\" font-family=\"Helvetica,sans-Serif\" font-size=\"14.00\" fill=\"#000000\">value = 5.149</text>\n</g>\n<!-- 1 -->\n<g id=\"node2\" class=\"node\">\n<title>1</title>\n<polygon fill=\"#eeae80\" stroke=\"#000000\" points=\"2086,-469 1925,-469 1925,-401 2086,-401 2086,-469\"/>\n<text text-anchor=\"middle\" x=\"2005.5\" y=\"-453.8\" font-family=\"Helvetica,sans-Serif\" font-size=\"14.00\" fill=\"#000000\">구매카테고리수 &lt;= 4.5</text>\n<text text-anchor=\"middle\" x=\"2005.5\" y=\"-438.8\" font-family=\"Helvetica,sans-Serif\" font-size=\"14.00\" fill=\"#000000\">squared_error = 0.458</text>\n<text text-anchor=\"middle\" x=\"2005.5\" y=\"-423.8\" font-family=\"Helvetica,sans-Serif\" font-size=\"14.00\" fill=\"#000000\">samples = 317</text>\n<text text-anchor=\"middle\" x=\"2005.5\" y=\"-408.8\" font-family=\"Helvetica,sans-Serif\" font-size=\"14.00\" fill=\"#000000\">value = 5.374</text>\n</g>\n<!-- 0&#45;&gt;1 -->\n<g id=\"edge1\" class=\"edge\">\n<title>0&#45;&gt;1</title>\n<path fill=\"none\" stroke=\"#000000\" d=\"M2434.9359,-522.0591C2341.8413,-503.1861 2191.8574,-472.7801 2096.0324,-453.3535\"/>\n<polygon fill=\"#000000\" stroke=\"#000000\" points=\"2096.5633,-449.89 2086.0672,-451.3333 2095.1724,-456.7505 2096.5633,-449.89\"/>\n<text text-anchor=\"middle\" x=\"2099.8801\" y=\"-468.4709\" font-family=\"Helvetica,sans-Serif\" font-size=\"14.00\" fill=\"#000000\">True</text>\n</g>\n<!-- 32 -->\n<g id=\"node33\" class=\"node\">\n<title>32</title>\n<polygon fill=\"#f2c29e\" stroke=\"#000000\" points=\"3233,-469 3072,-469 3072,-401 3233,-401 3233,-469\"/>\n<text text-anchor=\"middle\" x=\"3152.5\" y=\"-453.8\" font-family=\"Helvetica,sans-Serif\" font-size=\"14.00\" fill=\"#000000\">구매카테고리수 &lt;= 4.5</text>\n<text text-anchor=\"middle\" x=\"3152.5\" y=\"-438.8\" font-family=\"Helvetica,sans-Serif\" font-size=\"14.00\" fill=\"#000000\">squared_error = 0.484</text>\n<text text-anchor=\"middle\" x=\"3152.5\" y=\"-423.8\" font-family=\"Helvetica,sans-Serif\" font-size=\"14.00\" fill=\"#000000\">samples = 173</text>\n<text text-anchor=\"middle\" x=\"3152.5\" y=\"-408.8\" font-family=\"Helvetica,sans-Serif\" font-size=\"14.00\" fill=\"#000000\">value = 4.735</text>\n</g>\n<!-- 0&#45;&gt;32 -->\n<g id=\"edge32\" class=\"edge\">\n<title>0&#45;&gt;32</title>\n<path fill=\"none\" stroke=\"#000000\" d=\"M2602.0364,-525.2969C2721.0835,-505.7686 2938.7038,-470.0707 3061.6462,-449.9035\"/>\n<polygon fill=\"#000000\" stroke=\"#000000\" points=\"3062.4846,-453.3128 3071.7861,-448.2401 3061.3514,-446.4051 3062.4846,-453.3128\"/>\n<text text-anchor=\"middle\" x=\"3057.2032\" y=\"-464.8462\" font-family=\"Helvetica,sans-Serif\" font-size=\"14.00\" fill=\"#000000\">False</text>\n</g>\n<!-- 2 -->\n<g id=\"node3\" class=\"node\">\n<title>2</title>\n<polygon fill=\"#eca572\" stroke=\"#000000\" points=\"1116,-365 955,-365 955,-297 1116,-297 1116,-365\"/>\n<text text-anchor=\"middle\" x=\"1035.5\" y=\"-349.8\" font-family=\"Helvetica,sans-Serif\" font-size=\"14.00\" fill=\"#000000\">구매유형 &lt;= 3.5</text>\n<text text-anchor=\"middle\" x=\"1035.5\" y=\"-334.8\" font-family=\"Helvetica,sans-Serif\" font-size=\"14.00\" fill=\"#000000\">squared_error = 0.383</text>\n<text text-anchor=\"middle\" x=\"1035.5\" y=\"-319.8\" font-family=\"Helvetica,sans-Serif\" font-size=\"14.00\" fill=\"#000000\">samples = 120</text>\n<text text-anchor=\"middle\" x=\"1035.5\" y=\"-304.8\" font-family=\"Helvetica,sans-Serif\" font-size=\"14.00\" fill=\"#000000\">value = 5.675</text>\n</g>\n<!-- 1&#45;&gt;2 -->\n<g id=\"edge2\" class=\"edge\">\n<title>1&#45;&gt;2</title>\n<path fill=\"none\" stroke=\"#000000\" d=\"M1924.8816,-426.3564C1745.5378,-407.1278 1314.5717,-360.9211 1126.1979,-340.7243\"/>\n<polygon fill=\"#000000\" stroke=\"#000000\" points=\"1126.366,-337.2224 1116.0498,-339.6363 1125.6197,-344.1825 1126.366,-337.2224\"/>\n</g>\n<!-- 17 -->\n<g id=\"node18\" class=\"node\">\n<title>17</title>\n<polygon fill=\"#efb489\" stroke=\"#000000\" points=\"2089,-365 1922,-365 1922,-297 2089,-297 2089,-365\"/>\n<text text-anchor=\"middle\" x=\"2005.5\" y=\"-349.8\" font-family=\"Helvetica,sans-Serif\" font-size=\"14.00\" fill=\"#000000\">총매출액 &lt;= 3075255.0</text>\n<text text-anchor=\"middle\" x=\"2005.5\" y=\"-334.8\" font-family=\"Helvetica,sans-Serif\" font-size=\"14.00\" fill=\"#000000\">squared_error = 0.415</text>\n<text text-anchor=\"middle\" x=\"2005.5\" y=\"-319.8\" font-family=\"Helvetica,sans-Serif\" font-size=\"14.00\" fill=\"#000000\">samples = 197</text>\n<text text-anchor=\"middle\" x=\"2005.5\" y=\"-304.8\" font-family=\"Helvetica,sans-Serif\" font-size=\"14.00\" fill=\"#000000\">value = 5.191</text>\n</g>\n<!-- 1&#45;&gt;17 -->\n<g id=\"edge17\" class=\"edge\">\n<title>1&#45;&gt;17</title>\n<path fill=\"none\" stroke=\"#000000\" d=\"M2005.5,-400.9465C2005.5,-392.776 2005.5,-383.9318 2005.5,-375.3697\"/>\n<polygon fill=\"#000000\" stroke=\"#000000\" points=\"2009.0001,-375.13 2005.5,-365.13 2002.0001,-375.13 2009.0001,-375.13\"/>\n</g>\n<!-- 3 -->\n<g id=\"node4\" class=\"node\">\n<title>3</title>\n<polygon fill=\"#eca36e\" stroke=\"#000000\" points=\"614,-261 447,-261 447,-193 614,-193 614,-261\"/>\n<text text-anchor=\"middle\" x=\"530.5\" y=\"-245.8\" font-family=\"Helvetica,sans-Serif\" font-size=\"14.00\" fill=\"#000000\">총매출액 &lt;= 2671325.0</text>\n<text text-anchor=\"middle\" x=\"530.5\" y=\"-230.8\" font-family=\"Helvetica,sans-Serif\" font-size=\"14.00\" fill=\"#000000\">squared_error = 0.317</text>\n<text text-anchor=\"middle\" x=\"530.5\" y=\"-215.8\" font-family=\"Helvetica,sans-Serif\" font-size=\"14.00\" fill=\"#000000\">samples = 97</text>\n<text text-anchor=\"middle\" x=\"530.5\" y=\"-200.8\" font-family=\"Helvetica,sans-Serif\" font-size=\"14.00\" fill=\"#000000\">value = 5.761</text>\n</g>\n<!-- 2&#45;&gt;3 -->\n<g id=\"edge3\" class=\"edge\">\n<title>2&#45;&gt;3</title>\n<path fill=\"none\" stroke=\"#000000\" d=\"M954.9228,-314.4059C864.8248,-295.851 719.1098,-265.8424 624.05,-246.2657\"/>\n<polygon fill=\"#000000\" stroke=\"#000000\" points=\"624.6532,-242.8166 614.1527,-244.2275 623.2412,-249.6727 624.6532,-242.8166\"/>\n</g>\n<!-- 10 -->\n<g id=\"node11\" class=\"node\">\n<title>10</title>\n<polygon fill=\"#efb083\" stroke=\"#000000\" points=\"1119,-261 952,-261 952,-193 1119,-193 1119,-261\"/>\n<text text-anchor=\"middle\" x=\"1035.5\" y=\"-245.8\" font-family=\"Helvetica,sans-Serif\" font-size=\"14.00\" fill=\"#000000\">총매출액 &lt;= 2216560.0</text>\n<text text-anchor=\"middle\" x=\"1035.5\" y=\"-230.8\" font-family=\"Helvetica,sans-Serif\" font-size=\"14.00\" fill=\"#000000\">squared_error = 0.501</text>\n<text text-anchor=\"middle\" x=\"1035.5\" y=\"-215.8\" font-family=\"Helvetica,sans-Serif\" font-size=\"14.00\" fill=\"#000000\">samples = 23</text>\n<text text-anchor=\"middle\" x=\"1035.5\" y=\"-200.8\" font-family=\"Helvetica,sans-Serif\" font-size=\"14.00\" fill=\"#000000\">value = 5.313</text>\n</g>\n<!-- 2&#45;&gt;10 -->\n<g id=\"edge10\" class=\"edge\">\n<title>2&#45;&gt;10</title>\n<path fill=\"none\" stroke=\"#000000\" d=\"M1035.5,-296.9465C1035.5,-288.776 1035.5,-279.9318 1035.5,-271.3697\"/>\n<polygon fill=\"#000000\" stroke=\"#000000\" points=\"1039.0001,-271.13 1035.5,-261.13 1032.0001,-271.13 1039.0001,-271.13\"/>\n</g>\n<!-- 4 -->\n<g id=\"node5\" class=\"node\">\n<title>4</title>\n<polygon fill=\"#ea9b61\" stroke=\"#000000\" points=\"343.5,-157 175.5,-157 175.5,-89 343.5,-89 343.5,-157\"/>\n<text text-anchor=\"middle\" x=\"259.5\" y=\"-141.8\" font-family=\"Helvetica,sans-Serif\" font-size=\"14.00\" fill=\"#000000\">할인권 사용 횟수 &lt;= 5.0</text>\n<text text-anchor=\"middle\" x=\"259.5\" y=\"-126.8\" font-family=\"Helvetica,sans-Serif\" font-size=\"14.00\" fill=\"#000000\">squared_error = 0.366</text>\n<text text-anchor=\"middle\" x=\"259.5\" y=\"-111.8\" font-family=\"Helvetica,sans-Serif\" font-size=\"14.00\" fill=\"#000000\">samples = 22</text>\n<text text-anchor=\"middle\" x=\"259.5\" y=\"-96.8\" font-family=\"Helvetica,sans-Serif\" font-size=\"14.00\" fill=\"#000000\">value = 6.019</text>\n</g>\n<!-- 3&#45;&gt;4 -->\n<g id=\"edge4\" class=\"edge\">\n<title>3&#45;&gt;4</title>\n<path fill=\"none\" stroke=\"#000000\" d=\"M446.9798,-194.948C417.2414,-183.5355 383.5659,-170.612 353.042,-158.898\"/>\n<polygon fill=\"#000000\" stroke=\"#000000\" points=\"354.2682,-155.6198 343.6781,-155.3045 351.7602,-162.1551 354.2682,-155.6198\"/>\n</g>\n<!-- 7 -->\n<g id=\"node8\" class=\"node\">\n<title>7</title>\n<polygon fill=\"#eca571\" stroke=\"#000000\" points=\"614,-157 447,-157 447,-89 614,-89 614,-157\"/>\n<text text-anchor=\"middle\" x=\"530.5\" y=\"-141.8\" font-family=\"Helvetica,sans-Serif\" font-size=\"14.00\" fill=\"#000000\">총매출액 &lt;= 5411935.0</text>\n<text text-anchor=\"middle\" x=\"530.5\" y=\"-126.8\" font-family=\"Helvetica,sans-Serif\" font-size=\"14.00\" fill=\"#000000\">squared_error = 0.277</text>\n<text text-anchor=\"middle\" x=\"530.5\" y=\"-111.8\" font-family=\"Helvetica,sans-Serif\" font-size=\"14.00\" fill=\"#000000\">samples = 75</text>\n<text text-anchor=\"middle\" x=\"530.5\" y=\"-96.8\" font-family=\"Helvetica,sans-Serif\" font-size=\"14.00\" fill=\"#000000\">value = 5.685</text>\n</g>\n<!-- 3&#45;&gt;7 -->\n<g id=\"edge7\" class=\"edge\">\n<title>3&#45;&gt;7</title>\n<path fill=\"none\" stroke=\"#000000\" d=\"M530.5,-192.9465C530.5,-184.776 530.5,-175.9318 530.5,-167.3697\"/>\n<polygon fill=\"#000000\" stroke=\"#000000\" points=\"534.0001,-167.13 530.5,-157.13 527.0001,-167.13 534.0001,-167.13\"/>\n</g>\n<!-- 5 -->\n<g id=\"node6\" class=\"node\">\n<title>5</title>\n<polygon fill=\"#e58139\" stroke=\"#000000\" points=\"161,-53 0,-53 0,0 161,0 161,-53\"/>\n<text text-anchor=\"middle\" x=\"80.5\" y=\"-37.8\" font-family=\"Helvetica,sans-Serif\" font-size=\"14.00\" fill=\"#000000\">squared_error = 0.216</text>\n<text text-anchor=\"middle\" x=\"80.5\" y=\"-22.8\" font-family=\"Helvetica,sans-Serif\" font-size=\"14.00\" fill=\"#000000\">samples = 2</text>\n<text text-anchor=\"middle\" x=\"80.5\" y=\"-7.8\" font-family=\"Helvetica,sans-Serif\" font-size=\"14.00\" fill=\"#000000\">value = 6.867</text>\n</g>\n<!-- 4&#45;&gt;5 -->\n<g id=\"edge5\" class=\"edge\">\n<title>4&#45;&gt;5</title>\n<path fill=\"none\" stroke=\"#000000\" d=\"M196.3913,-88.9777C177.6208,-78.8584 157.1494,-67.8222 138.7063,-57.8794\"/>\n<polygon fill=\"#000000\" stroke=\"#000000\" points=\"140.295,-54.7597 129.8317,-53.095 136.9732,-60.9213 140.295,-54.7597\"/>\n</g>\n<!-- 6 -->\n<g id=\"node7\" class=\"node\">\n<title>6</title>\n<polygon fill=\"#eb9d65\" stroke=\"#000000\" points=\"340,-53 179,-53 179,0 340,0 340,-53\"/>\n<text text-anchor=\"middle\" x=\"259.5\" y=\"-37.8\" font-family=\"Helvetica,sans-Serif\" font-size=\"14.00\" fill=\"#000000\">squared_error = 0.301</text>\n<text text-anchor=\"middle\" x=\"259.5\" y=\"-22.8\" font-family=\"Helvetica,sans-Serif\" font-size=\"14.00\" fill=\"#000000\">samples = 20</text>\n<text text-anchor=\"middle\" x=\"259.5\" y=\"-7.8\" font-family=\"Helvetica,sans-Serif\" font-size=\"14.00\" fill=\"#000000\">value = 5.934</text>\n</g>\n<!-- 4&#45;&gt;6 -->\n<g id=\"edge6\" class=\"edge\">\n<title>4&#45;&gt;6</title>\n<path fill=\"none\" stroke=\"#000000\" d=\"M259.5,-88.9777C259.5,-80.7364 259.5,-71.887 259.5,-63.5153\"/>\n<polygon fill=\"#000000\" stroke=\"#000000\" points=\"263.0001,-63.2484 259.5,-53.2485 256.0001,-63.2485 263.0001,-63.2484\"/>\n</g>\n<!-- 8 -->\n<g id=\"node9\" class=\"node\">\n<title>8</title>\n<polygon fill=\"#eda673\" stroke=\"#000000\" points=\"519,-53 358,-53 358,0 519,0 519,-53\"/>\n<text text-anchor=\"middle\" x=\"438.5\" y=\"-37.8\" font-family=\"Helvetica,sans-Serif\" font-size=\"14.00\" fill=\"#000000\">squared_error = 0.274</text>\n<text text-anchor=\"middle\" x=\"438.5\" y=\"-22.8\" font-family=\"Helvetica,sans-Serif\" font-size=\"14.00\" fill=\"#000000\">samples = 69</text>\n<text text-anchor=\"middle\" x=\"438.5\" y=\"-7.8\" font-family=\"Helvetica,sans-Serif\" font-size=\"14.00\" fill=\"#000000\">value = 5.644</text>\n</g>\n<!-- 7&#45;&gt;8 -->\n<g id=\"edge8\" class=\"edge\">\n<title>7&#45;&gt;8</title>\n<path fill=\"none\" stroke=\"#000000\" d=\"M498.0642,-88.9777C489.3343,-79.8207 479.8885,-69.9129 471.1471,-60.744\"/>\n<polygon fill=\"#000000\" stroke=\"#000000\" points=\"473.4347,-58.0712 464.0011,-53.2485 468.3682,-62.9014 473.4347,-58.0712\"/>\n</g>\n<!-- 9 -->\n<g id=\"node10\" class=\"node\">\n<title>9</title>\n<polygon fill=\"#e9975b\" stroke=\"#000000\" points=\"698,-53 537,-53 537,0 698,0 698,-53\"/>\n<text text-anchor=\"middle\" x=\"617.5\" y=\"-37.8\" font-family=\"Helvetica,sans-Serif\" font-size=\"14.00\" fill=\"#000000\">squared_error = 0.069</text>\n<text text-anchor=\"middle\" x=\"617.5\" y=\"-22.8\" font-family=\"Helvetica,sans-Serif\" font-size=\"14.00\" fill=\"#000000\">samples = 6</text>\n<text text-anchor=\"middle\" x=\"617.5\" y=\"-7.8\" font-family=\"Helvetica,sans-Serif\" font-size=\"14.00\" fill=\"#000000\">value = 6.157</text>\n</g>\n<!-- 7&#45;&gt;9 -->\n<g id=\"edge9\" class=\"edge\">\n<title>7&#45;&gt;9</title>\n<path fill=\"none\" stroke=\"#000000\" d=\"M561.1729,-88.9777C569.4285,-79.8207 578.3609,-69.9129 586.6272,-60.744\"/>\n<polygon fill=\"#000000\" stroke=\"#000000\" points=\"589.2883,-63.0193 593.3848,-53.2485 584.0892,-58.3321 589.2883,-63.0193\"/>\n</g>\n<!-- 11 -->\n<g id=\"node12\" class=\"node\">\n<title>11</title>\n<polygon fill=\"#e78b48\" stroke=\"#000000\" points=\"1029.5,-157 853.5,-157 853.5,-89 1029.5,-89 1029.5,-157\"/>\n<text text-anchor=\"middle\" x=\"941.5\" y=\"-141.8\" font-family=\"Helvetica,sans-Serif\" font-size=\"14.00\" fill=\"#000000\">할인권 사용 횟수 &lt;= 20.0</text>\n<text text-anchor=\"middle\" x=\"941.5\" y=\"-126.8\" font-family=\"Helvetica,sans-Serif\" font-size=\"14.00\" fill=\"#000000\">squared_error = 0.034</text>\n<text text-anchor=\"middle\" x=\"941.5\" y=\"-111.8\" font-family=\"Helvetica,sans-Serif\" font-size=\"14.00\" fill=\"#000000\">samples = 2</text>\n<text text-anchor=\"middle\" x=\"941.5\" y=\"-96.8\" font-family=\"Helvetica,sans-Serif\" font-size=\"14.00\" fill=\"#000000\">value = 6.553</text>\n</g>\n<!-- 10&#45;&gt;11 -->\n<g id=\"edge11\" class=\"edge\">\n<title>10&#45;&gt;11</title>\n<path fill=\"none\" stroke=\"#000000\" d=\"M1004.7209,-192.9465C996.5245,-183.8782 987.578,-173.9799 979.0625,-164.5585\"/>\n<polygon fill=\"#000000\" stroke=\"#000000\" points=\"981.6503,-162.2019 972.3483,-157.13 976.4571,-166.8957 981.6503,-162.2019\"/>\n</g>\n<!-- 14 -->\n<g id=\"node15\" class=\"node\">\n<title>14</title>\n<polygon fill=\"#efb489\" stroke=\"#000000\" points=\"1214,-157 1047,-157 1047,-89 1214,-89 1214,-157\"/>\n<text text-anchor=\"middle\" x=\"1130.5\" y=\"-141.8\" font-family=\"Helvetica,sans-Serif\" font-size=\"14.00\" fill=\"#000000\">총매출액 &lt;= 2380305.0</text>\n<text text-anchor=\"middle\" x=\"1130.5\" y=\"-126.8\" font-family=\"Helvetica,sans-Serif\" font-size=\"14.00\" fill=\"#000000\">squared_error = 0.386</text>\n<text text-anchor=\"middle\" x=\"1130.5\" y=\"-111.8\" font-family=\"Helvetica,sans-Serif\" font-size=\"14.00\" fill=\"#000000\">samples = 21</text>\n<text text-anchor=\"middle\" x=\"1130.5\" y=\"-96.8\" font-family=\"Helvetica,sans-Serif\" font-size=\"14.00\" fill=\"#000000\">value = 5.195</text>\n</g>\n<!-- 10&#45;&gt;14 -->\n<g id=\"edge14\" class=\"edge\">\n<title>10&#45;&gt;14</title>\n<path fill=\"none\" stroke=\"#000000\" d=\"M1066.6066,-192.9465C1074.8901,-183.8782 1083.9318,-173.9799 1092.5379,-164.5585\"/>\n<polygon fill=\"#000000\" stroke=\"#000000\" points=\"1095.1633,-166.8739 1099.3236,-157.13 1089.995,-162.1528 1095.1633,-166.8739\"/>\n</g>\n<!-- 12 -->\n<g id=\"node13\" class=\"node\">\n<title>12</title>\n<polygon fill=\"#e6853f\" stroke=\"#000000\" points=\"860.5,-53 716.5,-53 716.5,0 860.5,0 860.5,-53\"/>\n<text text-anchor=\"middle\" x=\"788.5\" y=\"-37.8\" font-family=\"Helvetica,sans-Serif\" font-size=\"14.00\" fill=\"#000000\">squared_error = 0.0</text>\n<text text-anchor=\"middle\" x=\"788.5\" y=\"-22.8\" font-family=\"Helvetica,sans-Serif\" font-size=\"14.00\" fill=\"#000000\">samples = 1</text>\n<text text-anchor=\"middle\" x=\"788.5\" y=\"-7.8\" font-family=\"Helvetica,sans-Serif\" font-size=\"14.00\" fill=\"#000000\">value = 6.737</text>\n</g>\n<!-- 11&#45;&gt;12 -->\n<g id=\"edge12\" class=\"edge\">\n<title>11&#45;&gt;12</title>\n<path fill=\"none\" stroke=\"#000000\" d=\"M887.5579,-88.9777C872.0233,-79.1798 855.1258,-68.5222 839.7587,-58.8298\"/>\n<polygon fill=\"#000000\" stroke=\"#000000\" points=\"841.2349,-55.6229 830.9095,-53.2485 837.5005,-61.5436 841.2349,-55.6229\"/>\n</g>\n<!-- 13 -->\n<g id=\"node14\" class=\"node\">\n<title>13</title>\n<polygon fill=\"#e89051\" stroke=\"#000000\" points=\"1028,-53 879,-53 879,0 1028,0 1028,-53\"/>\n<text text-anchor=\"middle\" x=\"953.5\" y=\"-37.8\" font-family=\"Helvetica,sans-Serif\" font-size=\"14.00\" fill=\"#000000\">squared_error = &#45;0.0</text>\n<text text-anchor=\"middle\" x=\"953.5\" y=\"-22.8\" font-family=\"Helvetica,sans-Serif\" font-size=\"14.00\" fill=\"#000000\">samples = 1</text>\n<text text-anchor=\"middle\" x=\"953.5\" y=\"-7.8\" font-family=\"Helvetica,sans-Serif\" font-size=\"14.00\" fill=\"#000000\">value = 6.368</text>\n</g>\n<!-- 11&#45;&gt;13 -->\n<g id=\"edge13\" class=\"edge\">\n<title>11&#45;&gt;13</title>\n<path fill=\"none\" stroke=\"#000000\" d=\"M945.7308,-88.9777C946.767,-80.6449 947.8805,-71.6903 948.9317,-63.2364\"/>\n<polygon fill=\"#000000\" stroke=\"#000000\" points=\"952.4129,-63.604 950.1738,-53.2485 945.4664,-62.7401 952.4129,-63.604\"/>\n</g>\n<!-- 15 -->\n<g id=\"node16\" class=\"node\">\n<title>15</title>\n<polygon fill=\"#f9e1d0\" stroke=\"#000000\" points=\"1190.5,-53 1046.5,-53 1046.5,0 1190.5,0 1190.5,-53\"/>\n<text text-anchor=\"middle\" x=\"1118.5\" y=\"-37.8\" font-family=\"Helvetica,sans-Serif\" font-size=\"14.00\" fill=\"#000000\">squared_error = 0.0</text>\n<text text-anchor=\"middle\" x=\"1118.5\" y=\"-22.8\" font-family=\"Helvetica,sans-Serif\" font-size=\"14.00\" fill=\"#000000\">samples = 1</text>\n<text text-anchor=\"middle\" x=\"1118.5\" y=\"-7.8\" font-family=\"Helvetica,sans-Serif\" font-size=\"14.00\" fill=\"#000000\">value = 3.689</text>\n</g>\n<!-- 14&#45;&gt;15 -->\n<g id=\"edge15\" class=\"edge\">\n<title>14&#45;&gt;15</title>\n<path fill=\"none\" stroke=\"#000000\" d=\"M1126.2692,-88.9777C1125.233,-80.6449 1124.1195,-71.6903 1123.0683,-63.2364\"/>\n<polygon fill=\"#000000\" stroke=\"#000000\" points=\"1126.5336,-62.7401 1121.8262,-53.2485 1119.5871,-63.604 1126.5336,-62.7401\"/>\n</g>\n<!-- 16 -->\n<g id=\"node17\" class=\"node\">\n<title>16</title>\n<polygon fill=\"#efb185\" stroke=\"#000000\" points=\"1370,-53 1209,-53 1209,0 1370,0 1370,-53\"/>\n<text text-anchor=\"middle\" x=\"1289.5\" y=\"-37.8\" font-family=\"Helvetica,sans-Serif\" font-size=\"14.00\" fill=\"#000000\">squared_error = 0.286</text>\n<text text-anchor=\"middle\" x=\"1289.5\" y=\"-22.8\" font-family=\"Helvetica,sans-Serif\" font-size=\"14.00\" fill=\"#000000\">samples = 20</text>\n<text text-anchor=\"middle\" x=\"1289.5\" y=\"-7.8\" font-family=\"Helvetica,sans-Serif\" font-size=\"14.00\" fill=\"#000000\">value = 5.271</text>\n</g>\n<!-- 14&#45;&gt;16 -->\n<g id=\"edge16\" class=\"edge\">\n<title>14&#45;&gt;16</title>\n<path fill=\"none\" stroke=\"#000000\" d=\"M1186.5575,-88.9777C1202.9276,-79.0424 1220.754,-68.2232 1236.9018,-58.4228\"/>\n<polygon fill=\"#000000\" stroke=\"#000000\" points=\"1238.9474,-61.2755 1245.6802,-53.095 1235.3155,-55.2914 1238.9474,-61.2755\"/>\n</g>\n<!-- 18 -->\n<g id=\"node19\" class=\"node\">\n<title>18</title>\n<polygon fill=\"#eeac7d\" stroke=\"#000000\" points=\"1996,-261 1835,-261 1835,-193 1996,-193 1996,-261\"/>\n<text text-anchor=\"middle\" x=\"1915.5\" y=\"-245.8\" font-family=\"Helvetica,sans-Serif\" font-size=\"14.00\" fill=\"#000000\">구매카테고리수 &lt;= 5.5</text>\n<text text-anchor=\"middle\" x=\"1915.5\" y=\"-230.8\" font-family=\"Helvetica,sans-Serif\" font-size=\"14.00\" fill=\"#000000\">squared_error = 0.417</text>\n<text text-anchor=\"middle\" x=\"1915.5\" y=\"-215.8\" font-family=\"Helvetica,sans-Serif\" font-size=\"14.00\" fill=\"#000000\">samples = 82</text>\n<text text-anchor=\"middle\" x=\"1915.5\" y=\"-200.8\" font-family=\"Helvetica,sans-Serif\" font-size=\"14.00\" fill=\"#000000\">value = 5.446</text>\n</g>\n<!-- 17&#45;&gt;18 -->\n<g id=\"edge18\" class=\"edge\">\n<title>17&#45;&gt;18</title>\n<path fill=\"none\" stroke=\"#000000\" d=\"M1976.0306,-296.9465C1968.2607,-287.968 1959.7868,-278.1758 1951.7064,-268.8385\"/>\n<polygon fill=\"#000000\" stroke=\"#000000\" points=\"1954.226,-266.4014 1945.0356,-261.13 1948.9328,-270.982 1954.226,-266.4014\"/>\n</g>\n<!-- 25 -->\n<g id=\"node26\" class=\"node\">\n<title>25</title>\n<polygon fill=\"#f1b991\" stroke=\"#000000\" points=\"2349,-261 2188,-261 2188,-193 2349,-193 2349,-261\"/>\n<text text-anchor=\"middle\" x=\"2268.5\" y=\"-245.8\" font-family=\"Helvetica,sans-Serif\" font-size=\"14.00\" fill=\"#000000\">구매카테고리수 &lt;= 8.5</text>\n<text text-anchor=\"middle\" x=\"2268.5\" y=\"-230.8\" font-family=\"Helvetica,sans-Serif\" font-size=\"14.00\" fill=\"#000000\">squared_error = 0.335</text>\n<text text-anchor=\"middle\" x=\"2268.5\" y=\"-215.8\" font-family=\"Helvetica,sans-Serif\" font-size=\"14.00\" fill=\"#000000\">samples = 115</text>\n<text text-anchor=\"middle\" x=\"2268.5\" y=\"-200.8\" font-family=\"Helvetica,sans-Serif\" font-size=\"14.00\" fill=\"#000000\">value = 5.01</text>\n</g>\n<!-- 17&#45;&gt;25 -->\n<g id=\"edge25\" class=\"edge\">\n<title>17&#45;&gt;25</title>\n<path fill=\"none\" stroke=\"#000000\" d=\"M2089.0762,-297.9509C2117.4545,-286.729 2149.2823,-274.1431 2178.1638,-262.7223\"/>\n<polygon fill=\"#000000\" stroke=\"#000000\" points=\"2179.8239,-265.8296 2187.8362,-258.8975 2177.2498,-259.3201 2179.8239,-265.8296\"/>\n</g>\n<!-- 19 -->\n<g id=\"node20\" class=\"node\">\n<title>19</title>\n<polygon fill=\"#eca36f\" stroke=\"#000000\" points=\"1728,-157 1567,-157 1567,-89 1728,-89 1728,-157\"/>\n<text text-anchor=\"middle\" x=\"1647.5\" y=\"-141.8\" font-family=\"Helvetica,sans-Serif\" font-size=\"14.00\" fill=\"#000000\">구매유형 &lt;= 2.5</text>\n<text text-anchor=\"middle\" x=\"1647.5\" y=\"-126.8\" font-family=\"Helvetica,sans-Serif\" font-size=\"14.00\" fill=\"#000000\">squared_error = 0.322</text>\n<text text-anchor=\"middle\" x=\"1647.5\" y=\"-111.8\" font-family=\"Helvetica,sans-Serif\" font-size=\"14.00\" fill=\"#000000\">samples = 29</text>\n<text text-anchor=\"middle\" x=\"1647.5\" y=\"-96.8\" font-family=\"Helvetica,sans-Serif\" font-size=\"14.00\" fill=\"#000000\">value = 5.741</text>\n</g>\n<!-- 18&#45;&gt;19 -->\n<g id=\"edge19\" class=\"edge\">\n<title>18&#45;&gt;19</title>\n<path fill=\"none\" stroke=\"#000000\" d=\"M1834.7277,-195.6555C1804.1392,-183.7854 1769.1322,-170.2005 1737.7283,-158.014\"/>\n<polygon fill=\"#000000\" stroke=\"#000000\" points=\"1738.6957,-154.6351 1728.1068,-154.2803 1736.1633,-161.161 1738.6957,-154.6351\"/>\n</g>\n<!-- 22 -->\n<g id=\"node23\" class=\"node\">\n<title>22</title>\n<polygon fill=\"#efb184\" stroke=\"#000000\" points=\"1996,-157 1835,-157 1835,-89 1996,-89 1996,-157\"/>\n<text text-anchor=\"middle\" x=\"1915.5\" y=\"-141.8\" font-family=\"Helvetica,sans-Serif\" font-size=\"14.00\" fill=\"#000000\">거주지역 &lt;= 3.5</text>\n<text text-anchor=\"middle\" x=\"1915.5\" y=\"-126.8\" font-family=\"Helvetica,sans-Serif\" font-size=\"14.00\" fill=\"#000000\">squared_error = 0.395</text>\n<text text-anchor=\"middle\" x=\"1915.5\" y=\"-111.8\" font-family=\"Helvetica,sans-Serif\" font-size=\"14.00\" fill=\"#000000\">samples = 53</text>\n<text text-anchor=\"middle\" x=\"1915.5\" y=\"-96.8\" font-family=\"Helvetica,sans-Serif\" font-size=\"14.00\" fill=\"#000000\">value = 5.284</text>\n</g>\n<!-- 18&#45;&gt;22 -->\n<g id=\"edge22\" class=\"edge\">\n<title>18&#45;&gt;22</title>\n<path fill=\"none\" stroke=\"#000000\" d=\"M1915.5,-192.9465C1915.5,-184.776 1915.5,-175.9318 1915.5,-167.3697\"/>\n<polygon fill=\"#000000\" stroke=\"#000000\" points=\"1919.0001,-167.13 1915.5,-157.13 1912.0001,-167.13 1919.0001,-167.13\"/>\n</g>\n<!-- 20 -->\n<g id=\"node21\" class=\"node\">\n<title>20</title>\n<polygon fill=\"#eead7e\" stroke=\"#000000\" points=\"1549,-53 1388,-53 1388,0 1549,0 1549,-53\"/>\n<text text-anchor=\"middle\" x=\"1468.5\" y=\"-37.8\" font-family=\"Helvetica,sans-Serif\" font-size=\"14.00\" fill=\"#000000\">squared_error = 0.262</text>\n<text text-anchor=\"middle\" x=\"1468.5\" y=\"-22.8\" font-family=\"Helvetica,sans-Serif\" font-size=\"14.00\" fill=\"#000000\">samples = 14</text>\n<text text-anchor=\"middle\" x=\"1468.5\" y=\"-7.8\" font-family=\"Helvetica,sans-Serif\" font-size=\"14.00\" fill=\"#000000\">value = 5.41</text>\n</g>\n<!-- 19&#45;&gt;20 -->\n<g id=\"edge20\" class=\"edge\">\n<title>19&#45;&gt;20</title>\n<path fill=\"none\" stroke=\"#000000\" d=\"M1584.3913,-88.9777C1565.6208,-78.8584 1545.1494,-67.8222 1526.7063,-57.8794\"/>\n<polygon fill=\"#000000\" stroke=\"#000000\" points=\"1528.295,-54.7597 1517.8317,-53.095 1524.9732,-60.9213 1528.295,-54.7597\"/>\n</g>\n<!-- 21 -->\n<g id=\"node22\" class=\"node\">\n<title>21</title>\n<polygon fill=\"#ea9a60\" stroke=\"#000000\" points=\"1728,-53 1567,-53 1567,0 1728,0 1728,-53\"/>\n<text text-anchor=\"middle\" x=\"1647.5\" y=\"-37.8\" font-family=\"Helvetica,sans-Serif\" font-size=\"14.00\" fill=\"#000000\">squared_error = 0.181</text>\n<text text-anchor=\"middle\" x=\"1647.5\" y=\"-22.8\" font-family=\"Helvetica,sans-Serif\" font-size=\"14.00\" fill=\"#000000\">samples = 15</text>\n<text text-anchor=\"middle\" x=\"1647.5\" y=\"-7.8\" font-family=\"Helvetica,sans-Serif\" font-size=\"14.00\" fill=\"#000000\">value = 6.05</text>\n</g>\n<!-- 19&#45;&gt;21 -->\n<g id=\"edge21\" class=\"edge\">\n<title>19&#45;&gt;21</title>\n<path fill=\"none\" stroke=\"#000000\" d=\"M1647.5,-88.9777C1647.5,-80.7364 1647.5,-71.887 1647.5,-63.5153\"/>\n<polygon fill=\"#000000\" stroke=\"#000000\" points=\"1651.0001,-63.2484 1647.5,-53.2485 1644.0001,-63.2485 1651.0001,-63.2484\"/>\n</g>\n<!-- 23 -->\n<g id=\"node24\" class=\"node\">\n<title>23</title>\n<polygon fill=\"#ea9b62\" stroke=\"#000000\" points=\"1907,-53 1746,-53 1746,0 1907,0 1907,-53\"/>\n<text text-anchor=\"middle\" x=\"1826.5\" y=\"-37.8\" font-family=\"Helvetica,sans-Serif\" font-size=\"14.00\" fill=\"#000000\">squared_error = 0.124</text>\n<text text-anchor=\"middle\" x=\"1826.5\" y=\"-22.8\" font-family=\"Helvetica,sans-Serif\" font-size=\"14.00\" fill=\"#000000\">samples = 5</text>\n<text text-anchor=\"middle\" x=\"1826.5\" y=\"-7.8\" font-family=\"Helvetica,sans-Serif\" font-size=\"14.00\" fill=\"#000000\">value = 5.998</text>\n</g>\n<!-- 22&#45;&gt;23 -->\n<g id=\"edge23\" class=\"edge\">\n<title>22&#45;&gt;23</title>\n<path fill=\"none\" stroke=\"#000000\" d=\"M1884.1219,-88.9777C1875.6766,-79.8207 1866.5389,-69.9129 1858.0825,-60.744\"/>\n<polygon fill=\"#000000\" stroke=\"#000000\" points=\"1860.5221,-58.2266 1851.1696,-53.2485 1855.3764,-62.9723 1860.5221,-58.2266\"/>\n</g>\n<!-- 24 -->\n<g id=\"node25\" class=\"node\">\n<title>24</title>\n<polygon fill=\"#efb388\" stroke=\"#000000\" points=\"2086,-53 1925,-53 1925,0 2086,0 2086,-53\"/>\n<text text-anchor=\"middle\" x=\"2005.5\" y=\"-37.8\" font-family=\"Helvetica,sans-Serif\" font-size=\"14.00\" fill=\"#000000\">squared_error = 0.364</text>\n<text text-anchor=\"middle\" x=\"2005.5\" y=\"-22.8\" font-family=\"Helvetica,sans-Serif\" font-size=\"14.00\" fill=\"#000000\">samples = 48</text>\n<text text-anchor=\"middle\" x=\"2005.5\" y=\"-7.8\" font-family=\"Helvetica,sans-Serif\" font-size=\"14.00\" fill=\"#000000\">value = 5.21</text>\n</g>\n<!-- 22&#45;&gt;24 -->\n<g id=\"edge24\" class=\"edge\">\n<title>22&#45;&gt;24</title>\n<path fill=\"none\" stroke=\"#000000\" d=\"M1947.2306,-88.9777C1955.7708,-79.8207 1965.0113,-69.9129 1973.5626,-60.744\"/>\n<polygon fill=\"#000000\" stroke=\"#000000\" points=\"1976.2923,-62.9488 1980.5532,-53.2485 1971.1731,-58.1744 1976.2923,-62.9488\"/>\n</g>\n<!-- 26 -->\n<g id=\"node27\" class=\"node\">\n<title>26</title>\n<polygon fill=\"#f1bd97\" stroke=\"#000000\" points=\"2349,-157 2188,-157 2188,-89 2349,-89 2349,-157\"/>\n<text text-anchor=\"middle\" x=\"2268.5\" y=\"-141.8\" font-family=\"Helvetica,sans-Serif\" font-size=\"14.00\" fill=\"#000000\">구매카테고리수 &lt;= 7.5</text>\n<text text-anchor=\"middle\" x=\"2268.5\" y=\"-126.8\" font-family=\"Helvetica,sans-Serif\" font-size=\"14.00\" fill=\"#000000\">squared_error = 0.235</text>\n<text text-anchor=\"middle\" x=\"2268.5\" y=\"-111.8\" font-family=\"Helvetica,sans-Serif\" font-size=\"14.00\" fill=\"#000000\">samples = 94</text>\n<text text-anchor=\"middle\" x=\"2268.5\" y=\"-96.8\" font-family=\"Helvetica,sans-Serif\" font-size=\"14.00\" fill=\"#000000\">value = 4.895</text>\n</g>\n<!-- 25&#45;&gt;26 -->\n<g id=\"edge26\" class=\"edge\">\n<title>25&#45;&gt;26</title>\n<path fill=\"none\" stroke=\"#000000\" d=\"M2268.5,-192.9465C2268.5,-184.776 2268.5,-175.9318 2268.5,-167.3697\"/>\n<polygon fill=\"#000000\" stroke=\"#000000\" points=\"2272.0001,-167.13 2268.5,-157.13 2265.0001,-167.13 2272.0001,-167.13\"/>\n</g>\n<!-- 29 -->\n<g id=\"node30\" class=\"node\">\n<title>29</title>\n<polygon fill=\"#edaa79\" stroke=\"#000000\" points=\"2618,-157 2451,-157 2451,-89 2618,-89 2618,-157\"/>\n<text text-anchor=\"middle\" x=\"2534.5\" y=\"-141.8\" font-family=\"Helvetica,sans-Serif\" font-size=\"14.00\" fill=\"#000000\">총매출액 &lt;= 3270625.0</text>\n<text text-anchor=\"middle\" x=\"2534.5\" y=\"-126.8\" font-family=\"Helvetica,sans-Serif\" font-size=\"14.00\" fill=\"#000000\">squared_error = 0.461</text>\n<text text-anchor=\"middle\" x=\"2534.5\" y=\"-111.8\" font-family=\"Helvetica,sans-Serif\" font-size=\"14.00\" fill=\"#000000\">samples = 21</text>\n<text text-anchor=\"middle\" x=\"2534.5\" y=\"-96.8\" font-family=\"Helvetica,sans-Serif\" font-size=\"14.00\" fill=\"#000000\">value = 5.523</text>\n</g>\n<!-- 25&#45;&gt;29 -->\n<g id=\"edge29\" class=\"edge\">\n<title>25&#45;&gt;29</title>\n<path fill=\"none\" stroke=\"#000000\" d=\"M2349.0306,-195.5143C2378.0062,-184.1856 2410.9386,-171.3097 2440.9302,-159.5837\"/>\n<polygon fill=\"#000000\" stroke=\"#000000\" points=\"2442.5166,-162.7215 2450.5556,-155.8204 2439.9677,-156.2021 2442.5166,-162.7215\"/>\n</g>\n<!-- 27 -->\n<g id=\"node28\" class=\"node\">\n<title>27</title>\n<polygon fill=\"#f1bb94\" stroke=\"#000000\" points=\"2265,-53 2104,-53 2104,0 2265,0 2265,-53\"/>\n<text text-anchor=\"middle\" x=\"2184.5\" y=\"-37.8\" font-family=\"Helvetica,sans-Serif\" font-size=\"14.00\" fill=\"#000000\">squared_error = 0.198</text>\n<text text-anchor=\"middle\" x=\"2184.5\" y=\"-22.8\" font-family=\"Helvetica,sans-Serif\" font-size=\"14.00\" fill=\"#000000\">samples = 81</text>\n<text text-anchor=\"middle\" x=\"2184.5\" y=\"-7.8\" font-family=\"Helvetica,sans-Serif\" font-size=\"14.00\" fill=\"#000000\">value = 4.948</text>\n</g>\n<!-- 26&#45;&gt;27 -->\n<g id=\"edge27\" class=\"edge\">\n<title>26&#45;&gt;27</title>\n<path fill=\"none\" stroke=\"#000000\" d=\"M2238.8847,-88.9777C2230.9936,-79.9123 2222.4619,-70.111 2214.5478,-61.0192\"/>\n<polygon fill=\"#000000\" stroke=\"#000000\" points=\"2216.9893,-58.4932 2207.7836,-53.2485 2211.7094,-63.0892 2216.9893,-58.4932\"/>\n</g>\n<!-- 28 -->\n<g id=\"node29\" class=\"node\">\n<title>28</title>\n<polygon fill=\"#f3c7a7\" stroke=\"#000000\" points=\"2444,-53 2283,-53 2283,0 2444,0 2444,-53\"/>\n<text text-anchor=\"middle\" x=\"2363.5\" y=\"-37.8\" font-family=\"Helvetica,sans-Serif\" font-size=\"14.00\" fill=\"#000000\">squared_error = 0.342</text>\n<text text-anchor=\"middle\" x=\"2363.5\" y=\"-22.8\" font-family=\"Helvetica,sans-Serif\" font-size=\"14.00\" fill=\"#000000\">samples = 13</text>\n<text text-anchor=\"middle\" x=\"2363.5\" y=\"-7.8\" font-family=\"Helvetica,sans-Serif\" font-size=\"14.00\" fill=\"#000000\">value = 4.565</text>\n</g>\n<!-- 26&#45;&gt;28 -->\n<g id=\"edge28\" class=\"edge\">\n<title>26&#45;&gt;28</title>\n<path fill=\"none\" stroke=\"#000000\" d=\"M2301.9934,-88.9777C2311.0982,-79.7292 2320.957,-69.7147 2330.0589,-60.4691\"/>\n<polygon fill=\"#000000\" stroke=\"#000000\" points=\"2332.646,-62.8302 2337.1673,-53.2485 2327.6576,-57.9193 2332.646,-62.8302\"/>\n</g>\n<!-- 30 -->\n<g id=\"node31\" class=\"node\">\n<title>30</title>\n<polygon fill=\"#fcf0e7\" stroke=\"#000000\" points=\"2606.5,-53 2462.5,-53 2462.5,0 2606.5,0 2606.5,-53\"/>\n<text text-anchor=\"middle\" x=\"2534.5\" y=\"-37.8\" font-family=\"Helvetica,sans-Serif\" font-size=\"14.00\" fill=\"#000000\">squared_error = 0.0</text>\n<text text-anchor=\"middle\" x=\"2534.5\" y=\"-22.8\" font-family=\"Helvetica,sans-Serif\" font-size=\"14.00\" fill=\"#000000\">samples = 1</text>\n<text text-anchor=\"middle\" x=\"2534.5\" y=\"-7.8\" font-family=\"Helvetica,sans-Serif\" font-size=\"14.00\" fill=\"#000000\">value = 3.205</text>\n</g>\n<!-- 29&#45;&gt;30 -->\n<g id=\"edge30\" class=\"edge\">\n<title>29&#45;&gt;30</title>\n<path fill=\"none\" stroke=\"#000000\" d=\"M2534.5,-88.9777C2534.5,-80.7364 2534.5,-71.887 2534.5,-63.5153\"/>\n<polygon fill=\"#000000\" stroke=\"#000000\" points=\"2538.0001,-63.2484 2534.5,-53.2485 2531.0001,-63.2485 2538.0001,-63.2484\"/>\n</g>\n<!-- 31 -->\n<g id=\"node32\" class=\"node\">\n<title>31</title>\n<polygon fill=\"#eda673\" stroke=\"#000000\" points=\"2786,-53 2625,-53 2625,0 2786,0 2786,-53\"/>\n<text text-anchor=\"middle\" x=\"2705.5\" y=\"-37.8\" font-family=\"Helvetica,sans-Serif\" font-size=\"14.00\" fill=\"#000000\">squared_error = 0.201</text>\n<text text-anchor=\"middle\" x=\"2705.5\" y=\"-22.8\" font-family=\"Helvetica,sans-Serif\" font-size=\"14.00\" fill=\"#000000\">samples = 20</text>\n<text text-anchor=\"middle\" x=\"2705.5\" y=\"-7.8\" font-family=\"Helvetica,sans-Serif\" font-size=\"14.00\" fill=\"#000000\">value = 5.639</text>\n</g>\n<!-- 29&#45;&gt;31 -->\n<g id=\"edge31\" class=\"edge\">\n<title>29&#45;&gt;31</title>\n<path fill=\"none\" stroke=\"#000000\" d=\"M2594.7882,-88.9777C2612.5568,-78.9504 2631.9208,-68.0228 2649.4141,-58.1508\"/>\n<polygon fill=\"#000000\" stroke=\"#000000\" points=\"2651.3843,-61.0579 2658.3731,-53.095 2647.9439,-54.9616 2651.3843,-61.0579\"/>\n</g>\n<!-- 33 -->\n<g id=\"node34\" class=\"node\">\n<title>33</title>\n<polygon fill=\"#efb083\" stroke=\"#000000\" points=\"3240.5,-365 3064.5,-365 3064.5,-297 3240.5,-297 3240.5,-365\"/>\n<text text-anchor=\"middle\" x=\"3152.5\" y=\"-349.8\" font-family=\"Helvetica,sans-Serif\" font-size=\"14.00\" fill=\"#000000\">총매출액 &lt;= 16679880.0</text>\n<text text-anchor=\"middle\" x=\"3152.5\" y=\"-334.8\" font-family=\"Helvetica,sans-Serif\" font-size=\"14.00\" fill=\"#000000\">squared_error = 0.391</text>\n<text text-anchor=\"middle\" x=\"3152.5\" y=\"-319.8\" font-family=\"Helvetica,sans-Serif\" font-size=\"14.00\" fill=\"#000000\">samples = 37</text>\n<text text-anchor=\"middle\" x=\"3152.5\" y=\"-304.8\" font-family=\"Helvetica,sans-Serif\" font-size=\"14.00\" fill=\"#000000\">value = 5.311</text>\n</g>\n<!-- 32&#45;&gt;33 -->\n<g id=\"edge33\" class=\"edge\">\n<title>32&#45;&gt;33</title>\n<path fill=\"none\" stroke=\"#000000\" d=\"M3152.5,-400.9465C3152.5,-392.776 3152.5,-383.9318 3152.5,-375.3697\"/>\n<polygon fill=\"#000000\" stroke=\"#000000\" points=\"3156.0001,-375.13 3152.5,-365.13 3149.0001,-375.13 3156.0001,-375.13\"/>\n</g>\n<!-- 46 -->\n<g id=\"node47\" class=\"node\">\n<title>46</title>\n<polygon fill=\"#f3c6a6\" stroke=\"#000000\" points=\"4202,-365 4041,-365 4041,-297 4202,-297 4202,-365\"/>\n<text text-anchor=\"middle\" x=\"4121.5\" y=\"-349.8\" font-family=\"Helvetica,sans-Serif\" font-size=\"14.00\" fill=\"#000000\">거주지역 &lt;= 3.5</text>\n<text text-anchor=\"middle\" x=\"4121.5\" y=\"-334.8\" font-family=\"Helvetica,sans-Serif\" font-size=\"14.00\" fill=\"#000000\">squared_error = 0.395</text>\n<text text-anchor=\"middle\" x=\"4121.5\" y=\"-319.8\" font-family=\"Helvetica,sans-Serif\" font-size=\"14.00\" fill=\"#000000\">samples = 136</text>\n<text text-anchor=\"middle\" x=\"4121.5\" y=\"-304.8\" font-family=\"Helvetica,sans-Serif\" font-size=\"14.00\" fill=\"#000000\">value = 4.579</text>\n</g>\n<!-- 32&#45;&gt;46 -->\n<g id=\"edge46\" class=\"edge\">\n<title>32&#45;&gt;46</title>\n<path fill=\"none\" stroke=\"#000000\" d=\"M3233.0353,-426.3564C3412.0827,-407.1397 3842.1803,-360.9786 4030.544,-340.762\"/>\n<polygon fill=\"#000000\" stroke=\"#000000\" points=\"4031.1231,-344.2201 4040.6924,-339.6728 4030.376,-337.2601 4031.1231,-344.2201\"/>\n</g>\n<!-- 34 -->\n<g id=\"node35\" class=\"node\">\n<title>34</title>\n<polygon fill=\"#eead7e\" stroke=\"#000000\" points=\"3146,-261 2973,-261 2973,-193 3146,-193 3146,-261\"/>\n<text text-anchor=\"middle\" x=\"3059.5\" y=\"-245.8\" font-family=\"Helvetica,sans-Serif\" font-size=\"14.00\" fill=\"#000000\">총 할인 금액 &lt;= 26145.0</text>\n<text text-anchor=\"middle\" x=\"3059.5\" y=\"-230.8\" font-family=\"Helvetica,sans-Serif\" font-size=\"14.00\" fill=\"#000000\">squared_error = 0.31</text>\n<text text-anchor=\"middle\" x=\"3059.5\" y=\"-215.8\" font-family=\"Helvetica,sans-Serif\" font-size=\"14.00\" fill=\"#000000\">samples = 33</text>\n<text text-anchor=\"middle\" x=\"3059.5\" y=\"-200.8\" font-family=\"Helvetica,sans-Serif\" font-size=\"14.00\" fill=\"#000000\">value = 5.423</text>\n</g>\n<!-- 33&#45;&gt;34 -->\n<g id=\"edge34\" class=\"edge\">\n<title>33&#45;&gt;34</title>\n<path fill=\"none\" stroke=\"#000000\" d=\"M3122.0483,-296.9465C3114.0194,-287.968 3105.263,-278.1758 3096.9133,-268.8385\"/>\n<polygon fill=\"#000000\" stroke=\"#000000\" points=\"3099.295,-266.2512 3090.0201,-261.13 3094.077,-270.9174 3099.295,-266.2512\"/>\n</g>\n<!-- 39 -->\n<g id=\"node40\" class=\"node\">\n<title>39</title>\n<polygon fill=\"#f4ccaf\" stroke=\"#000000\" points=\"3392,-261 3231,-261 3231,-193 3392,-193 3392,-261\"/>\n<text text-anchor=\"middle\" x=\"3311.5\" y=\"-245.8\" font-family=\"Helvetica,sans-Serif\" font-size=\"14.00\" fill=\"#000000\">구매카테고리수 &lt;= 2.5</text>\n<text text-anchor=\"middle\" x=\"3311.5\" y=\"-230.8\" font-family=\"Helvetica,sans-Serif\" font-size=\"14.00\" fill=\"#000000\">squared_error = 0.103</text>\n<text text-anchor=\"middle\" x=\"3311.5\" y=\"-215.8\" font-family=\"Helvetica,sans-Serif\" font-size=\"14.00\" fill=\"#000000\">samples = 4</text>\n<text text-anchor=\"middle\" x=\"3311.5\" y=\"-200.8\" font-family=\"Helvetica,sans-Serif\" font-size=\"14.00\" fill=\"#000000\">value = 4.388</text>\n</g>\n<!-- 33&#45;&gt;39 -->\n<g id=\"edge39\" class=\"edge\">\n<title>33&#45;&gt;39</title>\n<path fill=\"none\" stroke=\"#000000\" d=\"M3204.5625,-296.9465C3219.3875,-287.2497 3235.6633,-276.6039 3250.9471,-266.6069\"/>\n<polygon fill=\"#000000\" stroke=\"#000000\" points=\"3252.8676,-269.533 3259.3205,-261.13 3249.0358,-263.6749 3252.8676,-269.533\"/>\n</g>\n<!-- 35 -->\n<g id=\"node36\" class=\"node\">\n<title>35</title>\n<polygon fill=\"#f7d9c3\" stroke=\"#000000\" points=\"2957.5,-149.5 2813.5,-149.5 2813.5,-96.5 2957.5,-96.5 2957.5,-149.5\"/>\n<text text-anchor=\"middle\" x=\"2885.5\" y=\"-134.3\" font-family=\"Helvetica,sans-Serif\" font-size=\"14.00\" fill=\"#000000\">squared_error = 0.0</text>\n<text text-anchor=\"middle\" x=\"2885.5\" y=\"-119.3\" font-family=\"Helvetica,sans-Serif\" font-size=\"14.00\" fill=\"#000000\">samples = 1</text>\n<text text-anchor=\"middle\" x=\"2885.5\" y=\"-104.3\" font-family=\"Helvetica,sans-Serif\" font-size=\"14.00\" fill=\"#000000\">value = 3.963</text>\n</g>\n<!-- 34&#45;&gt;35 -->\n<g id=\"edge35\" class=\"edge\">\n<title>34&#45;&gt;35</title>\n<path fill=\"none\" stroke=\"#000000\" d=\"M3002.5259,-192.9465C2981.9778,-180.6649 2958.8827,-166.8609 2938.6723,-154.7811\"/>\n<polygon fill=\"#000000\" stroke=\"#000000\" points=\"2940.2864,-151.6684 2929.9071,-149.5422 2936.695,-157.6769 2940.2864,-151.6684\"/>\n</g>\n<!-- 36 -->\n<g id=\"node37\" class=\"node\">\n<title>36</title>\n<polygon fill=\"#eeab7c\" stroke=\"#000000\" points=\"3143,-157 2976,-157 2976,-89 3143,-89 3143,-157\"/>\n<text text-anchor=\"middle\" x=\"3059.5\" y=\"-141.8\" font-family=\"Helvetica,sans-Serif\" font-size=\"14.00\" fill=\"#000000\">총매출액 &lt;= 6111720.0</text>\n<text text-anchor=\"middle\" x=\"3059.5\" y=\"-126.8\" font-family=\"Helvetica,sans-Serif\" font-size=\"14.00\" fill=\"#000000\">squared_error = 0.251</text>\n<text text-anchor=\"middle\" x=\"3059.5\" y=\"-111.8\" font-family=\"Helvetica,sans-Serif\" font-size=\"14.00\" fill=\"#000000\">samples = 32</text>\n<text text-anchor=\"middle\" x=\"3059.5\" y=\"-96.8\" font-family=\"Helvetica,sans-Serif\" font-size=\"14.00\" fill=\"#000000\">value = 5.469</text>\n</g>\n<!-- 34&#45;&gt;36 -->\n<g id=\"edge36\" class=\"edge\">\n<title>34&#45;&gt;36</title>\n<path fill=\"none\" stroke=\"#000000\" d=\"M3059.5,-192.9465C3059.5,-184.776 3059.5,-175.9318 3059.5,-167.3697\"/>\n<polygon fill=\"#000000\" stroke=\"#000000\" points=\"3063.0001,-167.13 3059.5,-157.13 3056.0001,-167.13 3063.0001,-167.13\"/>\n</g>\n<!-- 37 -->\n<g id=\"node38\" class=\"node\">\n<title>37</title>\n<polygon fill=\"#f1bc95\" stroke=\"#000000\" points=\"2965,-53 2804,-53 2804,0 2965,0 2965,-53\"/>\n<text text-anchor=\"middle\" x=\"2884.5\" y=\"-37.8\" font-family=\"Helvetica,sans-Serif\" font-size=\"14.00\" fill=\"#000000\">squared_error = 0.032</text>\n<text text-anchor=\"middle\" x=\"2884.5\" y=\"-22.8\" font-family=\"Helvetica,sans-Serif\" font-size=\"14.00\" fill=\"#000000\">samples = 3</text>\n<text text-anchor=\"middle\" x=\"2884.5\" y=\"-7.8\" font-family=\"Helvetica,sans-Serif\" font-size=\"14.00\" fill=\"#000000\">value = 4.926</text>\n</g>\n<!-- 36&#45;&gt;37 -->\n<g id=\"edge37\" class=\"edge\">\n<title>36&#45;&gt;37</title>\n<path fill=\"none\" stroke=\"#000000\" d=\"M2997.8015,-88.9777C2979.6173,-78.9504 2959.8003,-68.0228 2941.8979,-58.1508\"/>\n<polygon fill=\"#000000\" stroke=\"#000000\" points=\"2943.1763,-54.859 2932.7293,-53.095 2939.7961,-60.9888 2943.1763,-54.859\"/>\n</g>\n<!-- 38 -->\n<g id=\"node39\" class=\"node\">\n<title>38</title>\n<polygon fill=\"#edaa79\" stroke=\"#000000\" points=\"3135.5,-53 2983.5,-53 2983.5,0 3135.5,0 3135.5,-53\"/>\n<text text-anchor=\"middle\" x=\"3059.5\" y=\"-37.8\" font-family=\"Helvetica,sans-Serif\" font-size=\"14.00\" fill=\"#000000\">squared_error = 0.24</text>\n<text text-anchor=\"middle\" x=\"3059.5\" y=\"-22.8\" font-family=\"Helvetica,sans-Serif\" font-size=\"14.00\" fill=\"#000000\">samples = 29</text>\n<text text-anchor=\"middle\" x=\"3059.5\" y=\"-7.8\" font-family=\"Helvetica,sans-Serif\" font-size=\"14.00\" fill=\"#000000\">value = 5.525</text>\n</g>\n<!-- 36&#45;&gt;38 -->\n<g id=\"edge38\" class=\"edge\">\n<title>36&#45;&gt;38</title>\n<path fill=\"none\" stroke=\"#000000\" d=\"M3059.5,-88.9777C3059.5,-80.7364 3059.5,-71.887 3059.5,-63.5153\"/>\n<polygon fill=\"#000000\" stroke=\"#000000\" points=\"3063.0001,-63.2484 3059.5,-53.2485 3056.0001,-63.2485 3063.0001,-63.2484\"/>\n</g>\n<!-- 40 -->\n<g id=\"node41\" class=\"node\">\n<title>40</title>\n<polygon fill=\"#f6d5be\" stroke=\"#000000\" points=\"3383.5,-157 3239.5,-157 3239.5,-89 3383.5,-89 3383.5,-157\"/>\n<text text-anchor=\"middle\" x=\"3311.5\" y=\"-141.8\" font-family=\"Helvetica,sans-Serif\" font-size=\"14.00\" fill=\"#000000\">거주지역 &lt;= 5.0</text>\n<text text-anchor=\"middle\" x=\"3311.5\" y=\"-126.8\" font-family=\"Helvetica,sans-Serif\" font-size=\"14.00\" fill=\"#000000\">squared_error = 0.0</text>\n<text text-anchor=\"middle\" x=\"3311.5\" y=\"-111.8\" font-family=\"Helvetica,sans-Serif\" font-size=\"14.00\" fill=\"#000000\">samples = 2</text>\n<text text-anchor=\"middle\" x=\"3311.5\" y=\"-96.8\" font-family=\"Helvetica,sans-Serif\" font-size=\"14.00\" fill=\"#000000\">value = 4.079</text>\n</g>\n<!-- 39&#45;&gt;40 -->\n<g id=\"edge40\" class=\"edge\">\n<title>39&#45;&gt;40</title>\n<path fill=\"none\" stroke=\"#000000\" d=\"M3311.5,-192.9465C3311.5,-184.776 3311.5,-175.9318 3311.5,-167.3697\"/>\n<polygon fill=\"#000000\" stroke=\"#000000\" points=\"3315.0001,-167.13 3311.5,-157.13 3308.0001,-167.13 3315.0001,-167.13\"/>\n</g>\n<!-- 43 -->\n<g id=\"node44\" class=\"node\">\n<title>43</title>\n<polygon fill=\"#f3c3a0\" stroke=\"#000000\" points=\"3630,-157 3469,-157 3469,-89 3630,-89 3630,-157\"/>\n<text text-anchor=\"middle\" x=\"3549.5\" y=\"-141.8\" font-family=\"Helvetica,sans-Serif\" font-size=\"14.00\" fill=\"#000000\">거주지역 &lt;= 5.5</text>\n<text text-anchor=\"middle\" x=\"3549.5\" y=\"-126.8\" font-family=\"Helvetica,sans-Serif\" font-size=\"14.00\" fill=\"#000000\">squared_error = 0.014</text>\n<text text-anchor=\"middle\" x=\"3549.5\" y=\"-111.8\" font-family=\"Helvetica,sans-Serif\" font-size=\"14.00\" fill=\"#000000\">samples = 2</text>\n<text text-anchor=\"middle\" x=\"3549.5\" y=\"-96.8\" font-family=\"Helvetica,sans-Serif\" font-size=\"14.00\" fill=\"#000000\">value = 4.698</text>\n</g>\n<!-- 39&#45;&gt;43 -->\n<g id=\"edge43\" class=\"edge\">\n<title>39&#45;&gt;43</title>\n<path fill=\"none\" stroke=\"#000000\" d=\"M3389.4301,-192.9465C3412.6482,-182.8008 3438.2439,-171.6161 3462.0286,-161.2228\"/>\n<polygon fill=\"#000000\" stroke=\"#000000\" points=\"3463.6329,-164.3414 3471.3948,-157.13 3460.83,-157.927 3463.6329,-164.3414\"/>\n</g>\n<!-- 41 -->\n<g id=\"node42\" class=\"node\">\n<title>41</title>\n<polygon fill=\"#f7d6bf\" stroke=\"#000000\" points=\"3297.5,-53 3153.5,-53 3153.5,0 3297.5,0 3297.5,-53\"/>\n<text text-anchor=\"middle\" x=\"3225.5\" y=\"-37.8\" font-family=\"Helvetica,sans-Serif\" font-size=\"14.00\" fill=\"#000000\">squared_error = 0.0</text>\n<text text-anchor=\"middle\" x=\"3225.5\" y=\"-22.8\" font-family=\"Helvetica,sans-Serif\" font-size=\"14.00\" fill=\"#000000\">samples = 1</text>\n<text text-anchor=\"middle\" x=\"3225.5\" y=\"-7.8\" font-family=\"Helvetica,sans-Serif\" font-size=\"14.00\" fill=\"#000000\">value = 4.06</text>\n</g>\n<!-- 40&#45;&gt;41 -->\n<g id=\"edge41\" class=\"edge\">\n<title>40&#45;&gt;41</title>\n<path fill=\"none\" stroke=\"#000000\" d=\"M3281.1796,-88.9777C3273.019,-79.8207 3264.1892,-69.9129 3256.0179,-60.744\"/>\n<polygon fill=\"#000000\" stroke=\"#000000\" points=\"3258.6042,-58.3854 3249.338,-53.2485 3253.3783,-63.0427 3258.6042,-58.3854\"/>\n</g>\n<!-- 42 -->\n<g id=\"node43\" class=\"node\">\n<title>42</title>\n<polygon fill=\"#f6d5bd\" stroke=\"#000000\" points=\"3459.5,-53 3315.5,-53 3315.5,0 3459.5,0 3459.5,-53\"/>\n<text text-anchor=\"middle\" x=\"3387.5\" y=\"-37.8\" font-family=\"Helvetica,sans-Serif\" font-size=\"14.00\" fill=\"#000000\">squared_error = 0.0</text>\n<text text-anchor=\"middle\" x=\"3387.5\" y=\"-22.8\" font-family=\"Helvetica,sans-Serif\" font-size=\"14.00\" fill=\"#000000\">samples = 1</text>\n<text text-anchor=\"middle\" x=\"3387.5\" y=\"-7.8\" font-family=\"Helvetica,sans-Serif\" font-size=\"14.00\" fill=\"#000000\">value = 4.098</text>\n</g>\n<!-- 40&#45;&gt;42 -->\n<g id=\"edge42\" class=\"edge\">\n<title>40&#45;&gt;42</title>\n<path fill=\"none\" stroke=\"#000000\" d=\"M3338.2948,-88.9777C3345.3622,-80.0039 3352.9976,-70.3089 3360.0967,-61.295\"/>\n<polygon fill=\"#000000\" stroke=\"#000000\" points=\"3362.9963,-63.2701 3366.4338,-53.2485 3357.497,-58.9391 3362.9963,-63.2701\"/>\n</g>\n<!-- 44 -->\n<g id=\"node45\" class=\"node\">\n<title>44</title>\n<polygon fill=\"#f3c6a6\" stroke=\"#000000\" points=\"3621.5,-53 3477.5,-53 3477.5,0 3621.5,0 3621.5,-53\"/>\n<text text-anchor=\"middle\" x=\"3549.5\" y=\"-37.8\" font-family=\"Helvetica,sans-Serif\" font-size=\"14.00\" fill=\"#000000\">squared_error = 0.0</text>\n<text text-anchor=\"middle\" x=\"3549.5\" y=\"-22.8\" font-family=\"Helvetica,sans-Serif\" font-size=\"14.00\" fill=\"#000000\">samples = 1</text>\n<text text-anchor=\"middle\" x=\"3549.5\" y=\"-7.8\" font-family=\"Helvetica,sans-Serif\" font-size=\"14.00\" fill=\"#000000\">value = 4.577</text>\n</g>\n<!-- 43&#45;&gt;44 -->\n<g id=\"edge44\" class=\"edge\">\n<title>43&#45;&gt;44</title>\n<path fill=\"none\" stroke=\"#000000\" d=\"M3549.5,-88.9777C3549.5,-80.7364 3549.5,-71.887 3549.5,-63.5153\"/>\n<polygon fill=\"#000000\" stroke=\"#000000\" points=\"3553.0001,-63.2484 3549.5,-53.2485 3546.0001,-63.2485 3553.0001,-63.2484\"/>\n</g>\n<!-- 45 -->\n<g id=\"node46\" class=\"node\">\n<title>45</title>\n<polygon fill=\"#f2bf9b\" stroke=\"#000000\" points=\"3783.5,-53 3639.5,-53 3639.5,0 3783.5,0 3783.5,-53\"/>\n<text text-anchor=\"middle\" x=\"3711.5\" y=\"-37.8\" font-family=\"Helvetica,sans-Serif\" font-size=\"14.00\" fill=\"#000000\">squared_error = 0.0</text>\n<text text-anchor=\"middle\" x=\"3711.5\" y=\"-22.8\" font-family=\"Helvetica,sans-Serif\" font-size=\"14.00\" fill=\"#000000\">samples = 1</text>\n<text text-anchor=\"middle\" x=\"3711.5\" y=\"-7.8\" font-family=\"Helvetica,sans-Serif\" font-size=\"14.00\" fill=\"#000000\">value = 4.818</text>\n</g>\n<!-- 43&#45;&gt;45 -->\n<g id=\"edge45\" class=\"edge\">\n<title>43&#45;&gt;45</title>\n<path fill=\"none\" stroke=\"#000000\" d=\"M3606.6151,-88.9777C3623.2941,-79.0424 3641.4569,-68.2232 3657.9094,-58.4228\"/>\n<polygon fill=\"#000000\" stroke=\"#000000\" points=\"3660.0533,-61.2197 3666.8534,-53.095 3656.471,-55.2058 3660.0533,-61.2197\"/>\n</g>\n<!-- 47 -->\n<g id=\"node48\" class=\"node\">\n<title>47</title>\n<polygon fill=\"#f7d7c1\" stroke=\"#000000\" points=\"4205,-261 4038,-261 4038,-193 4205,-193 4205,-261\"/>\n<text text-anchor=\"middle\" x=\"4121.5\" y=\"-245.8\" font-family=\"Helvetica,sans-Serif\" font-size=\"14.00\" fill=\"#000000\">총매출액 &lt;= 6267285.0</text>\n<text text-anchor=\"middle\" x=\"4121.5\" y=\"-230.8\" font-family=\"Helvetica,sans-Serif\" font-size=\"14.00\" fill=\"#000000\">squared_error = 0.623</text>\n<text text-anchor=\"middle\" x=\"4121.5\" y=\"-215.8\" font-family=\"Helvetica,sans-Serif\" font-size=\"14.00\" fill=\"#000000\">samples = 12</text>\n<text text-anchor=\"middle\" x=\"4121.5\" y=\"-200.8\" font-family=\"Helvetica,sans-Serif\" font-size=\"14.00\" fill=\"#000000\">value = 4.012</text>\n</g>\n<!-- 46&#45;&gt;47 -->\n<g id=\"edge47\" class=\"edge\">\n<title>46&#45;&gt;47</title>\n<path fill=\"none\" stroke=\"#000000\" d=\"M4121.5,-296.9465C4121.5,-288.776 4121.5,-279.9318 4121.5,-271.3697\"/>\n<polygon fill=\"#000000\" stroke=\"#000000\" points=\"4125.0001,-271.13 4121.5,-261.13 4118.0001,-271.13 4125.0001,-271.13\"/>\n</g>\n<!-- 54 -->\n<g id=\"node55\" class=\"node\">\n<title>54</title>\n<polygon fill=\"#f3c5a3\" stroke=\"#000000\" points=\"4703,-261 4536,-261 4536,-193 4703,-193 4703,-261\"/>\n<text text-anchor=\"middle\" x=\"4619.5\" y=\"-245.8\" font-family=\"Helvetica,sans-Serif\" font-size=\"14.00\" fill=\"#000000\">총매출액 &lt;= 6730825.0</text>\n<text text-anchor=\"middle\" x=\"4619.5\" y=\"-230.8\" font-family=\"Helvetica,sans-Serif\" font-size=\"14.00\" fill=\"#000000\">squared_error = 0.339</text>\n<text text-anchor=\"middle\" x=\"4619.5\" y=\"-215.8\" font-family=\"Helvetica,sans-Serif\" font-size=\"14.00\" fill=\"#000000\">samples = 124</text>\n<text text-anchor=\"middle\" x=\"4619.5\" y=\"-200.8\" font-family=\"Helvetica,sans-Serif\" font-size=\"14.00\" fill=\"#000000\">value = 4.634</text>\n</g>\n<!-- 46&#45;&gt;54 -->\n<g id=\"edge54\" class=\"edge\">\n<title>46&#45;&gt;54</title>\n<path fill=\"none\" stroke=\"#000000\" d=\"M4202.0658,-314.175C4290.5122,-295.7043 4432.3345,-266.0868 4525.7141,-246.5858\"/>\n<polygon fill=\"#000000\" stroke=\"#000000\" points=\"4526.6504,-249.9659 4535.7237,-244.4955 4525.2194,-243.1137 4526.6504,-249.9659\"/>\n</g>\n<!-- 48 -->\n<g id=\"node49\" class=\"node\">\n<title>48</title>\n<polygon fill=\"#fffdfb\" stroke=\"#000000\" points=\"4108,-157 3947,-157 3947,-89 4108,-89 4108,-157\"/>\n<text text-anchor=\"middle\" x=\"4027.5\" y=\"-141.8\" font-family=\"Helvetica,sans-Serif\" font-size=\"14.00\" fill=\"#000000\">성별 &lt;= 0.5</text>\n<text text-anchor=\"middle\" x=\"4027.5\" y=\"-126.8\" font-family=\"Helvetica,sans-Serif\" font-size=\"14.00\" fill=\"#000000\">squared_error = 0.006</text>\n<text text-anchor=\"middle\" x=\"4027.5\" y=\"-111.8\" font-family=\"Helvetica,sans-Serif\" font-size=\"14.00\" fill=\"#000000\">samples = 2</text>\n<text text-anchor=\"middle\" x=\"4027.5\" y=\"-96.8\" font-family=\"Helvetica,sans-Serif\" font-size=\"14.00\" fill=\"#000000\">value = 2.786</text>\n</g>\n<!-- 47&#45;&gt;48 -->\n<g id=\"edge48\" class=\"edge\">\n<title>47&#45;&gt;48</title>\n<path fill=\"none\" stroke=\"#000000\" d=\"M4090.7209,-192.9465C4082.5245,-183.8782 4073.578,-173.9799 4065.0625,-164.5585\"/>\n<polygon fill=\"#000000\" stroke=\"#000000\" points=\"4067.6503,-162.2019 4058.3483,-157.13 4062.4571,-166.8957 4067.6503,-162.2019\"/>\n</g>\n<!-- 51 -->\n<g id=\"node52\" class=\"node\">\n<title>51</title>\n<polygon fill=\"#f5d0b5\" stroke=\"#000000\" points=\"4302.5,-157 4126.5,-157 4126.5,-89 4302.5,-89 4302.5,-157\"/>\n<text text-anchor=\"middle\" x=\"4214.5\" y=\"-141.8\" font-family=\"Helvetica,sans-Serif\" font-size=\"14.00\" fill=\"#000000\">할인권 사용 횟수 &lt;= 21.0</text>\n<text text-anchor=\"middle\" x=\"4214.5\" y=\"-126.8\" font-family=\"Helvetica,sans-Serif\" font-size=\"14.00\" fill=\"#000000\">squared_error = 0.385</text>\n<text text-anchor=\"middle\" x=\"4214.5\" y=\"-111.8\" font-family=\"Helvetica,sans-Serif\" font-size=\"14.00\" fill=\"#000000\">samples = 10</text>\n<text text-anchor=\"middle\" x=\"4214.5\" y=\"-96.8\" font-family=\"Helvetica,sans-Serif\" font-size=\"14.00\" fill=\"#000000\">value = 4.257</text>\n</g>\n<!-- 47&#45;&gt;51 -->\n<g id=\"edge51\" class=\"edge\">\n<title>47&#45;&gt;51</title>\n<path fill=\"none\" stroke=\"#000000\" d=\"M4151.9517,-192.9465C4159.9806,-183.968 4168.737,-174.1758 4177.0867,-164.8385\"/>\n<polygon fill=\"#000000\" stroke=\"#000000\" points=\"4179.923,-166.9174 4183.9799,-157.13 4174.705,-162.2512 4179.923,-166.9174\"/>\n</g>\n<!-- 49 -->\n<g id=\"node50\" class=\"node\">\n<title>49</title>\n<polygon fill=\"#ffffff\" stroke=\"#000000\" points=\"3945.5,-53 3801.5,-53 3801.5,0 3945.5,0 3945.5,-53\"/>\n<text text-anchor=\"middle\" x=\"3873.5\" y=\"-37.8\" font-family=\"Helvetica,sans-Serif\" font-size=\"14.00\" fill=\"#000000\">squared_error = 0.0</text>\n<text text-anchor=\"middle\" x=\"3873.5\" y=\"-22.8\" font-family=\"Helvetica,sans-Serif\" font-size=\"14.00\" fill=\"#000000\">samples = 1</text>\n<text text-anchor=\"middle\" x=\"3873.5\" y=\"-7.8\" font-family=\"Helvetica,sans-Serif\" font-size=\"14.00\" fill=\"#000000\">value = 2.707</text>\n</g>\n<!-- 48&#45;&gt;49 -->\n<g id=\"edge49\" class=\"edge\">\n<title>48&#45;&gt;49</title>\n<path fill=\"none\" stroke=\"#000000\" d=\"M3973.2054,-88.9777C3957.5692,-79.1798 3940.5613,-68.5222 3925.0937,-58.8298\"/>\n<polygon fill=\"#000000\" stroke=\"#000000\" points=\"3926.519,-55.5926 3916.1867,-53.2485 3922.802,-61.5242 3926.519,-55.5926\"/>\n</g>\n<!-- 50 -->\n<g id=\"node51\" class=\"node\">\n<title>50</title>\n<polygon fill=\"#fefaf7\" stroke=\"#000000\" points=\"4107.5,-53 3963.5,-53 3963.5,0 4107.5,0 4107.5,-53\"/>\n<text text-anchor=\"middle\" x=\"4035.5\" y=\"-37.8\" font-family=\"Helvetica,sans-Serif\" font-size=\"14.00\" fill=\"#000000\">squared_error = 0.0</text>\n<text text-anchor=\"middle\" x=\"4035.5\" y=\"-22.8\" font-family=\"Helvetica,sans-Serif\" font-size=\"14.00\" fill=\"#000000\">samples = 1</text>\n<text text-anchor=\"middle\" x=\"4035.5\" y=\"-7.8\" font-family=\"Helvetica,sans-Serif\" font-size=\"14.00\" fill=\"#000000\">value = 2.865</text>\n</g>\n<!-- 48&#45;&gt;50 -->\n<g id=\"edge50\" class=\"edge\">\n<title>48&#45;&gt;50</title>\n<path fill=\"none\" stroke=\"#000000\" d=\"M4030.3205,-88.9777C4031.0113,-80.6449 4031.7537,-71.6903 4032.4545,-63.2364\"/>\n<polygon fill=\"#000000\" stroke=\"#000000\" points=\"4035.9443,-63.5035 4033.2825,-53.2485 4028.9682,-62.9251 4035.9443,-63.5035\"/>\n</g>\n<!-- 52 -->\n<g id=\"node53\" class=\"node\">\n<title>52</title>\n<polygon fill=\"#f4ccaf\" stroke=\"#000000\" points=\"4287,-53 4126,-53 4126,0 4287,0 4287,-53\"/>\n<text text-anchor=\"middle\" x=\"4206.5\" y=\"-37.8\" font-family=\"Helvetica,sans-Serif\" font-size=\"14.00\" fill=\"#000000\">squared_error = 0.236</text>\n<text text-anchor=\"middle\" x=\"4206.5\" y=\"-22.8\" font-family=\"Helvetica,sans-Serif\" font-size=\"14.00\" fill=\"#000000\">samples = 9</text>\n<text text-anchor=\"middle\" x=\"4206.5\" y=\"-7.8\" font-family=\"Helvetica,sans-Serif\" font-size=\"14.00\" fill=\"#000000\">value = 4.396</text>\n</g>\n<!-- 51&#45;&gt;52 -->\n<g id=\"edge52\" class=\"edge\">\n<title>51&#45;&gt;52</title>\n<path fill=\"none\" stroke=\"#000000\" d=\"M4211.6795,-88.9777C4210.9887,-80.6449 4210.2463,-71.6903 4209.5455,-63.2364\"/>\n<polygon fill=\"#000000\" stroke=\"#000000\" points=\"4213.0318,-62.9251 4208.7175,-53.2485 4206.0557,-63.5035 4213.0318,-62.9251\"/>\n</g>\n<!-- 53 -->\n<g id=\"node54\" class=\"node\">\n<title>53</title>\n<polygon fill=\"#fdf6f1\" stroke=\"#000000\" points=\"4449.5,-53 4305.5,-53 4305.5,0 4449.5,0 4449.5,-53\"/>\n<text text-anchor=\"middle\" x=\"4377.5\" y=\"-37.8\" font-family=\"Helvetica,sans-Serif\" font-size=\"14.00\" fill=\"#000000\">squared_error = 0.0</text>\n<text text-anchor=\"middle\" x=\"4377.5\" y=\"-22.8\" font-family=\"Helvetica,sans-Serif\" font-size=\"14.00\" fill=\"#000000\">samples = 1</text>\n<text text-anchor=\"middle\" x=\"4377.5\" y=\"-7.8\" font-family=\"Helvetica,sans-Serif\" font-size=\"14.00\" fill=\"#000000\">value = 3.011</text>\n</g>\n<!-- 51&#45;&gt;53 -->\n<g id=\"edge53\" class=\"edge\">\n<title>51&#45;&gt;53</title>\n<path fill=\"none\" stroke=\"#000000\" d=\"M4271.9677,-88.9777C4288.7496,-79.0424 4307.0246,-68.2232 4323.5786,-58.4228\"/>\n<polygon fill=\"#000000\" stroke=\"#000000\" points=\"4325.7558,-61.2013 4332.5778,-53.095 4322.1897,-55.1777 4325.7558,-61.2013\"/>\n</g>\n<!-- 55 -->\n<g id=\"node56\" class=\"node\">\n<title>55</title>\n<polygon fill=\"#f1ba92\" stroke=\"#000000\" points=\"4703,-157 4536,-157 4536,-89 4703,-89 4703,-157\"/>\n<text text-anchor=\"middle\" x=\"4619.5\" y=\"-141.8\" font-family=\"Helvetica,sans-Serif\" font-size=\"14.00\" fill=\"#000000\">총매출액 &lt;= 5650045.0</text>\n<text text-anchor=\"middle\" x=\"4619.5\" y=\"-126.8\" font-family=\"Helvetica,sans-Serif\" font-size=\"14.00\" fill=\"#000000\">squared_error = 0.181</text>\n<text text-anchor=\"middle\" x=\"4619.5\" y=\"-111.8\" font-family=\"Helvetica,sans-Serif\" font-size=\"14.00\" fill=\"#000000\">samples = 30</text>\n<text text-anchor=\"middle\" x=\"4619.5\" y=\"-96.8\" font-family=\"Helvetica,sans-Serif\" font-size=\"14.00\" fill=\"#000000\">value = 4.997</text>\n</g>\n<!-- 54&#45;&gt;55 -->\n<g id=\"edge55\" class=\"edge\">\n<title>54&#45;&gt;55</title>\n<path fill=\"none\" stroke=\"#000000\" d=\"M4619.5,-192.9465C4619.5,-184.776 4619.5,-175.9318 4619.5,-167.3697\"/>\n<polygon fill=\"#000000\" stroke=\"#000000\" points=\"4623.0001,-167.13 4619.5,-157.13 4616.0001,-167.13 4623.0001,-167.13\"/>\n</g>\n<!-- 58 -->\n<g id=\"node59\" class=\"node\">\n<title>58</title>\n<polygon fill=\"#f4c8a9\" stroke=\"#000000\" points=\"4977.5,-157 4801.5,-157 4801.5,-89 4977.5,-89 4977.5,-157\"/>\n<text text-anchor=\"middle\" x=\"4889.5\" y=\"-141.8\" font-family=\"Helvetica,sans-Serif\" font-size=\"14.00\" fill=\"#000000\">총매출액 &lt;= 13479630.0</text>\n<text text-anchor=\"middle\" x=\"4889.5\" y=\"-126.8\" font-family=\"Helvetica,sans-Serif\" font-size=\"14.00\" fill=\"#000000\">squared_error = 0.334</text>\n<text text-anchor=\"middle\" x=\"4889.5\" y=\"-111.8\" font-family=\"Helvetica,sans-Serif\" font-size=\"14.00\" fill=\"#000000\">samples = 94</text>\n<text text-anchor=\"middle\" x=\"4889.5\" y=\"-96.8\" font-family=\"Helvetica,sans-Serif\" font-size=\"14.00\" fill=\"#000000\">value = 4.518</text>\n</g>\n<!-- 54&#45;&gt;58 -->\n<g id=\"edge58\" class=\"edge\">\n<title>54&#45;&gt;58</title>\n<path fill=\"none\" stroke=\"#000000\" d=\"M4703.0806,-194.806C4731.1706,-183.9862 4762.7524,-171.8213 4791.8273,-160.6221\"/>\n<polygon fill=\"#000000\" stroke=\"#000000\" points=\"4793.0979,-163.8834 4801.1715,-157.0228 4790.5817,-157.3512 4793.0979,-163.8834\"/>\n</g>\n<!-- 56 -->\n<g id=\"node57\" class=\"node\">\n<title>56</title>\n<polygon fill=\"#fae7d9\" stroke=\"#000000\" points=\"4611.5,-53 4467.5,-53 4467.5,0 4611.5,0 4611.5,-53\"/>\n<text text-anchor=\"middle\" x=\"4539.5\" y=\"-37.8\" font-family=\"Helvetica,sans-Serif\" font-size=\"14.00\" fill=\"#000000\">squared_error = 0.0</text>\n<text text-anchor=\"middle\" x=\"4539.5\" y=\"-22.8\" font-family=\"Helvetica,sans-Serif\" font-size=\"14.00\" fill=\"#000000\">samples = 1</text>\n<text text-anchor=\"middle\" x=\"4539.5\" y=\"-7.8\" font-family=\"Helvetica,sans-Serif\" font-size=\"14.00\" fill=\"#000000\">value = 3.507</text>\n</g>\n<!-- 55&#45;&gt;56 -->\n<g id=\"edge56\" class=\"edge\">\n<title>55&#45;&gt;56</title>\n<path fill=\"none\" stroke=\"#000000\" d=\"M4591.295,-88.9777C4583.7796,-79.9123 4575.6542,-70.111 4568.117,-61.0192\"/>\n<polygon fill=\"#000000\" stroke=\"#000000\" points=\"4570.7516,-58.7133 4561.6749,-53.2485 4565.3626,-63.1808 4570.7516,-58.7133\"/>\n</g>\n<!-- 57 -->\n<g id=\"node58\" class=\"node\">\n<title>57</title>\n<polygon fill=\"#f0b890\" stroke=\"#000000\" points=\"4791,-53 4630,-53 4630,0 4791,0 4791,-53\"/>\n<text text-anchor=\"middle\" x=\"4710.5\" y=\"-37.8\" font-family=\"Helvetica,sans-Serif\" font-size=\"14.00\" fill=\"#000000\">squared_error = 0.108</text>\n<text text-anchor=\"middle\" x=\"4710.5\" y=\"-22.8\" font-family=\"Helvetica,sans-Serif\" font-size=\"14.00\" fill=\"#000000\">samples = 29</text>\n<text text-anchor=\"middle\" x=\"4710.5\" y=\"-7.8\" font-family=\"Helvetica,sans-Serif\" font-size=\"14.00\" fill=\"#000000\">value = 5.048</text>\n</g>\n<!-- 55&#45;&gt;57 -->\n<g id=\"edge57\" class=\"edge\">\n<title>55&#45;&gt;57</title>\n<path fill=\"none\" stroke=\"#000000\" d=\"M4651.5832,-88.9777C4660.2183,-79.8207 4669.5614,-69.9129 4678.2078,-60.744\"/>\n<polygon fill=\"#000000\" stroke=\"#000000\" points=\"4680.9617,-62.9251 4685.276,-53.2485 4675.8689,-58.1226 4680.9617,-62.9251\"/>\n</g>\n<!-- 59 -->\n<g id=\"node60\" class=\"node\">\n<title>59</title>\n<polygon fill=\"#f3c5a4\" stroke=\"#000000\" points=\"4970,-53 4809,-53 4809,0 4970,0 4970,-53\"/>\n<text text-anchor=\"middle\" x=\"4889.5\" y=\"-37.8\" font-family=\"Helvetica,sans-Serif\" font-size=\"14.00\" fill=\"#000000\">squared_error = 0.328</text>\n<text text-anchor=\"middle\" x=\"4889.5\" y=\"-22.8\" font-family=\"Helvetica,sans-Serif\" font-size=\"14.00\" fill=\"#000000\">samples = 70</text>\n<text text-anchor=\"middle\" x=\"4889.5\" y=\"-7.8\" font-family=\"Helvetica,sans-Serif\" font-size=\"14.00\" fill=\"#000000\">value = 4.617</text>\n</g>\n<!-- 58&#45;&gt;59 -->\n<g id=\"edge59\" class=\"edge\">\n<title>58&#45;&gt;59</title>\n<path fill=\"none\" stroke=\"#000000\" d=\"M4889.5,-88.9777C4889.5,-80.7364 4889.5,-71.887 4889.5,-63.5153\"/>\n<polygon fill=\"#000000\" stroke=\"#000000\" points=\"4893.0001,-63.2484 4889.5,-53.2485 4886.0001,-63.2485 4893.0001,-63.2484\"/>\n</g>\n<!-- 60 -->\n<g id=\"node61\" class=\"node\">\n<title>60</title>\n<polygon fill=\"#f5d1b7\" stroke=\"#000000\" points=\"5149,-53 4988,-53 4988,0 5149,0 5149,-53\"/>\n<text text-anchor=\"middle\" x=\"5068.5\" y=\"-37.8\" font-family=\"Helvetica,sans-Serif\" font-size=\"14.00\" fill=\"#000000\">squared_error = 0.241</text>\n<text text-anchor=\"middle\" x=\"5068.5\" y=\"-22.8\" font-family=\"Helvetica,sans-Serif\" font-size=\"14.00\" fill=\"#000000\">samples = 24</text>\n<text text-anchor=\"middle\" x=\"5068.5\" y=\"-7.8\" font-family=\"Helvetica,sans-Serif\" font-size=\"14.00\" fill=\"#000000\">value = 4.229</text>\n</g>\n<!-- 58&#45;&gt;60 -->\n<g id=\"edge60\" class=\"edge\">\n<title>58&#45;&gt;60</title>\n<path fill=\"none\" stroke=\"#000000\" d=\"M4952.6087,-88.9777C4971.3792,-78.8584 4991.8506,-67.8222 5010.2937,-57.8794\"/>\n<polygon fill=\"#000000\" stroke=\"#000000\" points=\"5012.0268,-60.9213 5019.1683,-53.095 5008.705,-54.7597 5012.0268,-60.9213\"/>\n</g>\n</g>\n</svg>\n"
          },
          "metadata": {},
          "execution_count": 55
        }
      ]
    },
    {
      "cell_type": "markdown",
      "source": [
        "#SVM : Support Vector Machine"
      ],
      "metadata": {
        "id": "ECwiEG0yWPCz"
      }
    },
    {
      "cell_type": "code",
      "source": [
        "X = df[['총매출액', '구매금액대', '할인권 사용 횟수']]\n",
        "Y = df[\"이탈여부\"]\n",
        "\n",
        "X_train,X_test,Y_train,Y_test=train_test_split(X,Y,test_size=0.3,random_state=0)\n",
        "\n",
        "smote = SMOTE(random_state=0)\n",
        "X_train, Y_train = smote.fit_resample(X_train, Y_train)\n",
        "\n",
        "from sklearn.svm import SVC \n",
        "\n",
        "SVC_model = SVC(C=1, gamma=1, random_state=0)\n",
        "SVC_model.fit(X_train, Y_train)\n",
        "Y_pred =SVC_model.predict(X_test)\n",
        "print(\"accuracy : {:.3f}\".format(SVC_model.score(X_train,Y_train)))\n",
        "print(classification_report(Y_test,Y_pred))\n",
        "\n",
        "#accuracy 값 : 1 =>  과적합 모델\n",
        "#C값 :이상치들을 포기하느냐 마느냐 / 낮게 만들면 이상치 포기, 높게 잡으면 이상치 포함 \n",
        "#gamma : 첨도 같은 것 / 감마가 커지면 데이터에 가깝고 뾰족하게 분류 , 적절한 값은 데이터의 성능을 보고 판단"
      ],
      "metadata": {
        "colab": {
          "base_uri": "https://localhost:8080/"
        },
        "id": "Yg2M6PM4WKL9",
        "outputId": "e95b0a93-52b0-4b0a-ea94-898deb1c380f"
      },
      "execution_count": null,
      "outputs": [
        {
          "output_type": "stream",
          "name": "stdout",
          "text": [
            "accuracy : 1.000\n",
            "              precision    recall  f1-score   support\n",
            "\n",
            "           0       0.73      1.00      0.84       219\n",
            "           1       0.00      0.00      0.00        81\n",
            "\n",
            "    accuracy                           0.73       300\n",
            "   macro avg       0.36      0.50      0.42       300\n",
            "weighted avg       0.53      0.73      0.62       300\n",
            "\n"
          ]
        },
        {
          "output_type": "stream",
          "name": "stderr",
          "text": [
            "/usr/local/lib/python3.8/dist-packages/sklearn/metrics/_classification.py:1318: UndefinedMetricWarning: Precision and F-score are ill-defined and being set to 0.0 in labels with no predicted samples. Use `zero_division` parameter to control this behavior.\n",
            "  _warn_prf(average, modifier, msg_start, len(result))\n",
            "/usr/local/lib/python3.8/dist-packages/sklearn/metrics/_classification.py:1318: UndefinedMetricWarning: Precision and F-score are ill-defined and being set to 0.0 in labels with no predicted samples. Use `zero_division` parameter to control this behavior.\n",
            "  _warn_prf(average, modifier, msg_start, len(result))\n",
            "/usr/local/lib/python3.8/dist-packages/sklearn/metrics/_classification.py:1318: UndefinedMetricWarning: Precision and F-score are ill-defined and being set to 0.0 in labels with no predicted samples. Use `zero_division` parameter to control this behavior.\n",
            "  _warn_prf(average, modifier, msg_start, len(result))\n"
          ]
        }
      ]
    },
    {
      "cell_type": "code",
      "source": [
        "X = df[['구매금액대','할인권 사용 횟수']]\n",
        "Y = np.log1p(df[\"1회 평균매출액\"])\n",
        "\n",
        "X_train,X_test,Y_train,Y_test=train_test_split(X,Y,test_size=0.3,random_state=0)\n",
        "\n",
        "scaler = StandardScaler().fit(X_train,Y_train)\n",
        "X_test = scaler.transform(X_test)\n",
        "X_train = scaler.transform(X_train)\n",
        "\n",
        "from sklearn.svm import SVR\n",
        "\n",
        "SVR_model = SVR(C=1, kernel = \"linear\", epsilon = 0.1)\n",
        "SVR_model.fit(X_train, Y_train)\n",
        "Y_pred =SVR_model.predict(X_test)\n",
        "print(\"accuracy : {:.3f}\".format(SVR_model.score(X_train,Y_train)))\n",
        "rmse = sqrt(mean_squared_error(Y_test, Y_pred))\n",
        "print(\"RMSE : {:.3f}\".format(rmse))\n",
        "print(SVR_model.coef_)"
      ],
      "metadata": {
        "colab": {
          "base_uri": "https://localhost:8080/"
        },
        "id": "HTuOxs_wWd-0",
        "outputId": "e4642ec7-c214-4919-972c-0becf096758d"
      },
      "execution_count": null,
      "outputs": [
        {
          "output_type": "stream",
          "name": "stdout",
          "text": [
            "accuracy : 0.089\n",
            "RMSE : 0.698\n",
            "[[0.20019801 0.04629322]]\n"
          ]
        }
      ]
    },
    {
      "cell_type": "markdown",
      "source": [
        "#나이브 베이즈(Naive Bayes)"
      ],
      "metadata": {
        "id": "3SQijzts22oD"
      }
    },
    {
      "cell_type": "code",
      "source": [
        "X = df[[\"총매출액\",\"구매금액대\",\"할인권 사용 횟수\"]]\n",
        "Y = df[\"할인민감여부\"]\n",
        "\n",
        "X_train, X_test, Y_train, Y_test = train_test_split(X, Y, test_size=0.3, random_state=0)\n",
        "\n",
        "smote = SMOTE(random_state=0)\n",
        "X_train, Y_train = smote.fit_resample(X_train, Y_train)\n",
        "\n",
        "from sklearn.naive_bayes import GaussianNB\n",
        "\n",
        "NB_model = GaussianNB(var_smoothing = 0) \n",
        "NB_model.fit(X_train, Y_train)\n",
        "Y_pred =NB_model.predict(X_test)\n",
        "print(\"accuracy : {:.3f}\".format(NB_model.score(X_train,Y_train)))\n",
        "print(classification_report(Y_test, Y_pred))"
      ],
      "metadata": {
        "colab": {
          "base_uri": "https://localhost:8080/"
        },
        "id": "5qNQRoQj28gV",
        "outputId": "80f00d8f-e592-41d0-cdaa-c82ee423df5d"
      },
      "execution_count": null,
      "outputs": [
        {
          "output_type": "stream",
          "name": "stdout",
          "text": [
            "accuracy : 0.661\n",
            "              precision    recall  f1-score   support\n",
            "\n",
            "           0       0.70      0.92      0.79       177\n",
            "           1       0.79      0.42      0.55       123\n",
            "\n",
            "    accuracy                           0.72       300\n",
            "   macro avg       0.74      0.67      0.67       300\n",
            "weighted avg       0.73      0.72      0.69       300\n",
            "\n"
          ]
        }
      ]
    },
    {
      "cell_type": "code",
      "source": [
        "#numeric value(Y)\n",
        "\n",
        "X = df[df.이탈여부==0][[\"총매출액\",\"구매금액대\",\"할인권 사용 횟수\",\"총 할인 금액\",\"구매유형\",\"구매카테고리수\",\"성별\",\"거주지역\"]]\n",
        "Y =np.log1p(df[df.이탈여부==0][\"평균 구매주기\"])\n",
        "#로그는 Y가 연속형일 때만 쓴다이\n",
        "\n",
        "X_train, X_test, Y_train, Y_test = train_test_split(X, Y, test_size=0.3, random_state=0)\n",
        "\n",
        "from sklearn.linear_model import BayesianRidge\n",
        "\n",
        "NB_model_reg = BayesianRidge(alpha_1 = 0.001,lambda_1=0.001)\n",
        "NB_model_reg.fit(X_train, Y_train)\n",
        "Y_pred =DT_model_reg.predict(X_test)\n",
        "print(\"accuracy : {:.3f}\".format(NB_model_reg.score(X_train, Y_train)))\n",
        "rmse = sqrt(mean_squared_error(Y_test, Y_pred))\n",
        "print(\"rmse : {:.3f}\".format(rmse))\n",
        "print(NB_model_reg.coef_)"
      ],
      "metadata": {
        "colab": {
          "base_uri": "https://localhost:8080/"
        },
        "id": "YVN1p-Jz4md6",
        "outputId": "913d50ab-b599-4bcf-8f4c-edba07b93253"
      },
      "execution_count": null,
      "outputs": [
        {
          "output_type": "stream",
          "name": "stdout",
          "text": [
            "accuracy : 0.284\n",
            "rmse : 3.367\n",
            "[-5.53099958e-09 -2.22146741e-02  5.83806583e-04 -5.13836053e-08\n",
            " -5.44323948e-03 -1.72715338e-02  1.04643592e-02  1.78568992e-03]\n"
          ]
        }
      ]
    },
    {
      "cell_type": "markdown",
      "source": [
        "#모형 성능비교"
      ],
      "metadata": {
        "id": "yVChT46_GYLY"
      }
    },
    {
      "cell_type": "code",
      "source": [
        "X1 = df[[\"총매출액\",\"구매금액대\",\"할인권 사용 횟수\",\"총 할인 금액\",\"구매유형\",\"구매카테고리수\",\"성별\",\"거주지역\"]]\n",
        "Y1 = df[\"이탈여부\"]\n",
        " "
      ],
      "metadata": {
        "id": "CFRVHbBwGW52"
      },
      "execution_count": null,
      "outputs": []
    },
    {
      "cell_type": "code",
      "source": [
        "X.columns"
      ],
      "metadata": {
        "colab": {
          "base_uri": "https://localhost:8080/"
        },
        "id": "eZKBChUQIKg4",
        "outputId": "6d0425ce-4856-4207-e2ed-bba9b0c364f0"
      },
      "execution_count": null,
      "outputs": [
        {
          "output_type": "execute_result",
          "data": {
            "text/plain": [
              "Index(['총매출액', '구매금액대', '할인권 사용 횟수', '총 할인 금액', '구매유형', '구매카테고리수', '성별',\n",
              "       '거주지역'],\n",
              "      dtype='object')"
            ]
          },
          "metadata": {},
          "execution_count": 61
        }
      ]
    },
    {
      "cell_type": "code",
      "source": [
        "X_train, X_test, Y_train, Y_test = train_test_split(X1, Y1, test_size=0.3, random_state=0)\n",
        "\n",
        "#Column transform\n",
        "ct = ColumnTransformer([(\"scaling\",StandardScaler(),['총매출액', '구매금액대', '할인권 사용 횟수', '총 할인 금액']), #스케일링: 숫자. 원핫인코딩:범주\n",
        "                        (\"onehot\",OneHotEncoder(sparse=False),['구매유형', '구매카테고리수', '성별',\n",
        "       '거주지역'])])\n",
        "\n",
        "ct.fit(X_train)\n",
        "X_train = ct.transform(X_train)\n",
        "X_test = ct.transform(X_test)"
      ],
      "metadata": {
        "id": "KPjNp7GJH0Ql",
        "colab": {
          "base_uri": "https://localhost:8080/",
          "height": 245
        },
        "outputId": "1738c7dd-3631-46fb-a05a-96e07051d96f"
      },
      "execution_count": null,
      "outputs": [
        {
          "output_type": "error",
          "ename": "NameError",
          "evalue": "ignored",
          "traceback": [
            "\u001b[0;31m---------------------------------------------------------------------------\u001b[0m",
            "\u001b[0;31mNameError\u001b[0m                                 Traceback (most recent call last)",
            "\u001b[0;32m<ipython-input-1-414bf8fe9d51>\u001b[0m in \u001b[0;36m<module>\u001b[0;34m\u001b[0m\n\u001b[0;32m----> 1\u001b[0;31m \u001b[0mX_train\u001b[0m\u001b[0;34m,\u001b[0m \u001b[0mX_test\u001b[0m\u001b[0;34m,\u001b[0m \u001b[0mY_train\u001b[0m\u001b[0;34m,\u001b[0m \u001b[0mY_test\u001b[0m \u001b[0;34m=\u001b[0m \u001b[0mtrain_test_split\u001b[0m\u001b[0;34m(\u001b[0m\u001b[0mX1\u001b[0m\u001b[0;34m,\u001b[0m \u001b[0mY1\u001b[0m\u001b[0;34m,\u001b[0m \u001b[0mtest_size\u001b[0m\u001b[0;34m=\u001b[0m\u001b[0;36m0.3\u001b[0m\u001b[0;34m,\u001b[0m \u001b[0mrandom_state\u001b[0m\u001b[0;34m=\u001b[0m\u001b[0;36m0\u001b[0m\u001b[0;34m)\u001b[0m\u001b[0;34m\u001b[0m\u001b[0;34m\u001b[0m\u001b[0m\n\u001b[0m\u001b[1;32m      2\u001b[0m \u001b[0;34m\u001b[0m\u001b[0m\n\u001b[1;32m      3\u001b[0m \u001b[0;31m#Column transform\u001b[0m\u001b[0;34m\u001b[0m\u001b[0;34m\u001b[0m\u001b[0;34m\u001b[0m\u001b[0m\n\u001b[1;32m      4\u001b[0m ct = ColumnTransformer([(\"scaling\",StandardScaler(),['총매출액', '구매금액대', '할인권 사용 횟수', '총 할인 금액']), #스케일링: 숫자. 원핫인코딩:범주\n\u001b[1;32m      5\u001b[0m                         (\"onehot\",OneHotEncoder(sparse=False),['구매유형', '구매카테고리수', '성별','거주지역'])])\n",
            "\u001b[0;31mNameError\u001b[0m: name 'train_test_split' is not defined"
          ]
        }
      ]
    },
    {
      "cell_type": "code",
      "source": [
        "logit_model = LogisticRegression(C=1, random_state=0)\n",
        "Knn_model = KNeighborsClassifier(n_neighbors=9)\n",
        "dt_model = DecisionTreeClassifier(random_state=0, max_depth=.3)"
      ],
      "metadata": {
        "id": "pmbjFFt9Ipwp"
      },
      "execution_count": null,
      "outputs": []
    },
    {
      "cell_type": "code",
      "source": [
        "logit_model.fit(X_train,Y_train)\n",
        "knn_model.fit(X_train, Y_train)\n",
        "dt_model.fit(X_train, Y_train)"
      ],
      "metadata": {
        "colab": {
          "base_uri": "https://localhost:8080/"
        },
        "id": "Y2FnmfMqMC5n",
        "outputId": "51431bb5-6ae1-46cb-dc59-44ea4a387423"
      },
      "execution_count": null,
      "outputs": [
        {
          "output_type": "execute_result",
          "data": {
            "text/plain": [
              "DecisionTreeClassifier(max_depth=0.3, random_state=0)"
            ]
          },
          "metadata": {},
          "execution_count": 64
        }
      ]
    },
    {
      "cell_type": "code",
      "source": [
        "logit_Y_pred = logit_model.predict(X_test)\n",
        "knn_Y_pred = knn_model.predict(X_test)\n",
        "dt_Y_pred = dt_model.predict(X_test)"
      ],
      "metadata": {
        "id": "nJCLysErJFI8"
      },
      "execution_count": null,
      "outputs": []
    },
    {
      "cell_type": "code",
      "source": [
        "print(\"logit score :{:.3f}\".format(logit_model.score(X_train, Y_train)))\n",
        "print(\"knn score : {:.3f}\".format(knn_model.score(X_train, Y_train)))\n",
        "print(\"dt score : {:.3f}\".format(dt_model.score(X_train,Y_train)))"
      ],
      "metadata": {
        "colab": {
          "base_uri": "https://localhost:8080/"
        },
        "id": "Rlsc85zkJuLS",
        "outputId": "df4886d0-6247-416d-b3a0-85381f415d52"
      },
      "execution_count": null,
      "outputs": [
        {
          "output_type": "stream",
          "name": "stdout",
          "text": [
            "logit score :0.697\n",
            "knn score : 0.704\n",
            "dt score : 0.687\n"
          ]
        }
      ]
    },
    {
      "cell_type": "code",
      "source": [
        "print(classification_report(Y_test,logit_Y_pred))\n",
        "print(classification_report(Y_test, knn_Y_pred))\n",
        "print(classification_report(Y_test, dt_Y_pred))"
      ],
      "metadata": {
        "colab": {
          "base_uri": "https://localhost:8080/"
        },
        "id": "pRziXzU4Ke3b",
        "outputId": "0b20f649-a67e-4d4e-bd2f-f8b19ab7b00e"
      },
      "execution_count": null,
      "outputs": [
        {
          "output_type": "stream",
          "name": "stdout",
          "text": [
            "              precision    recall  f1-score   support\n",
            "\n",
            "           0       0.76      0.97      0.85       219\n",
            "           1       0.65      0.16      0.26        81\n",
            "\n",
            "    accuracy                           0.75       300\n",
            "   macro avg       0.70      0.56      0.55       300\n",
            "weighted avg       0.73      0.75      0.69       300\n",
            "\n",
            "              precision    recall  f1-score   support\n",
            "\n",
            "           0       0.74      0.86      0.80       219\n",
            "           1       0.32      0.17      0.22        81\n",
            "\n",
            "    accuracy                           0.68       300\n",
            "   macro avg       0.53      0.52      0.51       300\n",
            "weighted avg       0.62      0.68      0.64       300\n",
            "\n",
            "              precision    recall  f1-score   support\n",
            "\n",
            "           0       0.73      1.00      0.84       219\n",
            "           1       0.00      0.00      0.00        81\n",
            "\n",
            "    accuracy                           0.73       300\n",
            "   macro avg       0.36      0.50      0.42       300\n",
            "weighted avg       0.53      0.73      0.62       300\n",
            "\n"
          ]
        },
        {
          "output_type": "stream",
          "name": "stderr",
          "text": [
            "/usr/local/lib/python3.8/dist-packages/sklearn/metrics/_classification.py:1318: UndefinedMetricWarning: Precision and F-score are ill-defined and being set to 0.0 in labels with no predicted samples. Use `zero_division` parameter to control this behavior.\n",
            "  _warn_prf(average, modifier, msg_start, len(result))\n",
            "/usr/local/lib/python3.8/dist-packages/sklearn/metrics/_classification.py:1318: UndefinedMetricWarning: Precision and F-score are ill-defined and being set to 0.0 in labels with no predicted samples. Use `zero_division` parameter to control this behavior.\n",
            "  _warn_prf(average, modifier, msg_start, len(result))\n",
            "/usr/local/lib/python3.8/dist-packages/sklearn/metrics/_classification.py:1318: UndefinedMetricWarning: Precision and F-score are ill-defined and being set to 0.0 in labels with no predicted samples. Use `zero_division` parameter to control this behavior.\n",
            "  _warn_prf(average, modifier, msg_start, len(result))\n"
          ]
        }
      ]
    },
    {
      "cell_type": "code",
      "source": [
        "#plot\n",
        "\n",
        "from sklearn.metrics import roc_curve\n",
        "from sklearn.metrics import roc_auc_score\n",
        "from matplotlib import pyplot as plt\n",
        "\n",
        "fpr1, tpr1, threshold = roc_curve(Y_test, logit_model.decision_function(X_test))\n",
        "fpr2, tpr2, threshold = roc_curve(Y_test, knn_model.predict_proba(X_test)[:,1])\n",
        "fpr3, tpr3, threshold = roc_curve(Y_test, dt_model.predict_proba(X_test)[:,1])\n",
        "#roc_curve : fpr, tpr, threshold 세가지 값이 같이 나옴\n",
        "\n",
        "#ROC\n",
        "plt.plot(fpr1, tpr1, 'o-', ms=2, label = \"logit\")\n",
        "plt.plot(fpr2, tpr2, 'o-', ms=2, label = \"knn\")\n",
        "plt.plot(fpr3, tpr3, 'o-', ms=2, label = \"dt\")\n",
        "plt.plot([0,1], [0,1], \"k--\", label = \"random guess\" )\n",
        "\n",
        "plt.legend()\n",
        "plt.xlabel(\"False positive rate\")\n",
        "plt.ylabel(\"True positive rate\")\n",
        "plt.title(\"ROC\")\n",
        "plt.show()"
      ],
      "metadata": {
        "colab": {
          "base_uri": "https://localhost:8080/",
          "height": 295
        },
        "id": "fMNGIJcKRP3a",
        "outputId": "6e542570-7cf0-43fa-bb62-f844571c1309"
      },
      "execution_count": null,
      "outputs": [
        {
          "output_type": "display_data",
          "data": {
            "text/plain": [
              "<Figure size 432x288 with 1 Axes>"
            ],
            "image/png": "[encoded data removed]"
          },
          "metadata": {
            "needs_background": "light"
          }
        }
      ]
    },
    {
      "cell_type": "code",
      "source": [
        "logit_model_auc = roc_auc_score(Y_test, logit_model.decision_function(X_test))\n",
        "knn_model_auc = roc_auc_score(Y_test, knn_model.predict_proba(X_test)[:,1])\n",
        "dt_model_auc = roc_auc_score(Y_test, dt_model.predict_proba(X_test)[:,1])"
      ],
      "metadata": {
        "id": "czx2BjlDTn2V"
      },
      "execution_count": null,
      "outputs": []
    },
    {
      "cell_type": "code",
      "source": [
        "print(\"logit AUC score:{:.3f}\".format(logit_model_auc))\n",
        "print(\"knn AUC score:{:.3f}\".format(knn_model_auc))\n",
        "print(\"dt AUC score:{:.3f}\".format(dt_model_auc))"
      ],
      "metadata": {
        "colab": {
          "base_uri": "https://localhost:8080/"
        },
        "id": "nG0LfdNgUhBG",
        "outputId": "aadd2071-2b34-443a-9a31-2a34c5b25369"
      },
      "execution_count": null,
      "outputs": [
        {
          "output_type": "stream",
          "name": "stdout",
          "text": [
            "logit AUC score:0.659\n",
            "knn AUC score:0.572\n",
            "dt AUC score:0.500\n"
          ]
        }
      ]
    },
    {
      "cell_type": "code",
      "source": [],
      "metadata": {
        "id": "zm7o1N4OIjai"
      },
      "execution_count": null,
      "outputs": []
    }
  ]
}